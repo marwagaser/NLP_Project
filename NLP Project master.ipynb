{
 "cells": [
  {
   "cell_type": "code",
   "execution_count": 3,
   "metadata": {},
   "outputs": [
    {
     "name": "stderr",
     "output_type": "stream",
     "text": [
      "[nltk_data] Downloading package stopwords to\n",
      "[nltk_data]     C:\\Users\\HP\\AppData\\Roaming\\nltk_data...\n",
      "[nltk_data]   Package stopwords is already up-to-date!\n",
      "[nltk_data] Downloading package punkt to\n",
      "[nltk_data]     C:\\Users\\HP\\AppData\\Roaming\\nltk_data...\n",
      "[nltk_data]   Package punkt is already up-to-date!\n",
      "[nltk_data] Downloading package wordnet to\n",
      "[nltk_data]     C:\\Users\\HP\\AppData\\Roaming\\nltk_data...\n",
      "[nltk_data]   Package wordnet is already up-to-date!\n"
     ]
    }
   ],
   "source": [
    "import nltk\n",
    "import pandas as pd # data processing, CSV file I/O (e.g. pd.read_csv)\n",
    "import re #import the regular expression library\n",
    "import string\n",
    "import os\n",
    "import json\n",
    "from sklearn.feature_extraction.text import CountVectorizer, TfidfVectorizer\n",
    "from sklearn.metrics.pairwise import cosine_similarity\n",
    "from sklearn.cluster import MiniBatchKMeans\n",
    "from sklearn.datasets import load_files\n",
    "from nltk import pos_tag\n",
    "from nltk.tokenize import RegexpTokenizer\n",
    "from tqdm import tqdm\n",
    "from nltk.corpus import stopwords #import the stopwords from the ntlk.corpus library\n",
    "nltk.download('stopwords')\n",
    "from nltk.tokenize import word_tokenize #import the word_tokenize method, which is used to turn sentences into words\"\n",
    "nltk.download('punkt')\n",
    "from collections import Counter\n",
    "from nltk.stem import WordNetLemmatizer, PorterStemmer\n",
    "nltk.download('wordnet')\n",
    "import numpy as np\n",
    "import spacy\n",
    "from spacy.lang.en.stop_words import STOP_WORDS\n",
    "import en_core_sci_lg  # model downloaded in previous step"
   ]
  },
  {
   "cell_type": "code",
   "execution_count": 4,
   "metadata": {
    "_cell_guid": "b1076dfc-b9ad-4769-8c92-a6c4dae69d19",
    "_uuid": "8f2839f25d086af736a60e9eeb907d3b93b6e0e5"
   },
   "outputs": [
    {
     "name": "stderr",
     "output_type": "stream",
     "text": [
      "100%|██████████| 1934/1934 [01:02<00:00, 31.13it/s]\n"
     ]
    }
   ],
   "source": [
    "FullPaper=[]\n",
    "directories = [\"biorxiv_medrxiv\"]\n",
    "for directory in directories: #for each of the three folders carrying the json format of different research papers\n",
    "    for file in tqdm(os.listdir(f\"{directory}/{directory}/pdf_json\")): #for every json file\n",
    "        file_path=f\"{directory}/{directory}/pdf_json/{file}\" #set the file path to the file_path variable \n",
    "        paper = json.load(open(file_path,\"rb\"))\n",
    "        title = paper['metadata']['title'] \n",
    "        try:\n",
    "            abstract = paper['abstract']\n",
    "        except:\n",
    "            abstarct=\"\"                \n",
    "        full_text=\"\"     \n",
    "        \n",
    "        for text in paper['body_text']:\n",
    "            full_text +=text['text'] +'\\n\\n' \n",
    "        FullPaper.append([title,abstract,full_text])\n",
    "        \n",
    "FullPaperDataframe=pd.DataFrame(FullPaper,columns=['title','abstract','full_text'])"
   ]
  },
  {
   "cell_type": "markdown",
   "metadata": {},
   "source": [
    "> Our aim is to address these points:\n",
    "* Capabilities to discover a therapeutic (not vaccine) for the disease, and clinical effectiveness studies to discover therapeutics, to include antiviral agents."
   ]
  },
  {
   "cell_type": "code",
   "execution_count": 68,
   "metadata": {},
   "outputs": [
    {
     "name": "stderr",
     "output_type": "stream",
     "text": [
      "100%|██████████| 100/100 [07:55<00:00,  4.75s/it]\n"
     ]
    }
   ],
   "source": [
    "full_text = FullPaperDataframe['full_text'].head(100)\n",
    "clean_text = [] #a list which will hold all the bodies of the papers after being stripped out of stopwords\n",
    "wnl = WordNetLemmatizer()\n",
    "porter = PorterStemmer()\n",
    "# punctuation_regex = string.punctuation\n",
    "# punctuation_regex = punctuation_regex.replace(\"-\", \"\") # keep the hyphens\n",
    "# pattern = r\"[{}]\".format(punctuation_regex) # generate the regex pattern\n",
    "pattern = \"\"\"!\"#$%&'()*+,.:;<=>?@[\\]^`{|}~\"\"\" #the pattern which will account for punctuation, and will later be used to remove them\n",
    "#cleaning the data and removing stop words\n",
    "for val in  tqdm(full_text):\n",
    "        body_tokens = word_tokenize(val)\n",
    "        paper_body_without_stopwords = [token.lower() for token in body_tokens if not token.lower() in stopwords.words('english') and nltk.pos_tag([token.lower()])!='PRP'] #remove the stop words in the body and return a list\n",
    "        clean_string = ' '.join(paper_body_without_stopwords).lower() #convert the list into string\n",
    "        clean_string = re.sub(rf\"[{pattern}]\", '', clean_string)#remove punctuation except for hyphens\n",
    "        clean_string = re.sub(r\"\\bthe\\b\", r\"\", clean_string) #remove the\n",
    "        clean_string = re.sub(r'\\bwe\\b', '',clean_string ) #remove the pronoun we\n",
    "        clean_string = re.sub(r'\\bit\\b', '',clean_string )#remove the pronoun it\n",
    "        clean_string = re.sub(r'\\bthey\\b', '',clean_string )#remove the pronoun they\n",
    "        clean_string = re.sub(r'\\bcopyright\\b', '',clean_string )#remove the word copyright\n",
    "        clean_string = re.sub(r'\\bhttps\\b', '',clean_string )#remove the word https\n",
    "        clean_string = re.sub(r'\\bet\\b', '',clean_string )#remove the word et\n",
    "        clean_string = re.sub(r'\\bal\\b', '',clean_string )#remove the word al\n",
    "        clean_string = re.sub(r'\\bpreprint\\b', '',clean_string )#remove the word preprint\n",
    "        clean_string = re.sub(r'\\bthis\\b', '',clean_string )#remove the word this\n",
    "        clean_string = re.sub(r'\\bthese\\b', '',clean_string )#remove the word these\n",
    "        clean_string = re.sub(r'\\balso\\b', '',clean_string )#remove the word also\n",
    "        clean_string = re.sub(r'\\bhowever\\b', '',clean_string )#remove the word however\n",
    "        clean_string = re.sub(r'\\balthough\\b', '',clean_string )#remove the word although\n",
    "        clean_string = re.sub(r'\\bamong\\b', '',clean_string )#remove the word among\n",
    "        clean_string = re.sub(r'\\bin\\b', '',clean_string )#remove the preposition in\n",
    "        clean_string = re.sub(r'\\bmedrxiv\\b', '',clean_string )#remove the word medrxiv\n",
    "        clean_string = re.sub(r'\\bbiorxiv\\b', '',clean_string )#remove the word mbiorxiv\n",
    "        clean_string = re.sub(r'\\blicense\\b', '',clean_string )#remove the word license\n",
    "        clean_string = re.sub(r'\\bwithout\\b', '',clean_string )#remove the word without\n",
    "        clean_string = re.sub(r'\\bfig\\b', '',clean_string )#remove the word fig\n",
    "        clean_string = re.sub(r'\\bfigure\\b', '', clean_string)#remove the word figure\n",
    "        clean_string = re.sub(r'\\b[a-zA-Z]\\b', '', clean_string)#remove all the single letters      \n",
    "\n",
    "        clean_string = re.sub(r'^\\d+\\s|\\s\\d+\\s|\\s\\d+$', '', clean_string) #remove any digit that is not part of a word\n",
    "        clean_text.append(clean_string) #add the string to the list \n",
    "stemmed_text=[] # a list which will contain the stemmed bodies of all docs      \n",
    "for val in clean_text: #for the body (which was stripped out of stop words) of each paper\n",
    "    stemmed_val=\"\" #create an empty string\n",
    "    words = val.split(' ') #split body of paper on spaces\n",
    "    for word in words: #for each word in the body\n",
    "        if(word!=\"\"): #if the word is not an empty string\n",
    "            if (word==\"coronaviruses\"):#since the stem and lemmatize functions do not recognize the word coronaviruses as the plural of coronavirus, a conidition was created\n",
    "                word =\"coronavirus\"\n",
    "            stem_lemma =wnl.lemmatize(word) if wnl.lemmatize(word).endswith('e') else porter.stem(word)\n",
    "            stemmed_val+=stem_lemma+\" \" #stem/lemmatize the word and concat it to the string stemmed_val\n",
    "    stemmed_text.append(stemmed_val) #add the string stemmed_val to the list which will contain the stemmed bodies of all docs  "
   ]
  },
  {
   "cell_type": "code",
   "execution_count": 69,
   "metadata": {},
   "outputs": [],
   "source": [
    "# this cell is no longer needed and is kept for reference\n",
    "\n",
    "\n",
    "text = ' '.join(stemmed_text) #convert all the stemmed bodies into one string containing all the stemmed bodies of all papers \n",
    "s=text.split(' ')#split the combination of papers body on space\n",
    "vocab_count = Counter(s)# count the number of vocab (unique words)\n",
    "most_occur = vocab_count.most_common(200) #get the most common 200 words\n",
    "#print(most_occur) #print the most common 200 words"
   ]
  },
  {
   "cell_type": "code",
   "execution_count": 70,
   "metadata": {},
   "outputs": [
    {
     "name": "stdout",
     "output_type": "stream",
     "text": [
      "[('02', 0), ('03', 1), ('08', 2), ('10', 3), ('100', 4), ('11', 5), ('12', 6), ('13', 7), ('14', 8), ('15', 9), ('16', 10), ('17', 11), ('18', 12), ('19', 13), ('1a', 14), ('1b', 15), ('1c', 16), ('1d', 17), ('1e', 18), ('1f', 19), ('20', 20), ('2019', 21), ('2020', 22), ('21', 23), ('22', 24), ('229e', 25), ('23', 26), ('24', 27), ('25', 28), ('26', 29), ('28', 30), ('29', 31), ('2a', 32), ('2b', 33), ('2c', 34), ('2d', 35), ('2e', 36), ('30', 37), ('34', 38), ('35', 39), ('36', 40), ('37', 41), ('38', 42), ('3a', 43), ('3b', 44), ('3c', 45), ('3d', 46), ('3e', 47), ('40', 48), ('48', 49), ('4a', 50), ('4b', 51), ('4c', 52), ('4d', 53), ('4e', 54), ('50', 55), ('56', 56), ('5a', 57), ('5b', 58), ('5c', 59), ('5d', 60), ('5e', 61), ('60', 62), ('64', 63), ('6b', 64), ('72', 65), ('80', 66), ('aa', 67), ('abil', 68), ('able', 69), ('abnorm', 70), ('above', 71), ('absence', 72), ('absent', 73), ('absolute', 74), ('abstract', 75), ('abund', 76), ('abundance', 77), ('academ', 78), ('acceler', 79), ('accept', 80), ('acceptable', 81), ('access', 82), ('accessible', 83), ('accord', 84), ('accordingli', 85), ('account', 86), ('accumul', 87), ('accur', 88), ('accuraci', 89), ('accurate', 90), ('ace2', 91), ('achiev', 92), ('achieve', 93), ('acid', 94), ('acknowledge', 95), ('acquir', 96), ('across', 97), ('act', 98), ('action', 99), ('activ', 100), ('active', 101), ('actual', 102), ('acute', 103), ('ad', 104), ('adapt', 105), ('adaptive', 106), ('add', 107), ('addit', 108), ('address', 109), ('adjac', 110), ('adjust', 111), ('administr', 112), ('admiss', 113), ('admit', 114), ('adopt', 115), ('adult', 116), ('advanc', 117), ('advance', 118), ('advantage', 119), ('advice', 120), ('affect', 121), ('affin', 122), ('aforement', 123), ('african', 124), ('agarose', 125), ('age', 126), ('agent', 127), ('aggreg', 128), ('aggregate', 129), ('agreement', 130), ('aid', 131), ('aim', 132), ('air', 133), ('alanine', 134), ('albeit', 135), ('aldrich', 136), ('algorithm', 137), ('align', 138), ('aliquot', 139), ('allow', 140), ('almost', 141), ('alone', 142), ('along', 143), ('alreadi', 144), ('alter', 145), ('altern', 146), ('alternative', 147), ('alveolar', 148), ('alway', 149), ('ambigu', 150), ('american', 151), ('amino', 152), ('amongst', 153), ('amount', 154), ('amplicon', 155), ('amplif', 156), ('amplifi', 157), ('analog', 158), ('analys', 159), ('analyse', 160), ('analyt', 161), ('analyz', 162), ('analyze', 163), ('ancestor', 164), ('anchor', 165), ('and', 166), ('angiotensin', 167), ('anim', 168), ('annot', 169), ('announc', 170), ('anonym', 171), ('anoth', 172), ('anova', 173), ('answer', 174), ('anti', 175), ('antibodi', 176), ('anticip', 177), ('antigen', 178), ('antivir', 179), ('appar', 180), ('appear', 181), ('appendix', 182), ('appli', 183), ('applic', 184), ('applicable', 185), ('approach', 186), ('appropriate', 187), ('approv', 188), ('approxim', 189), ('approximate', 190), ('april', 191), ('architecture', 192), ('ard', 193), ('area', 194), ('argu', 195), ('argue', 196), ('aris', 197), ('around', 198), ('array', 199), ('arriv', 200), ('arrow', 201), ('article', 202), ('artifici', 203), ('asia', 204), ('asian', 205), ('ask', 206), ('aspect', 207), ('assay', 208), ('assembl', 209), ('assess', 210), ('assign', 211), ('associ', 212), ('associate', 213), ('assum', 214), ('assume', 215), ('assumpt', 216), ('asymptomat', 217), ('atom', 218), ('attach', 219), ('attack', 220), ('attempt', 221), ('attent', 222), ('attenu', 223), ('attractive', 224), ('attribut', 225), ('autoimmune', 226), ('autom', 227), ('automat', 228), ('avail', 229), ('averag', 230), ('average', 231), ('avoid', 232), ('awar', 233), ('axi', 234), ('back', 235), ('background', 236), ('bacteri', 237), ('bacteria', 238), ('baidu', 239), ('balance', 240), ('ban', 241), ('band', 242), ('bar', 243), ('barcod', 244), ('bas', 245), ('baseline', 246), ('basi', 247), ('basic', 248), ('bat', 249), ('batch', 250), ('bayesian', 251), ('bead', 252), ('bear', 253), ('became', 254), ('becom', 255), ('become', 256), ('bed', 257), ('began', 258), ('begin', 259), ('behavior', 260), ('behaviour', 261), ('behind', 262), ('beij', 263), ('believ', 264), ('believe', 265), ('belong', 266), ('benchmark', 267), ('benefici', 268), ('benefit', 269), ('besid', 270), ('best', 271), ('beta', 272), ('better', 273), ('beyond', 274), ('bi', 275), ('bia', 276), ('bias', 277), ('binari', 278), ('bind', 279), ('binomi', 280), ('bio', 281), ('bioinformat', 282), ('biolog', 283), ('black', 284), ('blast', 285), ('block', 286), ('blood', 287), ('blot', 288), ('blue', 289), ('board', 290), ('bodi', 291), ('bond', 292), ('bootstrap', 293), ('border', 294), ('born', 295), ('bottom', 296), ('bound', 297), ('boundari', 298), ('bovine', 299), ('box', 300), ('bp', 301), ('branch', 302), ('break', 303), ('breath', 304), ('briefli', 305), ('bring', 306), ('broad', 307), ('broadli', 308), ('buffer', 309), ('build', 310), ('built', 311), ('busi', 312), ('by', 313), ('byintern', 314), ('ca', 315), ('calcul', 316), ('calculate', 317), ('calibr', 318), ('call', 319), ('came', 320), ('cancer', 321), ('candidate', 322), ('canon', 323), ('capabl', 324), ('capable', 325), ('capac', 326), ('captur', 327), ('capture', 328), ('care', 329), ('carri', 330), ('carrier', 331), ('case', 332), ('catalyt', 333), ('categor', 334), ('categori', 335), ('caus', 336), ('cause', 337), ('cc', 338), ('cdc', 339), ('cdna', 340), ('cell', 341), ('cellular', 342), ('center', 343), ('central', 344), ('centre', 345), ('certain', 346), ('chain', 347), ('challeng', 348), ('challenge', 349), ('chance', 350), ('chang', 351), ('change', 352), ('channel', 353), ('charact', 354), ('character', 355), ('characterist', 356), ('characterize', 357), ('charg', 358), ('charge', 359), ('check', 360), ('chemic', 361), ('children', 362), ('china', 363), ('chinese', 364), ('chip', 365), ('choice', 366), ('choose', 367), ('chose', 368), ('chosen', 369), ('chronic', 370), ('ci', 371), ('circle', 372), ('circul', 373), ('circumstance', 374), ('citi', 375), ('clade', 376), ('claim', 377), ('clarifi', 378), ('class', 379), ('classic', 380), ('classif', 381), ('classifi', 382), ('clean', 383), ('clear', 384), ('clearli', 385), ('cleav', 386), ('cleavage', 387), ('clinic', 388), ('clinician', 389), ('clone', 390), ('close', 391), ('closer', 392), ('closest', 393), ('closure', 394), ('cluster', 395), ('co', 396), ('coat', 397), ('cod', 398), ('code', 399), ('codon', 400), ('coeffici', 401), ('cohort', 402), ('coincid', 403), ('cold', 404), ('coli', 405), ('collect', 406), ('color', 407), ('column', 408), ('combat', 409), ('combin', 410), ('combine', 411), ('come', 412), ('commerci', 413), ('commiss', 414), ('committee', 415), ('common', 416), ('commonli', 417), ('commun', 418), ('comorbid', 419), ('compar', 420), ('comparable', 421), ('comparative', 422), ('compare', 423), ('comparison', 424), ('compart', 425), ('compartment', 426), ('compet', 427), ('compil', 428), ('complement', 429), ('complementari', 430), ('complet', 431), ('complete', 432), ('complex', 433), ('compliance', 434), ('complic', 435), ('compon', 436), ('compos', 437), ('composit', 438), ('compound', 439), ('comprehensive', 440), ('compris', 441), ('compromise', 442), ('comput', 443), ('compute', 444), ('concentr', 445), ('concept', 446), ('concern', 447), ('conclud', 448), ('conclude', 449), ('conclus', 450), ('condit', 451), ('conduct', 452), ('confer', 453), ('confidence', 454), ('confirm', 455), ('conflict', 456), ('conform', 457), ('confound', 458), ('conjug', 459), ('conjugate', 460), ('connect', 461), ('consecutive', 462), ('consensu', 463), ('consequ', 464), ('consequence', 465), ('conserv', 466), ('conservative', 467), ('consid', 468), ('consider', 469), ('considerable', 470), ('consist', 471), ('constant', 472), ('constantli', 473), ('constitut', 474), ('constrain', 475), ('constraint', 476), ('construct', 477), ('consult', 478), ('consumpt', 479), ('contact', 480), ('contagi', 481), ('contain', 482), ('contamin', 483), ('content', 484), ('context', 485), ('contin', 486), ('conting', 487), ('continu', 488), ('continue', 489), ('contract', 490), ('contrast', 491), ('contribut', 492), ('contribute', 493), ('control', 494), ('convent', 495), ('convers', 496), ('convert', 497), ('coordinate', 498), ('copi', 499), ('core', 500), ('corona', 501), ('coronaviru', 502), ('coronavirus', 503), ('correct', 504), ('correctli', 505), ('correl', 506), ('correlate', 507), ('correspond', 508), ('corrobor', 509), ('cost', 510), ('costli', 511), ('cough', 512), ('could', 513), ('count', 514), ('counter', 515), ('counti', 516), ('countri', 517), ('country', 518), ('coupl', 519), ('course', 520), ('cov', 521), ('cover', 522), ('coverage', 523), ('covid', 524), ('covid19', 525), ('creat', 526), ('create', 527), ('crisi', 528), ('criteria', 529), ('criterion', 530), ('critic', 531), ('cross', 532), ('crowd', 533), ('crucial', 534), ('crystal', 535), ('ct', 536), ('cultur', 537), ('culture', 538), ('cumulative', 539), ('curat', 540), ('cure', 541), ('current', 542), ('curve', 543), ('custom', 544), ('cut', 545), ('cycle', 546), ('cytokine', 547), ('cytometri', 548), ('cytoplasm', 549), ('cytotox', 550), ('daili', 551), ('damage', 552), ('danger', 553), ('dash', 554), ('database', 555), ('dataset', 556), ('date', 557), ('day', 558), ('de', 559), ('dead', 560), ('deal', 561), ('death', 562), ('decade', 563), ('decemb', 564), ('decid', 565), ('decide', 566), ('decis', 567), ('decision', 568), ('declar', 569), ('declare', 570), ('decline', 571), ('decreas', 572), ('decrease', 573), ('dedic', 574), ('deem', 575), ('deep', 576), ('default', 577), ('defense', 578), ('defin', 579), ('define', 580), ('definit', 581), ('degrad', 582), ('degree', 583), ('delay', 584), ('delet', 585), ('deliv', 586), ('deliveri', 587), ('demand', 588), ('demograph', 589), ('demonstr', 590), ('demonstrate', 591), ('denot', 592), ('denote', 593), ('densiti', 594), ('depart', 595), ('depend', 596), ('depict', 597), ('deplet', 598), ('deploy', 599), ('deposit', 600), ('depth', 601), ('deriv', 602), ('derivative', 603), ('derive', 604), ('describ', 605), ('describe', 606), ('descript', 607), ('design', 608), ('desirable', 609), ('despite', 610), ('destin', 611), ('detail', 612), ('detect', 613), ('detectable', 614), ('determin', 615), ('determine', 616), ('detriment', 617), ('develop', 618), ('development', 619), ('deviat', 620), ('device', 621), ('diagnos', 622), ('diagnosi', 623), ('diagnost', 624), ('diagram', 625), ('diamond', 626), ('die', 627), ('differ', 628), ('difference', 629), ('differenti', 630), ('differentiate', 631), ('difficult', 632), ('difficulti', 633), ('diffus', 634), ('diffuse', 635), ('digest', 636), ('dilut', 637), ('dimens', 638), ('dimension', 639), ('dimer', 640), ('diminish', 641), ('direct', 642), ('directli', 643), ('discard', 644), ('discharge', 645), ('discov', 646), ('discoveri', 647), ('discrep', 648), ('discrete', 649), ('discuss', 650), ('disease', 651), ('disord', 652), ('dispers', 653), ('display', 654), ('disrupt', 655), ('dissemin', 656), ('dissoci', 657), ('distanc', 658), ('distance', 659), ('distinct', 660), ('distinguish', 661), ('distress', 662), ('distribut', 663), ('district', 664), ('divers', 665), ('diverse', 666), ('divid', 667), ('dna', 668), ('dnase', 669), ('document', 670), ('domain', 671), ('domin', 672), ('done', 673), ('donor', 674), ('dose', 675), ('dot', 676), ('doubl', 677), ('double', 678), ('down', 679), ('download', 680), ('downstream', 681), ('dr', 682), ('draft', 683), ('dramat', 684), ('drastic', 685), ('drawn', 686), ('dri', 687), ('drive', 688), ('driven', 689), ('drop', 690), ('droplet', 691), ('drug', 692), ('dual', 693), ('due', 694), ('durat', 695), ('dye', 696), ('dynam', 697), ('earli', 698), ('earlier', 699), ('ease', 700), ('easi', 701), ('easili', 702), ('east', 703), ('ebola', 704), ('econom', 705), ('economi', 706), ('edge', 707), ('edit', 708), ('effect', 709), ('effective', 710), ('effector', 711), ('efficaci', 712), ('effici', 713), ('effort', 714), ('eg', 715), ('egg', 716), ('eight', 717), ('either', 718), ('elderli', 719), ('electron', 720), ('electrostat', 721), ('element', 722), ('elev', 723), ('elicit', 724), ('elimin', 725), ('else', 726), ('elsewhere', 727), ('elut', 728), ('embed', 729), ('emerg', 730), ('emerge', 731), ('emergence', 732), ('emphasize', 733), ('empir', 734), ('employ', 735), ('empti', 736), ('enabl', 737), ('enable', 738), ('encod', 739), ('encode', 740), ('encourag', 741), ('end', 742), ('endocytosi', 743), ('endogen', 744), ('energi', 745), ('engag', 746), ('engin', 747), ('enhanc', 748), ('enhance', 749), ('enough', 750), ('enrich', 751), ('ensemble', 752), ('ensur', 753), ('ensure', 754), ('enter', 755), ('entir', 756), ('entire', 757), ('entri', 758), ('envelop', 759), ('envelope', 760), ('environ', 761), ('environment', 762), ('envis', 763), ('enzymat', 764), ('enzyme', 765), ('epidem', 766), ('epidemiolog', 767), ('epidemiologist', 768), ('epitheli', 769), ('epitope', 770), ('eq', 771), ('equal', 772), ('equat', 773), ('equilibr', 774), ('equilibrium', 775), ('equip', 776), ('equival', 777), ('erad', 778), ('error', 779), ('especi', 780), ('essenti', 781), ('establish', 782), ('estim', 783), ('estimate', 784), ('etc', 785), ('ethic', 786), ('etiolog', 787), ('europe', 788), ('european', 789), ('evalu', 790), ('evaluate', 791), ('even', 792), ('event', 793), ('eventu', 794), ('ever', 795), ('everi', 796), ('evid', 797), ('evidence', 798), ('evolut', 799), ('evolutionari', 800), ('evolv', 801), ('exact', 802), ('exactli', 803), ('examin', 804), ('examine', 805), ('example', 806), ('exceed', 807), ('excel', 808), ('except', 809), ('excess', 810), ('excessive', 811), ('exclud', 812), ('exclude', 813), ('exclus', 814), ('exhibit', 815), ('exist', 816), ('existence', 817), ('exit', 818), ('exogen', 819), ('exon', 820), ('expand', 821), ('expans', 822), ('expect', 823), ('experi', 824), ('experienc', 825), ('experience', 826), ('experiment', 827), ('expert', 828), ('explain', 829), ('explan', 830), ('explicitli', 831), ('exploit', 832), ('explor', 833), ('explore', 834), ('exponenti', 835), ('expos', 836), ('exposed', 837), ('exposure', 838), ('express', 839), ('extend', 840), ('extens', 841), ('extensive', 842), ('extent', 843), ('extern', 844), ('extra', 845), ('extracellular', 846), ('extract', 847), ('extrem', 848), ('extreme', 849), ('f1', 850), ('face', 851), ('facil', 852), ('facilit', 853), ('facilitate', 854), ('fact', 855), ('factor', 856), ('fail', 857), ('failure', 858), ('fair', 859), ('fairli', 860), ('fall', 861), ('false', 862), ('famili', 863), ('far', 864), ('fashion', 865), ('fast', 866), ('faster', 867), ('fatal', 868), ('favor', 869), ('feasible', 870), ('feature', 871), ('feb', 872), ('februari', 873), ('feder', 874), ('feed', 875), ('female', 876), ('fetal', 877), ('fever', 878), ('fewer', 879), ('field', 880), ('fifth', 881), ('fig', 882), ('fig1', 883), ('figure', 884), ('file', 885), ('fill', 886), ('filter', 887), ('final', 888), ('financi', 889), ('find', 890), ('finish', 891), ('firstli', 892), ('fisher', 893), ('fit', 894), ('five', 895), ('fix', 896), ('flag', 897), ('flatten', 898), ('flexibl', 899), ('flow', 900), ('flu', 901), ('fluctuat', 902), ('fluid', 903), ('fluorescence', 904), ('focu', 905), ('focus', 906), ('fold', 907), ('follow', 908), ('food', 909), ('force', 910), ('forecast', 911), ('form', 912), ('format', 913), ('former', 914), ('formul', 915), ('formula', 916), ('forward', 917), ('found', 918), ('foundat', 919), ('four', 920), ('fourth', 921), ('fraction', 922), ('fragment', 923), ('frame', 924), ('framework', 925), ('france', 926), ('free', 927), ('freeli', 928), ('frequenc', 929), ('frequent', 930), ('fresh', 931), ('frozen', 932), ('fulfil', 933), ('full', 934), ('fulli', 935), ('function', 936), ('fundament', 937), ('furthermore', 938), ('fuse', 939), ('fusion', 940), ('future', 941), ('gain', 942), ('gamma', 943), ('gap', 944), ('gather', 945), ('gaussian', 946), ('gc', 947), ('ge', 948), ('gel', 949), ('genbank', 950), ('gender', 951), ('gene', 952), ('gener', 953), ('genera', 954), ('generate', 955), ('genet', 956), ('genom', 957), ('genome', 958), ('genotype', 959), ('genu', 960), ('geograph', 961), ('germani', 962), ('get', 963), ('gfp', 964), ('gisaid', 965), ('github', 966), ('githubcom', 967), ('give', 968), ('given', 969), ('global', 970), ('glycoprotein', 971), ('go', 972), ('goal', 973), ('good', 974), ('google', 975), ('govern', 976), ('grade', 977), ('gradual', 978), ('grant', 979), ('granular', 980), ('graph', 981), ('graphpad', 982), ('gray', 983), ('great', 984), ('greater', 985), ('greatli', 986), ('green', 987), ('ground', 988), ('group', 989), ('grow', 990), ('growth', 991), ('guid', 992), ('guidance', 993), ('guide', 994), ('guideline', 995), ('h1n1', 996), ('half', 997), ('hand', 998), ('happen', 999), ('harbor', 1000), ('hard', 1001), ('harvest', 1002), ('hcov', 1003), ('head', 1004), ('health', 1005), ('healthcare', 1006), ('healthi', 1007), ('heat', 1008), ('heavi', 1009), ('heavili', 1010), ('held', 1011), ('helic', 1012), ('helix', 1013), ('help', 1014), ('hence', 1015), ('hepat', 1016), ('herd', 1017), ('heterogen', 1018), ('higher', 1019), ('highest', 1020), ('highli', 1021), ('highlight', 1022), ('histogram', 1023), ('histor', 1024), ('histori', 1025), ('hit', 1026), ('hiv', 1027), ('hku1', 1028), ('hold', 1029), ('holiday', 1030), ('home', 1031), ('homogen', 1032), ('homolog', 1033), ('hong', 1034), ('hope', 1035), ('hopkin', 1036), ('hospit', 1037), ('host', 1038), ('hour', 1039), ('household', 1040), ('http', 1041), ('hub', 1042), ('hubei', 1043), ('huge', 1044), ('human', 1045), ('humid', 1046), ('hundr', 1047), ('hydrogen', 1048), ('hydrophob', 1049), ('hypothes', 1050), ('hypothesi', 1051), ('hypothesize', 1052), ('icu', 1053), ('id', 1054), ('idea', 1055), ('ideal', 1056), ('ident', 1057), ('identif', 1058), ('identifi', 1059), ('ie', 1060), ('ignor', 1061), ('ii', 1062), ('iii', 1063), ('il', 1064), ('ill', 1065), ('illumina', 1066), ('illustr', 1067), ('imag', 1068), ('image', 1069), ('immedi', 1070), ('immediate', 1071), ('immun', 1072), ('immune', 1073), ('immunodefici', 1074), ('impact', 1075), ('implement', 1076), ('impli', 1077), ('implic', 1078), ('implicitli', 1079), ('import', 1080), ('importance', 1081), ('importantli', 1082), ('impos', 1083), ('impossible', 1084), ('improv', 1085), ('improve', 1086), ('incidence', 1087), ('includ', 1088), ('include', 1089), ('inclus', 1090), ('incomplete', 1091), ('incorpor', 1092), ('increas', 1093), ('increase', 1094), ('increasingli', 1095), ('increment', 1096), ('incub', 1097), ('inde', 1098), ('independ', 1099), ('index', 1100), ('indic', 1101), ('indicate', 1102), ('indicative', 1103), ('indirect', 1104), ('individu', 1105), ('induc', 1106), ('induce', 1107), ('induct', 1108), ('industri', 1109), ('infecti', 1110), ('infectious', 1111), ('infer', 1112), ('inference', 1113), ('inflamm', 1114), ('inflammatori', 1115), ('influenc', 1116), ('influence', 1117), ('influenza', 1118), ('inform', 1119), ('informative', 1120), ('inher', 1121), ('inhibit', 1122), ('inhibitor', 1123), ('initi', 1124), ('initiative', 1125), ('inject', 1126), ('injuri', 1127), ('input', 1128), ('insert', 1129), ('inside', 1130), ('insight', 1131), ('inspect', 1132), ('instance', 1133), ('instead', 1134), ('institut', 1135), ('institute', 1136), ('instruct', 1137), ('instrument', 1138), ('insuffici', 1139), ('integr', 1140), ('intend', 1141), ('intens', 1142), ('intensive', 1143), ('inter', 1144), ('interact', 1145), ('interactive', 1146), ('interest', 1147), ('interestingli', 1148), ('interface', 1149), ('interferon', 1150), ('intern', 1151), ('interpret', 1152), ('interquartile', 1153), ('interrupt', 1154), ('interv', 1155), ('intervent', 1156), ('intracellular', 1157), ('intrins', 1158), ('introduc', 1159), ('introduce', 1160), ('introduct', 1161), ('invas', 1162), ('investig', 1163), ('investigate', 1164), ('invitrogen', 1165), ('involv', 1166), ('involve', 1167), ('ion', 1168), ('irrespective', 1169), ('isol', 1170), ('isolate', 1171), ('issue', 1172), ('itali', 1173), ('italian', 1174), ('iter', 1175), ('iv', 1176), ('jan', 1177), ('januari', 1178), ('japan', 1179), ('john', 1180), ('journal', 1181), ('june', 1182), ('justifi', 1183), ('keep', 1184), ('kept', 1185), ('key', 1186), ('keyword', 1187), ('kidney', 1188), ('kinase', 1189), ('kind', 1190), ('kinet', 1191), ('kingdom', 1192), ('kit', 1193), ('know', 1194), ('knowledge', 1195), ('known', 1196), ('kong', 1197), ('korea', 1198), ('lab', 1199), ('label', 1200), ('labor', 1201), ('laboratori', 1202), ('laboratory', 1203), ('lack', 1204), ('language', 1205), ('larg', 1206), ('large', 1207), ('larger', 1208), ('largest', 1209), ('last', 1210), ('lastli', 1211), ('late', 1212), ('latenc', 1213), ('latent', 1214), ('later', 1215), ('latest', 1216), ('latter', 1217), ('layer', 1218), ('le', 1219), ('lead', 1220), ('learn', 1221), ('least', 1222), ('leav', 1223), ('led', 1224), ('left', 1225), ('length', 1226), ('let', 1227), ('level', 1228), ('li', 1229), ('librari', 1230), ('lie', 1231), ('life', 1232), ('ligand', 1233), ('ligat', 1234), ('light', 1235), ('like', 1236), ('likelihood', 1237), ('limit', 1238), ('line', 1239), ('lineage', 1240), ('linear', 1241), ('link', 1242), ('linkage', 1243), ('lipid', 1244), ('liquid', 1245), ('list', 1246), ('literature', 1247), ('little', 1248), ('liu', 1249), ('live', 1250), ('liver', 1251), ('load', 1252), ('loc', 1253), ('local', 1254), ('locat', 1255), ('lock', 1256), ('lockdown', 1257), ('locu', 1258), ('log', 1259), ('logarithm', 1260), ('logist', 1261), ('long', 1262), ('longer', 1263), ('look', 1264), ('loop', 1265), ('loss', 1266), ('lot', 1267), ('low', 1268), ('lower', 1269), ('lowest', 1270), ('luciferase', 1271), ('lung', 1272), ('lymphocyte', 1273), ('lymphopenia', 1274), ('lysi', 1275), ('machine', 1276), ('made', 1277), ('mafft', 1278), ('magnitude', 1279), ('main', 1280), ('mainland', 1281), ('mainli', 1282), ('maintain', 1283), ('maintenance', 1284), ('major', 1285), ('mak', 1286), ('make', 1287), ('maker', 1288), ('male', 1289), ('mammal', 1290), ('mammalian', 1291), ('manag', 1292), ('manage', 1293), ('mani', 1294), ('manifest', 1295), ('mann', 1296), ('manner', 1297), ('manual', 1298), ('manufactur', 1299), ('manuscript', 1300), ('map', 1301), ('mar', 1302), ('march', 1303), ('mark', 1304), ('marker', 1305), ('market', 1306), ('mask', 1307), ('mass', 1308), ('massive', 1309), ('match', 1310), ('materi', 1311), ('mathemat', 1312), ('matric', 1313), ('matrix', 1314), ('mature', 1315), ('max', 1316), ('maxim', 1317), ('maximum', 1318), ('mean', 1319), ('meanwhile', 1320), ('measur', 1321), ('measure', 1322), ('mechan', 1323), ('mechanist', 1324), ('medi', 1325), ('media', 1326), ('median', 1327), ('medianday', 1328), ('mediat', 1329), ('mediate', 1330), ('medic', 1331), ('medicine', 1332), ('medium', 1333), ('meet', 1334), ('member', 1335), ('membrane', 1336), ('ment', 1337), ('mention', 1338), ('mer', 1339), ('merg', 1340), ('mers', 1341), ('metapopul', 1342), ('method', 1343), ('methodolog', 1344), ('methyl', 1345), ('metric', 1346), ('mg', 1347), ('microscope', 1348), ('microscopi', 1349), ('middle', 1350), ('might', 1351), ('migrat', 1352), ('mild', 1353), ('million', 1354), ('mimic', 1355), ('min', 1356), ('mind', 1357), ('mini', 1358), ('minim', 1359), ('minimize', 1360), ('minimum', 1361), ('ministri', 1362), ('minor', 1363), ('minute', 1364), ('mismatch', 1365), ('miss', 1366), ('mitig', 1367), ('mitigate', 1368), ('mix', 1369), ('mixture', 1370), ('ml', 1371), ('mm', 1372), ('mobil', 1373), ('mobile', 1374), ('mode', 1375), ('model', 1376), ('moderate', 1377), ('modif', 1378), ('modifi', 1379), ('module', 1380), ('mol', 1381), ('molecular', 1382), ('molecule', 1383), ('moment', 1384), ('monitor', 1385), ('month', 1386), ('morbid', 1387), ('moreov', 1388), ('mortal', 1389), ('mostli', 1390), ('motif', 1391), ('motiv', 1392), ('mouse', 1393), ('move', 1394), ('movement', 1395), ('mrna', 1396), ('much', 1397), ('multi', 1398), ('multiple', 1399), ('multiplex', 1400), ('multipli', 1401), ('municip', 1402), ('muscle', 1403), ('must', 1404), ('mutant', 1405), ('mutat', 1406), ('nacl', 1407), ('name', 1408), ('nasal', 1409), ('nation', 1410), ('native', 1411), ('natur', 1412), ('nature', 1413), ('nc', 1414), ('ncbi', 1415), ('ncintern', 1416), ('ncov', 1417), ('nd', 1418), ('ndintern', 1419), ('near', 1420), ('nearli', 1421), ('neb', 1422), ('necessari', 1423), ('necessarili', 1424), ('need', 1425), ('neg', 1426), ('negative', 1427), ('negligible', 1428), ('neighbor', 1429), ('neither', 1430), ('net', 1431), ('network', 1432), ('neutr', 1433), ('neutral', 1434), ('neutralize', 1435), ('never', 1436), ('nevertheless', 1437), ('new', 1438), ('newli', 1439), ('news', 1440), ('next', 1441), ('ng', 1442), ('nih', 1443), ('nine', 1444), ('nl63', 1445), ('nm', 1446), ('node', 1447), ('noise', 1448), ('non', 1449), ('none', 1450), ('nonetheless', 1451), ('norm', 1452), ('normal', 1453), ('northern', 1454), ('notabl', 1455), ('notable', 1456), ('note', 1457), ('notic', 1458), ('notice', 1459), ('noticeable', 1460), ('novel', 1461), ('novo', 1462), ('nt', 1463), ('nuclear', 1464), ('nuclease', 1465), ('nucleic', 1466), ('nucleotide', 1467), ('nucleu', 1468), ('numer', 1469), ('object', 1470), ('objective', 1471), ('observ', 1472), ('observe', 1473), ('obtain', 1474), ('obviou', 1475), ('oc43', 1476), ('occasion', 1477), ('occup', 1478), ('occupi', 1479), ('occur', 1480), ('occurrence', 1481), ('odd', 1482), ('of', 1483), ('off', 1484), ('offer', 1485), ('offici', 1486), ('often', 1487), ('old', 1488), ('omit', 1489), ('on', 1490), ('ongo', 1491), ('online', 1492), ('onset', 1493), ('onto', 1494), ('onward', 1495), ('open', 1496), ('oper', 1497), ('opinion', 1498), ('opportun', 1499), ('oppos', 1500), ('opposite', 1501), ('optim', 1502), ('optimist', 1503), ('option', 1504), ('or', 1505), ('order', 1506), ('ordinari', 1507), ('orf', 1508), ('organ', 1509), ('organis', 1510), ('orient', 1511), ('origin', 1512), ('originate', 1513), ('other', 1514), ('otherwise', 1515), ('out', 1516), ('outbreak', 1517), ('outcome', 1518), ('outlin', 1519), ('outperform', 1520), ('output', 1521), ('outside', 1522), ('over', 1523), ('overal', 1524), ('overcome', 1525), ('overexpress', 1526), ('overlap', 1527), ('overnight', 1528), ('overwhelm', 1529), ('oxford', 1530), ('oxygen', 1531), ('package', 1532), ('page', 1533), ('pair', 1534), ('pairwise', 1535), ('pandem', 1536), ('panel', 1537), ('panic', 1538), ('paper', 1539), ('parallel', 1540), ('paramet', 1541), ('parent', 1542), ('part', 1543), ('partial', 1544), ('particip', 1545), ('particle', 1546), ('particular', 1547), ('particularli', 1548), ('partit', 1549), ('partner', 1550), ('pass', 1551), ('passeng', 1552), ('past', 1553), ('path', 1554), ('pathogen', 1555), ('pathogenesi', 1556), ('patholog', 1557), ('pathway', 1558), ('patient', 1559), ('pattern', 1560), ('pb', 1561), ('pcr', 1562), ('pdb', 1563), ('peak', 1564), ('pearson', 1565), ('pellet', 1566), ('people', 1567), ('peptide', 1568), ('per', 1569), ('percent', 1570), ('percentage', 1571), ('perfectli', 1572), ('perform', 1573), ('performance', 1574), ('perhap', 1575), ('period', 1576), ('peripher', 1577), ('perman', 1578), ('permiss', 1579), ('perpetu', 1580), ('persist', 1581), ('person', 1582), ('perspective', 1583), ('ph', 1584), ('pharmaceut', 1585), ('phase', 1586), ('phenomenon', 1587), ('phenotype', 1588), ('phone', 1589), ('phosphate', 1590), ('phylogenet', 1591), ('phylogeni', 1592), ('physic', 1593), ('physiolog', 1594), ('picture', 1595), ('pipeline', 1596), ('place', 1597), ('plan', 1598), ('plasma', 1599), ('plasmid', 1600), ('plate', 1601), ('platform', 1602), ('plausible', 1603), ('play', 1604), ('plot', 1605), ('plu', 1606), ('pneumonia', 1607), ('point', 1608), ('polici', 1609), ('policymak', 1610), ('poly', 1611), ('polymerase', 1612), ('polyprotein', 1613), ('pool', 1614), ('poor', 1615), ('poorli', 1616), ('popul', 1617), ('population', 1618), ('portion', 1619), ('pose', 1620), ('posit', 1621), ('positive', 1622), ('possibl', 1623), ('possible', 1624), ('post', 1625), ('posterior', 1626), ('potent', 1627), ('potenti', 1628), ('power', 1629), ('practic', 1630), ('practice', 1631), ('pre', 1632), ('precaut', 1633), ('preced', 1634), ('precis', 1635), ('precise', 1636), ('predict', 1637), ('predictive', 1638), ('predictor', 1639), ('prefer', 1640), ('preference', 1641), ('preferenti', 1642), ('preliminari', 1643), ('preliminarili', 1644), ('prepar', 1645), ('prepare', 1646), ('presence', 1647), ('present', 1648), ('pressure', 1649), ('presum', 1650), ('preval', 1651), ('prevalence', 1652), ('prevent', 1653), ('previou', 1654), ('previous', 1655), ('primari', 1656), ('primarili', 1657), ('prime', 1658), ('primer', 1659), ('prior', 1660), ('prioriti', 1661), ('prism', 1662), ('pro', 1663), ('probabl', 1664), ('probable', 1665), ('probe', 1666), ('problem', 1667), ('procedure', 1668), ('proceed', 1669), ('process', 1670), ('produc', 1671), ('produce', 1672), ('product', 1673), ('profession', 1674), ('profil', 1675), ('profile', 1676), ('program', 1677), ('progress', 1678), ('project', 1679), ('prolifer', 1680), ('prolong', 1681), ('promis', 1682), ('promot', 1683), ('promote', 1684), ('prompt', 1685), ('prone', 1686), ('pronounc', 1687), ('proof', 1688), ('propag', 1689), ('proper', 1690), ('properli', 1691), ('properti', 1692), ('proport', 1693), ('propos', 1694), ('propose', 1695), ('protease', 1696), ('protect', 1697), ('protective', 1698), ('protein', 1699), ('protocol', 1700), ('prove', 1701), ('proven', 1702), ('provid', 1703), ('provide', 1704), ('province', 1705), ('proxi', 1706), ('proxim', 1707), ('public', 1708), ('publicli', 1709), ('publish', 1710), ('pulmonari', 1711), ('pure', 1712), ('purif', 1713), ('purifi', 1714), ('purpose', 1715), ('put', 1716), ('putative', 1717), ('qiagen', 1718), ('qpcr', 1719), ('qualiti', 1720), ('quantif', 1721), ('quantifi', 1722), ('quantit', 1723), ('quantitative', 1724), ('quantiti', 1725), ('quarantin', 1726), ('quarantine', 1727), ('queri', 1728), ('question', 1729), ('quick', 1730), ('quickli', 1731), ('quite', 1732), ('r0', 1733), ('rabbit', 1734), ('rais', 1735), ('raise', 1736), ('random', 1737), ('randomli', 1738), ('rang', 1739), ('range', 1740), ('rank', 1741), ('rapid', 1742), ('rapidli', 1743), ('rare', 1744), ('rate', 1745), ('rather', 1746), ('ratio', 1747), ('ration', 1748), ('raw', 1749), ('ray', 1750), ('rbd', 1751), ('rdrp', 1752), ('re', 1753), ('reach', 1754), ('reaction', 1755), ('reactive', 1756), ('read', 1757), ('readili', 1758), ('reagent', 1759), ('real', 1760), ('realist', 1761), ('reason', 1762), ('reasonable', 1763), ('receiv', 1764), ('recent', 1765), ('receptor', 1766), ('recogn', 1767), ('recognit', 1768), ('recognize', 1769), ('recombin', 1770), ('recommend', 1771), ('reconstruct', 1772), ('record', 1773), ('recov', 1774), ('recoveri', 1775), ('recruit', 1776), ('red', 1777), ('reduc', 1778), ('reduce', 1779), ('reduct', 1780), ('refer', 1781), ('reference', 1782), ('refin', 1783), ('reflect', 1784), ('regard', 1785), ('regardless', 1786), ('regime', 1787), ('region', 1788), ('regress', 1789), ('regul', 1790), ('regular', 1791), ('regulate', 1792), ('regulatori', 1793), ('rel', 1794), ('relat', 1795), ('relationship', 1796), ('relative', 1797), ('relax', 1798), ('releas', 1799), ('release', 1800), ('relev', 1801), ('reli', 1802), ('reliabl', 1803), ('reliable', 1804), ('remain', 1805), ('remark', 1806), ('remov', 1807), ('remove', 1808), ('repeat', 1809), ('replac', 1810), ('replic', 1811), ('replicate', 1812), ('repositori', 1813), ('repres', 1814), ('represent', 1815), ('representative', 1816), ('reproduc', 1817), ('reproduct', 1818), ('reproductive', 1819), ('repurpos', 1820), ('request', 1821), ('requir', 1822), ('require', 1823), ('research', 1824), ('resemble', 1825), ('reserv', 1826), ('resid', 1827), ('residu', 1828), ('residue', 1829), ('resistance', 1830), ('resolut', 1831), ('resolv', 1832), ('resource', 1833), ('respect', 1834), ('respective', 1835), ('respiratori', 1836), ('respond', 1837), ('respons', 1838), ('response', 1839), ('responsible', 1840), ('rest', 1841), ('restrict', 1842), ('retain', 1843), ('retriev', 1844), ('retrospective', 1845), ('return', 1846), ('reuse', 1847), ('reveal', 1848), ('revers', 1849), ('reverse', 1850), ('right', 1851), ('rigor', 1852), ('rise', 1853), ('risk', 1854), ('rna', 1855), ('rnai', 1856), ('rnase', 1857), ('robust', 1858), ('role', 1859), ('room', 1860), ('root', 1861), ('roughli', 1862), ('route', 1863), ('routine', 1864), ('rt', 1865), ('rule', 1866), ('run', 1867), ('s1', 1868), ('s10', 1869), ('s11', 1870), ('s2', 1871), ('s3', 1872), ('s4', 1873), ('s4a', 1874), ('s5', 1875), ('s5a', 1876), ('s6', 1877), ('s8', 1878), ('s9', 1879), ('safe', 1880), ('said', 1881), ('sampl', 1882), ('sample', 1883), ('sar', 1884), ('sars', 1885), ('satur', 1886), ('save', 1887), ('say', 1888), ('scaffold', 1889), ('scale', 1890), ('scan', 1891), ('scatter', 1892), ('scenario', 1893), ('schemat', 1894), ('scheme', 1895), ('school', 1896), ('science', 1897), ('scientif', 1898), ('scientist', 1899), ('scope', 1900), ('score', 1901), ('screen', 1902), ('script', 1903), ('sd', 1904), ('se', 1905), ('search', 1906), ('season', 1907), ('second', 1908), ('secondari', 1909), ('secondli', 1910), ('section', 1911), ('see', 1912), ('seed', 1913), ('seek', 1914), ('seem', 1915), ('seen', 1916), ('seir', 1917), ('select', 1918), ('self', 1919), ('sense', 1920), ('sensit', 1921), ('sensitive', 1922), ('separ', 1923), ('separate', 1924), ('sepsi', 1925), ('seq', 1926), ('sequenc', 1927), ('sequence', 1928), ('sequenti', 1929), ('seri', 1930), ('serial', 1931), ('seriou', 1932), ('serum', 1933), ('serv', 1934), ('serve', 1935), ('server', 1936), ('service', 1937), ('set', 1938), ('seven', 1939), ('seventh', 1940), ('sever', 1941), ('severe', 1942), ('sex', 1943), ('shanghai', 1944), ('shape', 1945), ('share', 1946), ('shed', 1947), ('sheet', 1948), ('shift', 1949), ('ship', 1950), ('short', 1951), ('shorter', 1952), ('shown', 1953), ('shut', 1954), ('shutdown', 1955), ('sick', 1956), ('side', 1957), ('sigma', 1958), ('sign', 1959), ('signal', 1960), ('signific', 1961), ('significance', 1962), ('significantli', 1963), ('silenc', 1964), ('similar', 1965), ('similarli', 1966), ('simple', 1967), ('simpli', 1968), ('simplic', 1969), ('simplifi', 1970), ('simul', 1971), ('simulate', 1972), ('simultan', 1973), ('since', 1974), ('singapore', 1975), ('single', 1976), ('sir', 1977), ('sirna', 1978), ('site', 1979), ('situat', 1980), ('six', 1981), ('size', 1982), ('skew', 1983), ('slightli', 1984), ('slow', 1985), ('slower', 1986), ('small', 1987), ('smaller', 1988), ('smallest', 1989), ('smith', 1990), ('smooth', 1991), ('social', 1992), ('societ', 1993), ('societi', 1994), ('sodium', 1995), ('software', 1996), ('sole', 1997), ('solid', 1998), ('solut', 1999), ('solv', 2000), ('solve', 2001), ('solvent', 2002), ('soon', 2003), ('sophist', 2004), ('sort', 2005), ('sought', 2006), ('source', 2007), ('south', 2008), ('southern', 2009), ('space', 2010), ('spain', 2011), ('span', 2012), ('spatial', 2013), ('special', 2014), ('specie', 2015), ('specif', 2016), ('specifi', 2017), ('specimen', 2018), ('spectrum', 2019), ('specul', 2020), ('speculate', 2021), ('speed', 2022), ('spent', 2023), ('spike', 2024), ('split', 2025), ('sporad', 2026), ('spread', 2027), ('squar', 2028), ('square', 2029), ('stabil', 2030), ('stable', 2031), ('staff', 2032), ('stage', 2033), ('stain', 2034), ('stand', 2035), ('standard', 2036), ('start', 2037), ('state', 2038), ('statist', 2039), ('statu', 2040), ('stay', 2041), ('stem', 2042), ('step', 2043), ('sterile', 2044), ('still', 2045), ('stimul', 2046), ('stochast', 2047), ('stock', 2048), ('stop', 2049), ('store', 2050), ('storm', 2051), ('straightforward', 2052), ('strain', 2053), ('strand', 2054), ('strategi', 2055), ('strength', 2056), ('stress', 2057), ('stretch', 2058), ('strict', 2059), ('strike', 2060), ('string', 2061), ('stringent', 2062), ('strong', 2063), ('stronger', 2064), ('strongest', 2065), ('strongli', 2066), ('structur', 2067), ('structure', 2068), ('student', 2069), ('sub', 2070), ('subgroup', 2071), ('subject', 2072), ('submit', 2073), ('subsequ', 2074), ('subset', 2075), ('substanti', 2076), ('substitut', 2077), ('substrate', 2078), ('subunit', 2079), ('success', 2080), ('suffer', 2081), ('suffici', 2082), ('suggest', 2083), ('suit', 2084), ('suitable', 2085), ('sum', 2086), ('summar', 2087), ('summari', 2088), ('summer', 2089), ('sun', 2090), ('superior', 2091), ('supernat', 2092), ('supplement', 2093), ('supplementari', 2094), ('suppli', 2095), ('support', 2096), ('suppress', 2097), ('sure', 2098), ('surface', 2099), ('surprisingli', 2100), ('surround', 2101), ('surveillance', 2102), ('survey', 2103), ('surviv', 2104), ('suscept', 2105), ('susceptible', 2106), ('suspect', 2107), ('sustain', 2108), ('sustainable', 2109), ('swab', 2110), ('switch', 2111), ('symptom', 2112), ('symptomat', 2113), ('syndrome', 2114), ('synonym', 2115), ('synthes', 2116), ('synthesi', 2117), ('synthet', 2118), ('system', 2119), ('systemat', 2120), ('t7', 2121), ('table', 2122), ('tag', 2123), ('tail', 2124), ('taiwan', 2125), ('take', 2126), ('taken', 2127), ('target', 2128), ('task', 2129), ('team', 2130), ('technic', 2131), ('technique', 2132), ('technolog', 2133), ('temperature', 2134), ('template', 2135), ('tempor', 2136), ('ten', 2137), ('tend', 2138), ('term', 2139), ('termin', 2140), ('terminu', 2141), ('test', 2142), ('text', 2143), ('th', 2144), ('thank', 2145), ('theoret', 2146), ('theori', 2147), ('therapeut', 2148), ('therapi', 2149), ('therebi', 2150), ('therefore', 2151), ('thermo', 2152), ('think', 2153), ('third', 2154), ('though', 2155), ('thought', 2156), ('thousand', 2157), ('threat', 2158), ('threaten', 2159), ('three', 2160), ('threshold', 2161), ('throat', 2162), ('throughout', 2163), ('throughput', 2164), ('thu', 2165), ('till', 2166), ('time', 2167), ('tissue', 2168), ('titer', 2169), ('title', 2170), ('to', 2171), ('togeth', 2172), ('toll', 2173), ('took', 2174), ('tool', 2175), ('toolkit', 2176), ('top', 2177), ('topic', 2178), ('topolog', 2179), ('total', 2180), ('totalcas', 2181), ('totalpati', 2182), ('touch', 2183), ('toward', 2184), ('town', 2185), ('toxic', 2186), ('trace', 2187), ('track', 2188), ('tract', 2189), ('trade', 2190), ('tradit', 2191), ('traffic', 2192), ('train', 2193), ('trajectori', 2194), ('transcrib', 2195), ('transcript', 2196), ('transcriptase', 2197), ('transduct', 2198), ('transfect', 2199), ('transfer', 2200), ('transform', 2201), ('transient', 2202), ('transit', 2203), ('transl', 2204), ('translat', 2205), ('translate', 2206), ('transmiss', 2207), ('transmit', 2208), ('transport', 2209), ('travel', 2210), ('treat', 2211), ('treatment', 2212), ('tree', 2213), ('trend', 2214), ('tri', 2215), ('trial', 2216), ('trigger', 2217), ('trim', 2218), ('trip', 2219), ('tropism', 2220), ('true', 2221), ('truncat', 2222), ('trypsin', 2223), ('tube', 2224), ('turn', 2225), ('twice', 2226), ('type', 2227), ('typic', 2228), ('ubiquit', 2229), ('uk', 2230), ('ultim', 2231), ('unable', 2232), ('uncertain', 2233), ('uncertainti', 2234), ('unchang', 2235), ('unclear', 2236), ('uncov', 2237), ('underestim', 2238), ('underli', 2239), ('understand', 2240), ('understood', 2241), ('undetect', 2242), ('unexpect', 2243), ('unfortun', 2244), ('uniform', 2245), ('unique', 2246), ('unit', 2247), ('univers', 2248), ('unknown', 2249), ('unless', 2250), ('unlik', 2251), ('unlike', 2252), ('unpreced', 2253), ('up', 2254), ('updat', 2255), ('update', 2256), ('upon', 2257), ('upper', 2258), ('upstream', 2259), ('urgent', 2260), ('us', 2261), ('usa', 2262), ('usage', 2263), ('user', 2264), ('usual', 2265), ('util', 2266), ('utilize', 2267), ('vaccin', 2268), ('vaccine', 2269), ('valid', 2270), ('validate', 2271), ('valu', 2272), ('valuable', 2273), ('value', 2274), ('vari', 2275), ('variabl', 2276), ('variable', 2277), ('variance', 2278), ('variant', 2279), ('variat', 2280), ('varieti', 2281), ('variou', 2282), ('vast', 2283), ('vector', 2284), ('ventil', 2285), ('verifi', 2286), ('version', 2287), ('versu', 2288), ('vertic', 2289), ('via', 2290), ('view', 2291), ('viral', 2292), ('virion', 2293), ('virolog', 2294), ('virtual', 2295), ('viru', 2296), ('virus', 2297), ('visible', 2298), ('visit', 2299), ('visual', 2300), ('visualize', 2301), ('vital', 2302), ('vitamin', 2303), ('vitro', 2304), ('vivo', 2305), ('volume', 2306), ('vs', 2307), ('vulnerable', 2308), ('wait', 2309), ('wang', 2310), ('want', 2311), ('ward', 2312), ('warn', 2313), ('wash', 2314), ('water', 2315), ('wave', 2316), ('way', 2317), ('weak', 2318), ('weather', 2319), ('web', 2320), ('website', 2321), ('week', 2322), ('weight', 2323), ('well', 2324), ('western', 2325), ('wherea', 2326), ('wherebi', 2327), ('whether', 2328), ('white', 2329), ('whitney', 2330), ('whole', 2331), ('whose', 2332), ('wide', 2333), ('widespread', 2334), ('wild', 2335), ('window', 2336), ('wish', 2337), ('within', 2338), ('withinhour', 2339), ('word', 2340), ('work', 2341), ('worker', 2342), ('workflow', 2343), ('workplace', 2344), ('world', 2345), ('worldwide', 2346), ('worse', 2347), ('worsen', 2348), ('worst', 2349), ('worth', 2350), ('would', 2351), ('write', 2352), ('written', 2353), ('wrong', 2354), ('wu', 2355), ('wuhan', 2356), ('wwwgisaidorg', 2357), ('wwwncbinlmnihgov', 2358), ('yang', 2359), ('year', 2360), ('yellow', 2361), ('yet', 2362), ('yield', 2363), ('york', 2364), ('young', 2365), ('younger', 2366), ('zero', 2367), ('zhang', 2368), ('zhou', 2369), ('zika', 2370), ('zone', 2371), ('zoonot', 2372), ('µg', 2373), ('µl', 2374)]\n",
      "[[0. 0. 0. ... 0. 0. 0.]\n",
      " [0. 0. 0. ... 0. 0. 0.]\n",
      " [0. 0. 0. ... 0. 0. 0.]\n",
      " ...\n",
      " [0. 0. 0. ... 0. 0. 0.]\n",
      " [0. 0. 0. ... 0. 0. 0.]\n",
      " [0. 0. 0. ... 0. 0. 0.]]\n"
     ]
    }
   ],
   "source": [
    "#create a tf-idf matrix for the words above\n",
    "v = TfidfVectorizer(sublinear_tf = True, min_df = 0.05,max_df = 0.8)\n",
    "#For the above vectorizer, the first paramater specifies that the 1+log(tf) is going to be used instead of tf.\n",
    "#The second parameter specifies that if a term appears in less than 5% of the docs, ignore it\n",
    "#The third parameter, considers word that do not occur in more than 80% of the corpus\n",
    "tfidf = v.fit_transform(stemmed_text) #fit and transform the stemmed texts which were previously cleaned.\n",
    "print(sorted(v.vocabulary_.items(), key=lambda x : x[1]))\n",
    "print(tfidf.toarray())"
   ]
  },
  {
   "cell_type": "code",
   "execution_count": null,
   "metadata": {},
   "outputs": [],
   "source": [
    "# #Next, the search engine will be implemented with the help of the tf-idf matrix created above and the cosine similarity\n",
    "# query = input(\"Enter your query: \") \n",
    "# finalQuery=\"\" #create an empty string\n",
    "# words = query[0].split(' ') #split the query on spaces\n",
    "# print (words)\n",
    "# for word in words: #for each word in the query\n",
    "#     if(word!=\"\"): #if the word is not an empty string\n",
    "#         if (word==\"coronaviruses\"):#since the stem and lemmatize functions do not recognize the word coronaviruses as the plural of coronavirus, a conidition was created\n",
    "#             word =\"coronavirus\"\n",
    "#         stem_lem_query =wnl.lemmatize(word) if wnl.lemmatize(word).endswith('e') else porter.stem(word)\n",
    "#         finalQuery+=stem_lem_query+\" \" #stem/lemmatize the word and concat it to the string stemmed_val\n",
    "# query = [finalQuery]\n",
    "# print (query)\n",
    "# query_tfidf = v.transform(query)\n",
    "# cosineSimilarities = cosine_similarity(query_tfidf, tfidf).flatten()\n",
    "# print(cosineSimilarities)"
   ]
  },
  {
   "cell_type": "code",
   "execution_count": 71,
   "metadata": {},
   "outputs": [],
   "source": [
    "from sklearn.decomposition import PCA\n",
    "\n",
    "pca = PCA(n_components=0.90,random_state=30) #keep 90% of the variance\n",
    "tf_idf_norm_kmeans= pca.fit_transform(tfidf.toarray())"
   ]
  },
  {
   "cell_type": "code",
   "execution_count": 72,
   "metadata": {},
   "outputs": [
    {
     "name": "stderr",
     "output_type": "stream",
     "text": [
      "100%|██████████| 29/29 [00:04<00:00,  6.01it/s]\n"
     ]
    },
    {
     "data": {
      "text/plain": [
       "<Figure size 1440x1440 with 0 Axes>"
      ]
     },
     "execution_count": 72,
     "metadata": {},
     "output_type": "execute_result"
    },
    {
     "data": {
      "image/png": "[encoded data removed]",
      "text/plain": [
       "<Figure size 432x288 with 1 Axes>"
      ]
     },
     "metadata": {},
     "output_type": "display_data"
    },
    {
     "data": {
      "text/plain": [
       "<Figure size 1440x1440 with 0 Axes>"
      ]
     },
     "metadata": {},
     "output_type": "display_data"
    }
   ],
   "source": [
    "from sklearn.cluster import KMeans\n",
    "\n",
    "import matplotlib.pyplot as plt\n",
    "plt.style.use('ggplot')\n",
    "max_number_of_clusters = 30\n",
    "max_number_of_clusters = max_number_of_clusters+1 # since the range method is exclusive, a one should be added.\n",
    "Ks = range(2, max_number_of_clusters, 1) #Hold the range of clusters k (from 2-max_number_of_clusters)\n",
    "    \n",
    "sum_of_squared_distances = [] #a list which will carry the sum of squared distances at each k\n",
    "for k in tqdm(Ks):\n",
    "    sum_of_squared_distances.append(KMeans(n_clusters=k,random_state=30).fit(tf_idf_norm_kmeans).inertia_)#calculate the sum of squared distance.\n",
    "        \n",
    "        \n",
    "f, ax = plt.subplots(1, 1)\n",
    "ax.plot(Ks, sum_of_squared_distances, marker='o')\n",
    "ax.set_xlabel('Cluster Centroid')\n",
    "ax.set_xticks(Ks)\n",
    "ax.set_xticklabels(Ks)\n",
    "ax.set_ylabel('Sum of Squared Distances')\n",
    "ax.set_title('Sum of Squared Distances VS. Clusters')\n",
    "plt.figure(figsize=(20,20))"
   ]
  },
  {
   "cell_type": "code",
   "execution_count": 80,
   "metadata": {},
   "outputs": [],
   "source": [
    "clusters = KMeans(n_clusters=16).fit_predict(tf_idf_norm_kmeans)\n",
    "df =FullPaperDataframe.head(100).copy(deep=True)"
   ]
  },
  {
   "cell_type": "code",
   "execution_count": 81,
   "metadata": {},
   "outputs": [
    {
     "data": {
      "text/html": [
       "<div>\n",
       "<style scoped>\n",
       "    .dataframe tbody tr th:only-of-type {\n",
       "        vertical-align: middle;\n",
       "    }\n",
       "\n",
       "    .dataframe tbody tr th {\n",
       "        vertical-align: top;\n",
       "    }\n",
       "\n",
       "    .dataframe thead th {\n",
       "        text-align: right;\n",
       "    }\n",
       "</style>\n",
       "<table border=\"1\" class=\"dataframe\">\n",
       "  <thead>\n",
       "    <tr style=\"text-align: right;\">\n",
       "      <th></th>\n",
       "      <th>title</th>\n",
       "      <th>abstract</th>\n",
       "      <th>full_text</th>\n",
       "      <th>clusters</th>\n",
       "    </tr>\n",
       "  </thead>\n",
       "  <tbody>\n",
       "    <tr>\n",
       "      <td>0</td>\n",
       "      <td>The RNA pseudoknots in foot-and-mouth disease ...</td>\n",
       "      <td>[{'text': 'word count: 194 22 Text word count:...</td>\n",
       "      <td>VP3, and VP0 (which is further processed to VP...</td>\n",
       "      <td>1</td>\n",
       "    </tr>\n",
       "    <tr>\n",
       "      <td>1</td>\n",
       "      <td>Analysis Title: Regaining perspective on SARS-...</td>\n",
       "      <td>[{'text': 'During the past three months, a new...</td>\n",
       "      <td>In December 2019, a novel coronavirus, SARS-Co...</td>\n",
       "      <td>10</td>\n",
       "    </tr>\n",
       "    <tr>\n",
       "      <td>2</td>\n",
       "      <td>Healthcare-resource-adjusted vulnerabilities t...</td>\n",
       "      <td>[]</td>\n",
       "      <td>The 2019-nCoV epidemic has spread across China...</td>\n",
       "      <td>7</td>\n",
       "    </tr>\n",
       "    <tr>\n",
       "      <td>3</td>\n",
       "      <td>Relationship between Average Daily Temperature...</td>\n",
       "      <td>[{'text': 'The rapid outbreak of the new Coron...</td>\n",
       "      <td>The outbreak of infectious diseases has always...</td>\n",
       "      <td>4</td>\n",
       "    </tr>\n",
       "    <tr>\n",
       "      <td>4</td>\n",
       "      <td>CHEER: hierarCHical taxonomic classification f...</td>\n",
       "      <td>[{'text': 'The fast accumulation of viral meta...</td>\n",
       "      <td>Metagenomic sequencing, which allows us to dir...</td>\n",
       "      <td>10</td>\n",
       "    </tr>\n",
       "  </tbody>\n",
       "</table>\n",
       "</div>"
      ],
      "text/plain": [
       "                                               title  \\\n",
       "0  The RNA pseudoknots in foot-and-mouth disease ...   \n",
       "1  Analysis Title: Regaining perspective on SARS-...   \n",
       "2  Healthcare-resource-adjusted vulnerabilities t...   \n",
       "3  Relationship between Average Daily Temperature...   \n",
       "4  CHEER: hierarCHical taxonomic classification f...   \n",
       "\n",
       "                                            abstract  \\\n",
       "0  [{'text': 'word count: 194 22 Text word count:...   \n",
       "1  [{'text': 'During the past three months, a new...   \n",
       "2                                                 []   \n",
       "3  [{'text': 'The rapid outbreak of the new Coron...   \n",
       "4  [{'text': 'The fast accumulation of viral meta...   \n",
       "\n",
       "                                           full_text  clusters  \n",
       "0  VP3, and VP0 (which is further processed to VP...         1  \n",
       "1  In December 2019, a novel coronavirus, SARS-Co...        10  \n",
       "2  The 2019-nCoV epidemic has spread across China...         7  \n",
       "3  The outbreak of infectious diseases has always...         4  \n",
       "4  Metagenomic sequencing, which allows us to dir...        10  "
      ]
     },
     "execution_count": 81,
     "metadata": {},
     "output_type": "execute_result"
    }
   ],
   "source": [
    "df['clusters'] = clusters\n",
    "df.head()"
   ]
  },
  {
   "cell_type": "code",
   "execution_count": 75,
   "metadata": {},
   "outputs": [],
   "source": [
    "#tf- idf\n",
    "# # finding the tf-idf matrix for all the abstracts\n",
    "# # vec = TfidfVectorizer()\n",
    "\n",
    "# # ve = vec.fit_transform(clean_abs)\n",
    "\n",
    "# # # displaying the tf-idf of the word in the abstact  \n",
    "# # pd.DataFrame(ve.toarray(), columns=sorted(vec.vocabulary_.keys()))\n",
    "\n",
    "# # #applying tf-idf cosine similarity and printing the result(testing)\n",
    "# # query = [\"prophylaxis\"]\n",
    "# # query_tfidf = vec.transform(query)\n",
    "# # cosineSimilarities = cosine_similarity(query_tfidf, ve).flatten()\n",
    "# # print(cosineSimilarities)"
   ]
  },
  {
   "cell_type": "code",
   "execution_count": null,
   "metadata": {},
   "outputs": [],
   "source": [
    "# taged_abs=[]\n",
    "# nouns=[]\n",
    "# # tagging the clean data\n",
    "# for val in clean_abs:\n",
    "#     taged_abs.append(pos_tag(val.split()))\n",
    "# # extracting the nouns\n",
    "# for i in range(len(taged_abs)):\n",
    "#     doc=[]\n",
    "#     for j in range(len(taged_abs[i])):\n",
    "#         if(taged_abs[i][j][1]=='NN' or taged_abs[i][j][1]=='NNS'):\n",
    "#             doc.append(taged_abs[i][j][0])\n",
    "#     nouns.append(doc)\n",
    "        \n",
    "# print(nouns)\n",
    "\n"
   ]
  },
  {
   "cell_type": "markdown",
   "metadata": {},
   "source": [
    "Above we dcided to calculate the tf-idf so that we can represent every word that is present in the abstract quatitavily. By doing so we can further use the results in order model the topic according to the abstract that we just quatified.Furthermore we will use (Non-negative Matrix Factorization) NMF in order to come up with topic's that carry most weight in the abstract. To accomplish this we are going to filter all the nouns that are avaliable in the abstract and use them to represent the different topis that are avaliable."
   ]
  }
 ],
 "metadata": {
  "kernelspec": {
   "display_name": "Python 3",
   "language": "python",
   "name": "python3"
  },
  "language_info": {
   "codemirror_mode": {
    "name": "ipython",
    "version": 3
   },
   "file_extension": ".py",
   "mimetype": "text/x-python",
   "name": "python",
   "nbconvert_exporter": "python",
   "pygments_lexer": "ipython3",
   "version": "3.6.5"
  }
 },
 "nbformat": 4,
 "nbformat_minor": 4
}
