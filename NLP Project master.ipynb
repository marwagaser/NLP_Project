{
 "cells": [
  {
   "cell_type": "code",
   "execution_count": 3,
   "metadata": {},
   "outputs": [
    {
     "name": "stderr",
     "output_type": "stream",
     "text": [
      "[nltk_data] Downloading package stopwords to\n",
      "[nltk_data]     C:\\Users\\HP\\AppData\\Roaming\\nltk_data...\n",
      "[nltk_data]   Package stopwords is already up-to-date!\n",
      "[nltk_data] Downloading package punkt to\n",
      "[nltk_data]     C:\\Users\\HP\\AppData\\Roaming\\nltk_data...\n",
      "[nltk_data]   Package punkt is already up-to-date!\n",
      "[nltk_data] Downloading package wordnet to\n",
      "[nltk_data]     C:\\Users\\HP\\AppData\\Roaming\\nltk_data...\n",
      "[nltk_data]   Package wordnet is already up-to-date!\n"
     ]
    }
   ],
   "source": [
    "import nltk\n",
    "import pandas as pd # data processing, CSV file I/O (e.g. pd.read_csv)\n",
    "import re #import the regular expression library\n",
    "import string\n",
    "import os\n",
    "import json\n",
    "from sklearn.feature_extraction.text import CountVectorizer, TfidfVectorizer\n",
    "from sklearn.metrics.pairwise import cosine_similarity\n",
    "from sklearn.cluster import MiniBatchKMeans\n",
    "from sklearn.datasets import load_files\n",
    "from nltk import pos_tag\n",
    "from nltk.tokenize import RegexpTokenizer\n",
    "from tqdm import tqdm\n",
    "from nltk.corpus import stopwords #import the stopwords from the ntlk.corpus library\n",
    "nltk.download('stopwords')\n",
    "from nltk.tokenize import word_tokenize #import the word_tokenize method, which is used to turn sentences into words\"\n",
    "nltk.download('punkt')\n",
    "from collections import Counter\n",
    "from nltk.stem import WordNetLemmatizer, PorterStemmer\n",
    "nltk.download('wordnet')\n",
    "import numpy as np\n",
    "import spacy\n",
    "from spacy.lang.en.stop_words import STOP_WORDS\n",
    "import en_core_sci_lg  # model downloaded in previous step"
   ]
  },
  {
   "cell_type": "code",
   "execution_count": 4,
   "metadata": {
    "_cell_guid": "b1076dfc-b9ad-4769-8c92-a6c4dae69d19",
    "_uuid": "8f2839f25d086af736a60e9eeb907d3b93b6e0e5"
   },
   "outputs": [
    {
     "name": "stderr",
     "output_type": "stream",
     "text": [
      "100%|██████████| 1934/1934 [01:02<00:00, 31.13it/s]\n"
     ]
    }
   ],
   "source": [
    "FullPaper=[]\n",
    "directories = [\"biorxiv_medrxiv\"]\n",
    "for directory in directories: #for each of the three folders carrying the json format of different research papers\n",
    "    for file in tqdm(os.listdir(f\"{directory}/{directory}/pdf_json\")): #for every json file\n",
    "        file_path=f\"{directory}/{directory}/pdf_json/{file}\" #set the file path to the file_path variable \n",
    "        paper = json.load(open(file_path,\"rb\"))\n",
    "        title = paper['metadata']['title'] \n",
    "        try:\n",
    "            abstract = paper['abstract']\n",
    "        except:\n",
    "            abstarct=\"\"                \n",
    "        full_text=\"\"     \n",
    "        \n",
    "        for text in paper['body_text']:\n",
    "            full_text +=text['text'] +'\\n\\n' \n",
    "        FullPaper.append([title,abstract,full_text])\n",
    "        \n",
    "FullPaperDataframe=pd.DataFrame(FullPaper,columns=['title','abstract','full_text'])"
   ]
  },
  {
   "cell_type": "markdown",
   "metadata": {},
   "source": [
    "> Our aim is to address these points:\n",
    "* Capabilities to discover a therapeutic (not vaccine) for the disease, and clinical effectiveness studies to discover therapeutics, to include antiviral agents."
   ]
  },
  {
   "cell_type": "code",
   "execution_count": 6,
   "metadata": {},
   "outputs": [
    {
     "name": "stderr",
     "output_type": "stream",
     "text": [
      "100%|██████████| 300/300 [23:29<00:00,  4.70s/it]  \n"
     ]
    }
   ],
   "source": [
    "full_text = FullPaperDataframe['full_text'].head(300)\n",
    "clean_text = [] #a list which will hold all the bodies of the papers after being stripped out of stopwords\n",
    "wnl = WordNetLemmatizer()\n",
    "porter = PorterStemmer()\n",
    "# punctuation_regex = string.punctuation\n",
    "# punctuation_regex = punctuation_regex.replace(\"-\", \"\") # keep the hyphens\n",
    "# pattern = r\"[{}]\".format(punctuation_regex) # generate the regex pattern\n",
    "pattern = \"\"\"!\"#$%&'()*+,.:;<=>?@[\\]^`{|}~\"\"\" #the pattern which will account for punctuation, and will later be used to remove them\n",
    "#cleaning the data and removing stop words\n",
    "for val in  tqdm(full_text):\n",
    "        body_tokens = word_tokenize(val)\n",
    "        paper_body_without_stopwords = [token.lower() for token in body_tokens if not token.lower() in stopwords.words('english') and nltk.pos_tag([token.lower()])!='PRP'] #remove the stop words in the body and return a list\n",
    "        clean_string = ' '.join(paper_body_without_stopwords).lower() #convert the list into string\n",
    "        clean_string = re.sub(rf\"[{pattern}]\", '', clean_string)#remove punctuation except for hyphens\n",
    "        clean_string = re.sub(r\"\\bthe\\b\", r\"\", clean_string) #remove the\n",
    "        clean_string = re.sub(r'\\bwe\\b', '',clean_string ) #remove the pronoun we\n",
    "        clean_string = re.sub(r'\\bit\\b', '',clean_string )#remove the pronoun it\n",
    "        clean_string = re.sub(r'\\bthey\\b', '',clean_string )#remove the pronoun they\n",
    "        clean_string = re.sub(r'\\bcopyright\\b', '',clean_string )#remove the word copyright\n",
    "        clean_string = re.sub(r'\\bhttps\\b', '',clean_string )#remove the word https\n",
    "        clean_string = re.sub(r'\\bet\\b', '',clean_string )#remove the word et\n",
    "        clean_string = re.sub(r'\\bal\\b', '',clean_string )#remove the word al\n",
    "        clean_string = re.sub(r'\\bpreprint\\b', '',clean_string )#remove the word preprint\n",
    "        clean_string = re.sub(r'\\bthis\\b', '',clean_string )#remove the word this\n",
    "        clean_string = re.sub(r'\\bthese\\b', '',clean_string )#remove the word these\n",
    "        clean_string = re.sub(r'\\balso\\b', '',clean_string )#remove the word also\n",
    "        clean_string = re.sub(r'\\bhowever\\b', '',clean_string )#remove the word however\n",
    "        clean_string = re.sub(r'\\balthough\\b', '',clean_string )#remove the word although\n",
    "        clean_string = re.sub(r'\\bamong\\b', '',clean_string )#remove the word among\n",
    "        clean_string = re.sub(r'\\bin\\b', '',clean_string )#remove the preposition in\n",
    "        clean_string = re.sub(r'\\bmedrxiv\\b', '',clean_string )#remove the word medrxiv\n",
    "        clean_string = re.sub(r'\\bbiorxiv\\b', '',clean_string )#remove the word mbiorxiv\n",
    "        clean_string = re.sub(r'\\blicense\\b', '',clean_string )#remove the word license\n",
    "        clean_string = re.sub(r'\\bwithout\\b', '',clean_string )#remove the word without\n",
    "        clean_string = re.sub(r'\\bfig\\b', '',clean_string )#remove the word fig\n",
    "        clean_string = re.sub(r'\\bfigure\\b', '', clean_string)#remove the word figure\n",
    "        clean_string = re.sub(r'\\b[a-zA-Z]\\b', '', clean_string)#remove all the single letters      \n",
    "\n",
    "        clean_string = re.sub(r'^\\d+\\s|\\s\\d+\\s|\\s\\d+$', '', clean_string) #remove any digit that is not part of a word\n",
    "        clean_text.append(clean_string) #add the string to the list \n",
    "stemmed_text=[] # a list which will contain the stemmed bodies of all docs      \n",
    "for val in clean_text: #for the body (which was stripped out of stop words) of each paper\n",
    "    stemmed_val=\"\" #create an empty string\n",
    "    words = val.split(' ') #split body of paper on spaces\n",
    "    for word in words: #for each word in the body\n",
    "        if(word!=\"\"): #if the word is not an empty string\n",
    "            if (word==\"coronaviruses\"):#since the stem and lemmatize functions do not recognize the word coronaviruses as the plural of coronavirus, a conidition was created\n",
    "                word =\"coronavirus\"\n",
    "            stem_lemma =wnl.lemmatize(word) if wnl.lemmatize(word).endswith('e') else porter.stem(word)\n",
    "            stemmed_val+=stem_lemma+\" \" #stem/lemmatize the word and concat it to the string stemmed_val\n",
    "    stemmed_text.append(stemmed_val) #add the string stemmed_val to the list which will contain the stemmed bodies of all docs  "
   ]
  },
  {
   "cell_type": "code",
   "execution_count": 7,
   "metadata": {},
   "outputs": [],
   "source": [
    "# this cell is no longer needed and is kept for reference\n",
    "\n",
    "\n",
    "text = ' '.join(stemmed_text) #convert all the stemmed bodies into one string containing all the stemmed bodies of all papers \n",
    "s=text.split(' ')#split the combination of papers body on space\n",
    "vocab_count = Counter(s)# count the number of vocab (unique words)\n",
    "most_occur = vocab_count.most_common(200) #get the most common 200 words\n",
    "#print(most_occur) #print the most common 200 words"
   ]
  },
  {
   "cell_type": "code",
   "execution_count": 8,
   "metadata": {},
   "outputs": [
    {
     "name": "stdout",
     "output_type": "stream",
     "text": [
      "[('03', 0), ('05', 1), ('10', 2), ('100', 3), ('11', 4), ('12', 5), ('13', 6), ('14', 7), ('15', 8), ('16', 9), ('17', 10), ('18', 11), ('19', 12), ('1a', 13), ('1b', 14), ('1c', 15), ('1d', 16), ('1e', 17), ('20', 18), ('2019', 19), ('2020', 20), ('202003', 21), ('21', 22), ('229e', 23), ('23', 24), ('24', 25), ('25', 26), ('26', 27), ('27', 28), ('28', 29), ('29', 30), ('2a', 31), ('2b', 32), ('2c', 33), ('2d', 34), ('30', 35), ('31', 36), ('34', 37), ('35', 38), ('37', 39), ('38', 40), ('3a', 41), ('3b', 42), ('3c', 43), ('3d', 44), ('3e', 45), ('40', 46), ('4a', 47), ('4b', 48), ('4c', 49), ('4d', 50), ('50', 51), ('56', 52), ('5a', 53), ('5b', 54), ('5c', 55), ('5d', 56), ('60', 57), ('6a', 58), ('6b', 59), ('6c', 60), ('70', 61), ('80', 62), ('95', 63), ('96', 64), ('abil', 65), ('able', 66), ('abnorm', 67), ('above', 68), ('absence', 69), ('absolute', 70), ('abund', 71), ('abundance', 72), ('acceler', 73), ('accept', 74), ('access', 75), ('accessible', 76), ('accompani', 77), ('accord', 78), ('accordance', 79), ('accordingli', 80), ('account', 81), ('accumul', 82), ('accur', 83), ('accuraci', 84), ('accurate', 85), ('ace2', 86), ('achiev', 87), ('achieve', 88), ('acid', 89), ('acquir', 90), ('across', 91), ('act', 92), ('action', 93), ('activ', 94), ('active', 95), ('actual', 96), ('acute', 97), ('ad', 98), ('adapt', 99), ('adaptive', 100), ('add', 101), ('addit', 102), ('address', 103), ('adequate', 104), ('adjac', 105), ('adjust', 106), ('administ', 107), ('administr', 108), ('admiss', 109), ('admit', 110), ('adopt', 111), ('adult', 112), ('advanc', 113), ('advance', 114), ('advantage', 115), ('adverse', 116), ('affect', 117), ('affin', 118), ('african', 119), ('after', 120), ('age', 121), ('agenc', 122), ('agent', 123), ('aggreg', 124), ('aggregate', 125), ('ago', 126), ('agre', 127), ('agreement', 128), ('aid', 129), ('aim', 130), ('air', 131), ('airway', 132), ('algorithm', 133), ('align', 134), ('all', 135), ('allow', 136), ('almost', 137), ('alone', 138), ('along', 139), ('alpha', 140), ('alreadi', 141), ('alter', 142), ('alternative', 143), ('alveolar', 144), ('alway', 145), ('america', 146), ('american', 147), ('amino', 148), ('amount', 149), ('amplif', 150), ('amplifi', 151), ('an', 152), ('analog', 153), ('analys', 154), ('analyse', 155), ('analyt', 156), ('analyz', 157), ('analyze', 158), ('and', 159), ('angiotensin', 160), ('ani', 161), ('anim', 162), ('annot', 163), ('announc', 164), ('annual', 165), ('anoth', 166), ('anova', 167), ('answer', 168), ('anti', 169), ('antibiot', 170), ('antibodi', 171), ('anticip', 172), ('antigen', 173), ('antivir', 174), ('apart', 175), ('appar', 176), ('appear', 177), ('appearance', 178), ('appendix', 179), ('appli', 180), ('applic', 181), ('applicable', 182), ('approach', 183), ('appropriate', 184), ('approv', 185), ('approxim', 186), ('approximate', 187), ('april', 188), ('ard', 189), ('area', 190), ('argu', 191), ('argue', 192), ('aris', 193), ('around', 194), ('arriv', 195), ('article', 196), ('artifici', 197), ('as', 198), ('ascertain', 199), ('asia', 200), ('ask', 201), ('aspect', 202), ('assay', 203), ('assembl', 204), ('assess', 205), ('assign', 206), ('assist', 207), ('associ', 208), ('associate', 209), ('assum', 210), ('assume', 211), ('assumpt', 212), ('asymptomat', 213), ('at', 214), ('atom', 215), ('attack', 216), ('attempt', 217), ('attent', 218), ('attenu', 219), ('attribut', 220), ('autom', 221), ('automat', 222), ('avail', 223), ('averag', 224), ('average', 225), ('avoid', 226), ('awar', 227), ('away', 228), ('axi', 229), ('back', 230), ('background', 231), ('bacteri', 232), ('bacteria', 233), ('balance', 234), ('ban', 235), ('band', 236), ('bar', 237), ('bas', 238), ('baseline', 239), ('basi', 240), ('basic', 241), ('bat', 242), ('batch', 243), ('bayesian', 244), ('bead', 245), ('bear', 246), ('became', 247), ('because', 248), ('becom', 249), ('become', 250), ('bed', 251), ('before', 252), ('began', 253), ('begin', 254), ('behavior', 255), ('behaviour', 256), ('beij', 257), ('believ', 258), ('believe', 259), ('belong', 260), ('benchmark', 261), ('benefici', 262), ('benefit', 263), ('besid', 264), ('best', 265), ('beta', 266), ('better', 267), ('beyond', 268), ('bia', 269), ('bias', 270), ('bind', 271), ('binomi', 272), ('bio', 273), ('bioinformat', 274), ('biolog', 275), ('black', 276), ('blast', 277), ('block', 278), ('blood', 279), ('blue', 280), ('board', 281), ('bodi', 282), ('bond', 283), ('border', 284), ('both', 285), ('bottom', 286), ('bound', 287), ('boundari', 288), ('box', 289), ('branch', 290), ('break', 291), ('breath', 292), ('brief', 293), ('briefli', 294), ('bring', 295), ('broad', 296), ('broadli', 297), ('buffer', 298), ('build', 299), ('built', 300), ('burden', 301), ('but', 302), ('by', 303), ('byintern', 304), ('ca', 305), ('calcul', 306), ('calculate', 307), ('calibr', 308), ('call', 309), ('came', 310), ('cancel', 311), ('cancer', 312), ('candidate', 313), ('canon', 314), ('capabl', 315), ('capable', 316), ('capac', 317), ('capit', 318), ('captur', 319), ('capture', 320), ('care', 321), ('carri', 322), ('carrier', 323), ('catalyt', 324), ('categor', 325), ('categori', 326), ('caus', 327), ('cause', 328), ('caution', 329), ('cc', 330), ('cd4', 331), ('cd8', 332), ('cdc', 333), ('cdna', 334), ('cel', 335), ('cell', 336), ('cellular', 337), ('center', 338), ('central', 339), ('centre', 340), ('centrifug', 341), ('certain', 342), ('chain', 343), ('challeng', 344), ('challenge', 345), ('chance', 346), ('chang', 347), ('change', 348), ('channel', 349), ('character', 350), ('characterist', 351), ('characterize', 352), ('charge', 353), ('check', 354), ('chemic', 355), ('chen', 356), ('chest', 357), ('children', 358), ('china', 359), ('chinese', 360), ('choice', 361), ('choose', 362), ('chose', 363), ('chosen', 364), ('chronic', 365), ('ci', 366), ('circle', 367), ('circul', 368), ('circumstance', 369), ('citi', 370), ('clade', 371), ('claim', 372), ('class', 373), ('classic', 374), ('classif', 375), ('classifi', 376), ('clean', 377), ('clear', 378), ('clearli', 379), ('cleavage', 380), ('clinic', 381), ('clinician', 382), ('clone', 383), ('close', 384), ('closer', 385), ('closest', 386), ('closure', 387), ('cluster', 388), ('co', 389), ('coat', 390), ('cod', 391), ('code', 392), ('codon', 393), ('coeffici', 394), ('cohort', 395), ('cold', 396), ('coli', 397), ('collect', 398), ('color', 399), ('column', 400), ('combat', 401), ('combin', 402), ('combine', 403), ('come', 404), ('commerci', 405), ('commiss', 406), ('committee', 407), ('common', 408), ('commonli', 409), ('commun', 410), ('comorbid', 411), ('compar', 412), ('comparable', 413), ('comparative', 414), ('compare', 415), ('comparison', 416), ('compart', 417), ('compet', 418), ('compil', 419), ('complement', 420), ('complementari', 421), ('complet', 422), ('complete', 423), ('complex', 424), ('complic', 425), ('compon', 426), ('compos', 427), ('composit', 428), ('compound', 429), ('comprehensive', 430), ('compris', 431), ('comput', 432), ('compute', 433), ('concentr', 434), ('concept', 435), ('concern', 436), ('conclude', 437), ('conclus', 438), ('condit', 439), ('conduct', 440), ('confidence', 441), ('confirm', 442), ('conflict', 443), ('conform', 444), ('confound', 445), ('connect', 446), ('consecutive', 447), ('consensu', 448), ('consent', 449), ('consequ', 450), ('consequence', 451), ('conserv', 452), ('consid', 453), ('consider', 454), ('considerable', 455), ('consist', 456), ('constant', 457), ('constitute', 458), ('constrain', 459), ('constraint', 460), ('construct', 461), ('consult', 462), ('consum', 463), ('contact', 464), ('contagi', 465), ('contain', 466), ('contamin', 467), ('content', 468), ('context', 469), ('continu', 470), ('continue', 471), ('contract', 472), ('contrast', 473), ('contribut', 474), ('contribute', 475), ('control', 476), ('controversi', 477), ('convent', 478), ('convers', 479), ('convert', 480), ('coordinate', 481), ('copi', 482), ('core', 483), ('corona', 484), ('coronaviru', 485), ('coronavirus', 486), ('correct', 487), ('correctli', 488), ('correl', 489), ('correlate', 490), ('correspond', 491), ('cost', 492), ('cough', 493), ('could', 494), ('count', 495), ('countri', 496), ('coupl', 497), ('course', 498), ('cov', 499), ('cov2', 500), ('cover', 501), ('coverage', 502), ('covid', 503), ('creat', 504), ('create', 505), ('criteria', 506), ('critic', 507), ('cross', 508), ('crp', 509), ('crucial', 510), ('crystal', 511), ('ct', 512), ('cultur', 513), ('culture', 514), ('cumulative', 515), ('curat', 516), ('cure', 517), ('current', 518), ('curve', 519), ('custom', 520), ('cut', 521), ('cycle', 522), ('cytokine', 523), ('cytoplasm', 524), ('cytotox', 525), ('daili', 526), ('damage', 527), ('dark', 528), ('dash', 529), ('database', 530), ('dataset', 531), ('date', 532), ('day', 533), ('de', 534), ('dead', 535), ('deal', 536), ('death', 537), ('decade', 538), ('decay', 539), ('decemb', 540), ('decid', 541), ('decis', 542), ('declar', 543), ('declare', 544), ('decline', 545), ('decreas', 546), ('decrease', 547), ('deep', 548), ('default', 549), ('defin', 550), ('define', 551), ('definit', 552), ('degrad', 553), ('degree', 554), ('delay', 555), ('delet', 556), ('demand', 557), ('demograph', 558), ('demonstr', 559), ('demonstrate', 560), ('denot', 561), ('denote', 562), ('densiti', 563), ('depart', 564), ('depend', 565), ('dependence', 566), ('depict', 567), ('deplet', 568), ('deploy', 569), ('deposit', 570), ('depth', 571), ('deriv', 572), ('describ', 573), ('describe', 574), ('descript', 575), ('descriptive', 576), ('design', 577), ('despite', 578), ('destin', 579), ('detail', 580), ('detect', 581), ('detectable', 582), ('determin', 583), ('determine', 584), ('develop', 585), ('deviat', 586), ('device', 587), ('diabet', 588), ('diagnos', 589), ('diagnosi', 590), ('diagnost', 591), ('diagram', 592), ('diamond', 593), ('die', 594), ('differ', 595), ('difference', 596), ('differenti', 597), ('difficult', 598), ('difficulti', 599), ('diffus', 600), ('digit', 601), ('dilut', 602), ('dimens', 603), ('dimension', 604), ('dimer', 605), ('direct', 606), ('directli', 607), ('discard', 608), ('discharg', 609), ('discharge', 610), ('discov', 611), ('discoveri', 612), ('discrep', 613), ('discrete', 614), ('discuss', 615), ('disease', 616), ('disord', 617), ('dispers', 618), ('display', 619), ('disrupt', 620), ('dissemin', 621), ('distanc', 622), ('distance', 623), ('distinct', 624), ('distinguish', 625), ('distress', 626), ('distribut', 627), ('divers', 628), ('diverse', 629), ('divid', 630), ('dna', 631), ('document', 632), ('domain', 633), ('domin', 634), ('done', 635), ('donor', 636), ('dose', 637), ('dot', 638), ('doubl', 639), ('double', 640), ('down', 641), ('download', 642), ('downstream', 643), ('dramat', 644), ('drastic', 645), ('draw', 646), ('drawn', 647), ('dri', 648), ('drive', 649), ('driven', 650), ('drop', 651), ('droplet', 652), ('drug', 653), ('dual', 654), ('due', 655), ('durat', 656), ('dure', 657), ('dynam', 658), ('each', 659), ('earli', 660), ('earlier', 661), ('earliest', 662), ('easi', 663), ('easili', 664), ('east', 665), ('ebola', 666), ('ecolog', 667), ('econom', 668), ('edge', 669), ('edit', 670), ('educ', 671), ('effect', 672), ('effective', 673), ('efficaci', 674), ('effici', 675), ('effort', 676), ('eg', 677), ('eight', 678), ('either', 679), ('elderli', 680), ('electron', 681), ('element', 682), ('elev', 683), ('elimin', 684), ('eliminate', 685), ('elsewhere', 686), ('embed', 687), ('emerg', 688), ('emerge', 689), ('emergence', 690), ('empir', 691), ('employ', 692), ('enabl', 693), ('enable', 694), ('encod', 695), ('encode', 696), ('end', 697), ('endogen', 698), ('energi', 699), ('engin', 700), ('enhanc', 701), ('enhance', 702), ('enough', 703), ('enrich', 704), ('enrol', 705), ('ensur', 706), ('ensure', 707), ('enter', 708), ('entir', 709), ('entire', 710), ('entri', 711), ('envelop', 712), ('envelope', 713), ('environ', 714), ('environment', 715), ('enzyme', 716), ('epidem', 717), ('epidemiolog', 718), ('epitheli', 719), ('epitope', 720), ('eq', 721), ('equal', 722), ('equat', 723), ('equilibrium', 724), ('equip', 725), ('equival', 726), ('error', 727), ('especi', 728), ('essenti', 729), ('establish', 730), ('estim', 731), ('estimate', 732), ('etc', 733), ('ethic', 734), ('etiolog', 735), ('europe', 736), ('european', 737), ('evalu', 738), ('evaluate', 739), ('even', 740), ('event', 741), ('eventu', 742), ('everi', 743), ('evid', 744), ('evidence', 745), ('evolut', 746), ('evolutionari', 747), ('evolv', 748), ('exacerb', 749), ('exact', 750), ('exactli', 751), ('examin', 752), ('examine', 753), ('example', 754), ('exceed', 755), ('excel', 756), ('except', 757), ('excess', 758), ('excessive', 759), ('exclud', 760), ('exclude', 761), ('exclus', 762), ('exert', 763), ('exhibit', 764), ('exist', 765), ('existence', 766), ('exit', 767), ('expand', 768), ('expans', 769), ('expect', 770), ('experi', 771), ('experienc', 772), ('experience', 773), ('experiment', 774), ('expert', 775), ('explain', 776), ('explan', 777), ('explicitli', 778), ('exploit', 779), ('explor', 780), ('explore', 781), ('exponenti', 782), ('export', 783), ('expos', 784), ('exposure', 785), ('express', 786), ('extend', 787), ('extens', 788), ('extensive', 789), ('extent', 790), ('extern', 791), ('extra', 792), ('extract', 793), ('extrem', 794), ('extreme', 795), ('face', 796), ('facil', 797), ('facilit', 798), ('facilitate', 799), ('fact', 800), ('factor', 801), ('fail', 802), ('failure', 803), ('fall', 804), ('false', 805), ('famili', 806), ('far', 807), ('fast', 808), ('faster', 809), ('fatal', 810), ('fatigue', 811), ('favor', 812), ('feasible', 813), ('feature', 814), ('feb', 815), ('februari', 816), ('female', 817), ('fever', 818), ('fewer', 819), ('field', 820), ('fight', 821), ('figure', 822), ('file', 823), ('fill', 824), ('filter', 825), ('final', 826), ('find', 827), ('firstli', 828), ('fisher', 829), ('fit', 830), ('five', 831), ('fix', 832), ('flatten', 833), ('flexible', 834), ('flow', 835), ('flu', 836), ('fluctuat', 837), ('fluorescence', 838), ('focu', 839), ('focus', 840), ('fold', 841), ('follow', 842), ('food', 843), ('for', 844), ('force', 845), ('forecast', 846), ('form', 847), ('formal', 848), ('format', 849), ('former', 850), ('formul', 851), ('formula', 852), ('forward', 853), ('found', 854), ('four', 855), ('fourth', 856), ('fraction', 857), ('fragment', 858), ('frame', 859), ('framework', 860), ('france', 861), ('free', 862), ('frequenc', 863), ('frequent', 864), ('from', 865), ('full', 866), ('fulli', 867), ('function', 868), ('fundament', 869), ('further', 870), ('furthermore', 871), ('fusion', 872), ('future', 873), ('gain', 874), ('gamma', 875), ('gap', 876), ('gather', 877), ('gave', 878), ('ge', 879), ('gel', 880), ('genbank', 881), ('gender', 882), ('gene', 883), ('gener', 884), ('genera', 885), ('generate', 886), ('genet', 887), ('genom', 888), ('genome', 889), ('genu', 890), ('geograph', 891), ('germani', 892), ('get', 893), ('github', 894), ('githubcom', 895), ('give', 896), ('given', 897), ('glass', 898), ('global', 899), ('globe', 900), ('glycoprotein', 901), ('go', 902), ('goal', 903), ('gold', 904), ('good', 905), ('govern', 906), ('gradient', 907), ('gradual', 908), ('grant', 909), ('graph', 910), ('gray', 911), ('great', 912), ('greater', 913), ('greatli', 914), ('green', 915), ('ground', 916), ('group', 917), ('grow', 918), ('grown', 919), ('growth', 920), ('guid', 921), ('guidance', 922), ('guide', 923), ('guideline', 924), ('h1n1', 925), ('half', 926), ('hand', 927), ('happen', 928), ('harbor', 929), ('hard', 930), ('hcov', 931), ('he', 932), ('head', 933), ('health', 934), ('healthcare', 935), ('healthi', 936), ('heart', 937), ('heat', 938), ('heavili', 939), ('help', 940), ('hence', 941), ('hepat', 942), ('here', 943), ('herein', 944), ('heterogen', 945), ('high', 946), ('higher', 947), ('highest', 948), ('highli', 949), ('highlight', 950), ('histor', 951), ('histori', 952), ('hit', 953), ('hiv', 954), ('hku1', 955), ('hold', 956), ('home', 957), ('homogen', 958), ('homolog', 959), ('hong', 960), ('hope', 961), ('hopkin', 962), ('hospit', 963), ('host', 964), ('hour', 965), ('household', 966), ('http', 967), ('huang', 968), ('hubei', 969), ('huge', 970), ('human', 971), ('humid', 972), ('hundr', 973), ('hypertens', 974), ('hypothes', 975), ('hypothesi', 976), ('icu', 977), ('id', 978), ('idea', 979), ('ideal', 980), ('ident', 981), ('identif', 982), ('identifi', 983), ('ie', 984), ('if', 985), ('ignor', 986), ('ii', 987), ('iii', 988), ('il', 989), ('ill', 990), ('illumina', 991), ('illustr', 992), ('illustrate', 993), ('imag', 994), ('image', 995), ('immedi', 996), ('immediate', 997), ('immun', 998), ('immune', 999), ('immunolog', 1000), ('impact', 1001), ('impair', 1002), ('implement', 1003), ('impli', 1004), ('implic', 1005), ('import', 1006), ('importance', 1007), ('importantli', 1008), ('impos', 1009), ('improv', 1010), ('improve', 1011), ('inc', 1012), ('incidence', 1013), ('includ', 1014), ('include', 1015), ('inclus', 1016), ('incomplete', 1017), ('incorpor', 1018), ('incorporate', 1019), ('increas', 1020), ('increase', 1021), ('increasingli', 1022), ('increment', 1023), ('incub', 1024), ('inde', 1025), ('independ', 1026), ('index', 1027), ('indic', 1028), ('indicate', 1029), ('indirect', 1030), ('indirectli', 1031), ('individu', 1032), ('induc', 1033), ('induce', 1034), ('induct', 1035), ('infecti', 1036), ('infer', 1037), ('inference', 1038), ('inflamm', 1039), ('inflammatori', 1040), ('influenc', 1041), ('influence', 1042), ('influenza', 1043), ('inform', 1044), ('informative', 1045), ('inhibit', 1046), ('inhibitor', 1047), ('initi', 1048), ('inject', 1049), ('injuri', 1050), ('input', 1051), ('insert', 1052), ('inside', 1053), ('insight', 1054), ('inspect', 1055), ('instance', 1056), ('instead', 1057), ('institut', 1058), ('institute', 1059), ('instruct', 1060), ('instrument', 1061), ('insuffici', 1062), ('integr', 1063), ('intens', 1064), ('intensive', 1065), ('inter', 1066), ('interact', 1067), ('interactive', 1068), ('interest', 1069), ('interestingli', 1070), ('interface', 1071), ('interferon', 1072), ('intermediate', 1073), ('intern', 1074), ('interpret', 1075), ('interquartile', 1076), ('interv', 1077), ('intervent', 1078), ('intracellular', 1079), ('intrins', 1080), ('introduc', 1081), ('introduce', 1082), ('introduct', 1083), ('invasive', 1084), ('inverse', 1085), ('investig', 1086), ('investigate', 1087), ('invitrogen', 1088), ('involv', 1089), ('involve', 1090), ('ion', 1091), ('iqr', 1092), ('iran', 1093), ('isol', 1094), ('isolate', 1095), ('issu', 1096), ('issue', 1097), ('itali', 1098), ('italian', 1099), ('iter', 1100), ('iv', 1101), ('jan', 1102), ('januari', 1103), ('japan', 1104), ('john', 1105), ('joint', 1106), ('journal', 1107), ('keep', 1108), ('kept', 1109), ('key', 1110), ('kidney', 1111), ('kinase', 1112), ('kind', 1113), ('kit', 1114), ('know', 1115), ('knowledge', 1116), ('known', 1117), ('kong', 1118), ('korea', 1119), ('lab', 1120), ('label', 1121), ('laboratori', 1122), ('laboratory', 1123), ('lack', 1124), ('lag', 1125), ('language', 1126), ('larg', 1127), ('large', 1128), ('larger', 1129), ('largest', 1130), ('last', 1131), ('lastli', 1132), ('late', 1133), ('latent', 1134), ('later', 1135), ('latest', 1136), ('latter', 1137), ('layer', 1138), ('le', 1139), ('lead', 1140), ('learn', 1141), ('least', 1142), ('leav', 1143), ('led', 1144), ('left', 1145), ('length', 1146), ('lesion', 1147), ('let', 1148), ('level', 1149), ('li', 1150), ('librari', 1151), ('lie', 1152), ('life', 1153), ('ligand', 1154), ('light', 1155), ('like', 1156), ('likelihood', 1157), ('likewise', 1158), ('limit', 1159), ('line', 1160), ('lineage', 1161), ('linear', 1162), ('link', 1163), ('lipid', 1164), ('liquid', 1165), ('list', 1166), ('literature', 1167), ('little', 1168), ('liu', 1169), ('live', 1170), ('liver', 1171), ('load', 1172), ('local', 1173), ('locat', 1174), ('lock', 1175), ('lockdown', 1176), ('log', 1177), ('logarithm', 1178), ('logist', 1179), ('long', 1180), ('longer', 1181), ('look', 1182), ('loop', 1183), ('loss', 1184), ('lot', 1185), ('low', 1186), ('lower', 1187), ('lowest', 1188), ('lung', 1189), ('lymphocyte', 1190), ('lymphopenia', 1191), ('lysi', 1192), ('ma', 1193), ('machine', 1194), ('macrophage', 1195), ('made', 1196), ('magnitude', 1197), ('main', 1198), ('mainland', 1199), ('mainli', 1200), ('maintain', 1201), ('major', 1202), ('make', 1203), ('male', 1204), ('mammal', 1205), ('manag', 1206), ('mani', 1207), ('manifest', 1208), ('mann', 1209), ('manner', 1210), ('manual', 1211), ('manufactur', 1212), ('manuscript', 1213), ('map', 1214), ('march', 1215), ('margin', 1216), ('mark', 1217), ('marker', 1218), ('market', 1219), ('mask', 1220), ('mass', 1221), ('match', 1222), ('materi', 1223), ('mathemat', 1224), ('matric', 1225), ('matrix', 1226), ('matter', 1227), ('max', 1228), ('maxim', 1229), ('maximum', 1230), ('mean', 1231), ('meanwhile', 1232), ('measur', 1233), ('measure', 1234), ('mechan', 1235), ('medi', 1236), ('media', 1237), ('median', 1238), ('mediat', 1239), ('medic', 1240), ('medicine', 1241), ('medium', 1242), ('meet', 1243), ('member', 1244), ('membrane', 1245), ('mention', 1246), ('mer', 1247), ('mers', 1248), ('metabol', 1249), ('method', 1250), ('methodolog', 1251), ('metric', 1252), ('mg', 1253), ('microscope', 1254), ('microscopi', 1255), ('mid', 1256), ('middle', 1257), ('might', 1258), ('migrat', 1259), ('mild', 1260), ('million', 1261), ('min', 1262), ('mind', 1263), ('minim', 1264), ('minimize', 1265), ('minimum', 1266), ('ministri', 1267), ('minor', 1268), ('minute', 1269), ('miss', 1270), ('mitig', 1271), ('mitigate', 1272), ('mix', 1273), ('mixture', 1274), ('ml', 1275), ('mm', 1276), ('mobil', 1277), ('mobile', 1278), ('mode', 1279), ('model', 1280), ('moderate', 1281), ('modif', 1282), ('modifi', 1283), ('modul', 1284), ('module', 1285), ('molecular', 1286), ('molecule', 1287), ('moment', 1288), ('monitor', 1289), ('month', 1290), ('morbid', 1291), ('more', 1292), ('moreov', 1293), ('mortal', 1294), ('most', 1295), ('mostli', 1296), ('motif', 1297), ('motiv', 1298), ('mouse', 1299), ('move', 1300), ('movement', 1301), ('mrna', 1302), ('much', 1303), ('multi', 1304), ('multiple', 1305), ('multiplex', 1306), ('multipli', 1307), ('muscle', 1308), ('must', 1309), ('mutant', 1310), ('mutat', 1311), ('name', 1312), ('narrow', 1313), ('nasal', 1314), ('nasopharyng', 1315), ('nation', 1316), ('natur', 1317), ('nature', 1318), ('nc', 1319), ('ncbi', 1320), ('ncintern', 1321), ('ncov', 1322), ('ndintern', 1323), ('near', 1324), ('nearli', 1325), ('necessari', 1326), ('necessarili', 1327), ('need', 1328), ('neg', 1329), ('negative', 1330), ('negligible', 1331), ('neighbor', 1332), ('neither', 1333), ('network', 1334), ('neutral', 1335), ('neutrophil', 1336), ('never', 1337), ('nevertheless', 1338), ('new', 1339), ('newli', 1340), ('news', 1341), ('next', 1342), ('ng', 1343), ('nine', 1344), ('nl63', 1345), ('nm', 1346), ('no', 1347), ('node', 1348), ('noise', 1349), ('non', 1350), ('none', 1351), ('nonetheless', 1352), ('norm', 1353), ('normal', 1354), ('northern', 1355), ('not', 1356), ('notabl', 1357), ('notable', 1358), ('note', 1359), ('noteworthi', 1360), ('notic', 1361), ('notice', 1362), ('novel', 1363), ('nt', 1364), ('nucleic', 1365), ('nucleocapsid', 1366), ('nucleotide', 1367), ('numer', 1368), ('object', 1369), ('objective', 1370), ('observ', 1371), ('observe', 1372), ('obtain', 1373), ('obviou', 1374), ('obvious', 1375), ('oc43', 1376), ('occupi', 1377), ('occur', 1378), ('occurrence', 1379), ('odd', 1380), ('of', 1381), ('off', 1382), ('offer', 1383), ('offici', 1384), ('often', 1385), ('old', 1386), ('older', 1387), ('omit', 1388), ('on', 1389), ('once', 1390), ('ongo', 1391), ('onli', 1392), ('online', 1393), ('onset', 1394), ('onto', 1395), ('open', 1396), ('oper', 1397), ('opinion', 1398), ('opportun', 1399), ('oppos', 1400), ('optim', 1401), ('option', 1402), ('or', 1403), ('oral', 1404), ('order', 1405), ('ordinari', 1406), ('organ', 1407), ('organis', 1408), ('origin', 1409), ('other', 1410), ('otherwise', 1411), ('our', 1412), ('out', 1413), ('outbreak', 1414), ('outcome', 1415), ('output', 1416), ('outside', 1417), ('over', 1418), ('overal', 1419), ('overcome', 1420), ('overexpress', 1421), ('overlap', 1422), ('overwhelm', 1423), ('oxygen', 1424), ('package', 1425), ('page', 1426), ('pair', 1427), ('pairwise', 1428), ('pandem', 1429), ('panel', 1430), ('paper', 1431), ('parallel', 1432), ('paramet', 1433), ('parent', 1434), ('part', 1435), ('partial', 1436), ('particip', 1437), ('particle', 1438), ('particular', 1439), ('particularli', 1440), ('pass', 1441), ('passeng', 1442), ('past', 1443), ('pathogen', 1444), ('pathogenesi', 1445), ('patholog', 1446), ('pathway', 1447), ('patient', 1448), ('pattern', 1449), ('pb', 1450), ('pcr', 1451), ('pdb', 1452), ('peak', 1453), ('pearson', 1454), ('people', 1455), ('peptide', 1456), ('per', 1457), ('percent', 1458), ('percentage', 1459), ('perform', 1460), ('performance', 1461), ('perhap', 1462), ('period', 1463), ('periodday', 1464), ('peripher', 1465), ('permiss', 1466), ('perpetu', 1467), ('persist', 1468), ('person', 1469), ('personnel', 1470), ('perspective', 1471), ('ph', 1472), ('pharmaceut', 1473), ('phase', 1474), ('phenomenon', 1475), ('phenotype', 1476), ('phylogenet', 1477), ('physic', 1478), ('physician', 1479), ('physiolog', 1480), ('picture', 1481), ('pipeline', 1482), ('place', 1483), ('plan', 1484), ('plant', 1485), ('plasma', 1486), ('plasmid', 1487), ('plate', 1488), ('platelet', 1489), ('platform', 1490), ('plausible', 1491), ('play', 1492), ('plot', 1493), ('plu', 1494), ('pneumonia', 1495), ('point', 1496), ('poisson', 1497), ('polici', 1498), ('polymerase', 1499), ('pool', 1500), ('poor', 1501), ('popul', 1502), ('portion', 1503), ('pose', 1504), ('posit', 1505), ('positive', 1506), ('possibl', 1507), ('possible', 1508), ('post', 1509), ('posterior', 1510), ('potent', 1511), ('potenti', 1512), ('power', 1513), ('practic', 1514), ('practice', 1515), ('pre', 1516), ('preced', 1517), ('precipit', 1518), ('precis', 1519), ('precise', 1520), ('predict', 1521), ('predictive', 1522), ('predictor', 1523), ('preliminari', 1524), ('prepar', 1525), ('prepare', 1526), ('presence', 1527), ('present', 1528), ('pressure', 1529), ('presum', 1530), ('preval', 1531), ('prevalence', 1532), ('prevent', 1533), ('preventive', 1534), ('previou', 1535), ('previous', 1536), ('primari', 1537), ('primarili', 1538), ('prime', 1539), ('primer', 1540), ('princip', 1541), ('principle', 1542), ('prior', 1543), ('pro', 1544), ('probabl', 1545), ('probe', 1546), ('problem', 1547), ('procedure', 1548), ('process', 1549), ('produc', 1550), ('produce', 1551), ('product', 1552), ('profession', 1553), ('profile', 1554), ('program', 1555), ('progress', 1556), ('project', 1557), ('prolong', 1558), ('promis', 1559), ('promot', 1560), ('promote', 1561), ('prompt', 1562), ('prone', 1563), ('proof', 1564), ('propag', 1565), ('proper', 1566), ('properli', 1567), ('properti', 1568), ('proport', 1569), ('propos', 1570), ('propose', 1571), ('protease', 1572), ('protect', 1573), ('protective', 1574), ('protein', 1575), ('protocol', 1576), ('prove', 1577), ('proven', 1578), ('provid', 1579), ('provide', 1580), ('province', 1581), ('proxi', 1582), ('proxim', 1583), ('public', 1584), ('publicli', 1585), ('publish', 1586), ('pulmonari', 1587), ('purif', 1588), ('purifi', 1589), ('purpose', 1590), ('put', 1591), ('putative', 1592), ('python', 1593), ('qpcr', 1594), ('qualitative', 1595), ('qualiti', 1596), ('quantif', 1597), ('quantifi', 1598), ('quantit', 1599), ('quantitative', 1600), ('quantiti', 1601), ('quarantin', 1602), ('quarantine', 1603), ('queri', 1604), ('question', 1605), ('quick', 1606), ('quickli', 1607), ('quite', 1608), ('r0', 1609), ('rais', 1610), ('raise', 1611), ('random', 1612), ('randomli', 1613), ('rang', 1614), ('range', 1615), ('rank', 1616), ('rapid', 1617), ('rapidli', 1618), ('rare', 1619), ('rate', 1620), ('rather', 1621), ('ratio', 1622), ('ration', 1623), ('raw', 1624), ('ray', 1625), ('re', 1626), ('reach', 1627), ('reaction', 1628), ('reactive', 1629), ('read', 1630), ('reader', 1631), ('readili', 1632), ('reagent', 1633), ('real', 1634), ('realist', 1635), ('reason', 1636), ('reasonable', 1637), ('receiv', 1638), ('receive', 1639), ('recent', 1640), ('receptor', 1641), ('recogn', 1642), ('recognit', 1643), ('recognize', 1644), ('recombin', 1645), ('recommend', 1646), ('reconstruct', 1647), ('record', 1648), ('recov', 1649), ('recoveri', 1650), ('recruit', 1651), ('red', 1652), ('reduc', 1653), ('reduce', 1654), ('reduct', 1655), ('refer', 1656), ('reference', 1657), ('refin', 1658), ('reflect', 1659), ('regard', 1660), ('regardless', 1661), ('region', 1662), ('regress', 1663), ('regul', 1664), ('regular', 1665), ('regulate', 1666), ('regulatori', 1667), ('rel', 1668), ('relat', 1669), ('relationship', 1670), ('relative', 1671), ('relax', 1672), ('releas', 1673), ('release', 1674), ('relev', 1675), ('relevance', 1676), ('reli', 1677), ('reliabl', 1678), ('reliable', 1679), ('remain', 1680), ('remark', 1681), ('remov', 1682), ('remove', 1683), ('repeat', 1684), ('replac', 1685), ('replic', 1686), ('repositori', 1687), ('repres', 1688), ('represent', 1689), ('representative', 1690), ('reproduct', 1691), ('reproductive', 1692), ('republ', 1693), ('repurpos', 1694), ('request', 1695), ('requir', 1696), ('require', 1697), ('research', 1698), ('reserv', 1699), ('reservoir', 1700), ('resid', 1701), ('residu', 1702), ('residue', 1703), ('resistance', 1704), ('resolut', 1705), ('resolv', 1706), ('resource', 1707), ('respect', 1708), ('respective', 1709), ('respiratori', 1710), ('respond', 1711), ('respons', 1712), ('response', 1713), ('responsible', 1714), ('rest', 1715), ('restrict', 1716), ('retain', 1717), ('retriev', 1718), ('retrospective', 1719), ('return', 1720), ('reuse', 1721), ('reveal', 1722), ('reverse', 1723), ('revis', 1724), ('right', 1725), ('rigor', 1726), ('rise', 1727), ('risk', 1728), ('rna', 1729), ('robust', 1730), ('role', 1731), ('room', 1732), ('root', 1733), ('roughli', 1734), ('route', 1735), ('routine', 1736), ('row', 1737), ('rt', 1738), ('rule', 1739), ('run', 1740), ('s1', 1741), ('s2', 1742), ('s3', 1743), ('s4', 1744), ('s5', 1745), ('s6', 1746), ('s7', 1747), ('safe', 1748), ('safeti', 1749), ('sampl', 1750), ('sample', 1751), ('sar', 1752), ('sars', 1753), ('satur', 1754), ('save', 1755), ('say', 1756), ('scale', 1757), ('scan', 1758), ('scatter', 1759), ('scenario', 1760), ('scheme', 1761), ('school', 1762), ('science', 1763), ('scientif', 1764), ('scientist', 1765), ('scope', 1766), ('score', 1767), ('screen', 1768), ('script', 1769), ('sd', 1770), ('seafood', 1771), ('search', 1772), ('season', 1773), ('second', 1774), ('secondari', 1775), ('secondli', 1776), ('secret', 1777), ('section', 1778), ('see', 1779), ('seed', 1780), ('seek', 1781), ('seem', 1782), ('seen', 1783), ('segment', 1784), ('seir', 1785), ('select', 1786), ('self', 1787), ('semi', 1788), ('sense', 1789), ('sensit', 1790), ('sensitive', 1791), ('separ', 1792), ('separate', 1793), ('seq', 1794), ('sequenc', 1795), ('sequence', 1796), ('sequenti', 1797), ('seri', 1798), ('serial', 1799), ('seriou', 1800), ('serum', 1801), ('serv', 1802), ('serve', 1803), ('server', 1804), ('service', 1805), ('set', 1806), ('seven', 1807), ('sever', 1808), ('severe', 1809), ('sex', 1810), ('shanghai', 1811), ('shape', 1812), ('share', 1813), ('shed', 1814), ('sheet', 1815), ('shift', 1816), ('ship', 1817), ('shock', 1818), ('short', 1819), ('shortage', 1820), ('shorter', 1821), ('shown', 1822), ('si', 1823), ('sick', 1824), ('side', 1825), ('sigma', 1826), ('sign', 1827), ('signal', 1828), ('signature', 1829), ('signific', 1830), ('significance', 1831), ('significantli', 1832), ('similar', 1833), ('similarli', 1834), ('simple', 1835), ('simpli', 1836), ('simplic', 1837), ('simplifi', 1838), ('simul', 1839), ('simulate', 1840), ('simultan', 1841), ('since', 1842), ('singapore', 1843), ('single', 1844), ('sir', 1845), ('site', 1846), ('situat', 1847), ('six', 1848), ('size', 1849), ('skew', 1850), ('slightli', 1851), ('slow', 1852), ('small', 1853), ('smaller', 1854), ('so', 1855), ('social', 1856), ('societi', 1857), ('sodium', 1858), ('software', 1859), ('solid', 1860), ('solut', 1861), ('solv', 1862), ('solve', 1863), ('solvent', 1864), ('some', 1865), ('sometim', 1866), ('soon', 1867), ('sort', 1868), ('sought', 1869), ('source', 1870), ('south', 1871), ('southern', 1872), ('space', 1873), ('spain', 1874), ('span', 1875), ('spatial', 1876), ('special', 1877), ('specie', 1878), ('specif', 1879), ('specifi', 1880), ('specimen', 1881), ('spectrum', 1882), ('specul', 1883), ('speculate', 1884), ('speed', 1885), ('spike', 1886), ('split', 1887), ('spread', 1888), ('spring', 1889), ('spss', 1890), ('squar', 1891), ('square', 1892), ('stabil', 1893), ('stable', 1894), ('staff', 1895), ('stage', 1896), ('stain', 1897), ('stand', 1898), ('standard', 1899), ('start', 1900), ('state', 1901), ('statist', 1902), ('statu', 1903), ('stay', 1904), ('stem', 1905), ('step', 1906), ('still', 1907), ('stimul', 1908), ('stochast', 1909), ('stop', 1910), ('store', 1911), ('storm', 1912), ('strain', 1913), ('strand', 1914), ('strategi', 1915), ('stratifi', 1916), ('strength', 1917), ('strengthen', 1918), ('stress', 1919), ('stretch', 1920), ('strict', 1921), ('strong', 1922), ('stronger', 1923), ('strongest', 1924), ('strongli', 1925), ('structur', 1926), ('structure', 1927), ('student', 1928), ('sub', 1929), ('subject', 1930), ('submit', 1931), ('subsequ', 1932), ('subset', 1933), ('substanti', 1934), ('substitut', 1935), ('substrate', 1936), ('subunit', 1937), ('success', 1938), ('such', 1939), ('sudden', 1940), ('suffer', 1941), ('suffici', 1942), ('suggest', 1943), ('suitable', 1944), ('sum', 1945), ('summar', 1946), ('summari', 1947), ('summer', 1948), ('super', 1949), ('superior', 1950), ('supernat', 1951), ('supplement', 1952), ('supplementari', 1953), ('suppli', 1954), ('support', 1955), ('suppress', 1956), ('surface', 1957), ('surprisingli', 1958), ('surround', 1959), ('surveillance', 1960), ('survey', 1961), ('surviv', 1962), ('suscept', 1963), ('susceptible', 1964), ('suspect', 1965), ('sustain', 1966), ('swab', 1967), ('switch', 1968), ('symptom', 1969), ('symptomat', 1970), ('syndrome', 1971), ('synthes', 1972), ('synthesi', 1973), ('synthet', 1974), ('system', 1975), ('systemat', 1976), ('table', 1977), ('tableshow', 1978), ('tag', 1979), ('tail', 1980), ('take', 1981), ('taken', 1982), ('target', 1983), ('task', 1984), ('team', 1985), ('technic', 1986), ('technique', 1987), ('technolog', 1988), ('temperature', 1989), ('template', 1990), ('tempor', 1991), ('ten', 1992), ('tend', 1993), ('term', 1994), ('termin', 1995), ('territori', 1996), ('test', 1997), ('text', 1998), ('th', 1999), ('thank', 2000), ('that', 2001), ('their', 2002), ('then', 2003), ('theoret', 2004), ('therapeut', 2005), ('therapi', 2006), ('there', 2007), ('therebi', 2008), ('therefore', 2009), ('thermo', 2010), ('third', 2011), ('though', 2012), ('thought', 2013), ('thousand', 2014), ('threat', 2015), ('threaten', 2016), ('three', 2017), ('threshold', 2018), ('throat', 2019), ('throughout', 2020), ('throughput', 2021), ('thu', 2022), ('tissue', 2023), ('titer', 2024), ('togeth', 2025), ('took', 2026), ('tool', 2027), ('top', 2028), ('topic', 2029), ('total', 2030), ('touch', 2031), ('toward', 2032), ('toxic', 2033), ('trace', 2034), ('track', 2035), ('tract', 2036), ('tradit', 2037), ('traffic', 2038), ('train', 2039), ('trajectori', 2040), ('transcrib', 2041), ('transcript', 2042), ('transfect', 2043), ('transfer', 2044), ('transform', 2045), ('transit', 2046), ('translat', 2047), ('transmiss', 2048), ('transmit', 2049), ('transport', 2050), ('travel', 2051), ('treat', 2052), ('treatment', 2053), ('tree', 2054), ('trend', 2055), ('tri', 2056), ('trial', 2057), ('trigger', 2058), ('true', 2059), ('tube', 2060), ('turn', 2061), ('twice', 2062), ('type', 2063), ('typic', 2064), ('uk', 2065), ('ultim', 2066), ('unable', 2067), ('uncertain', 2068), ('uncertainti', 2069), ('unclear', 2070), ('uncov', 2071), ('under', 2072), ('underestim', 2073), ('undergo', 2074), ('underli', 2075), ('understand', 2076), ('understood', 2077), ('undetect', 2078), ('unexpect', 2079), ('unfortun', 2080), ('uniform', 2081), ('unique', 2082), ('unit', 2083), ('univers', 2084), ('unknown', 2085), ('unless', 2086), ('unlik', 2087), ('unlike', 2088), ('unpreced', 2089), ('up', 2090), ('updat', 2091), ('update', 2092), ('upon', 2093), ('upper', 2094), ('upstream', 2095), ('urgent', 2096), ('us', 2097), ('usa', 2098), ('usage', 2099), ('user', 2100), ('usual', 2101), ('util', 2102), ('utilize', 2103), ('vaccin', 2104), ('vaccine', 2105), ('valid', 2106), ('validate', 2107), ('valu', 2108), ('valuable', 2109), ('value', 2110), ('vari', 2111), ('variabl', 2112), ('variable', 2113), ('variance', 2114), ('variant', 2115), ('variat', 2116), ('varieti', 2117), ('variou', 2118), ('vast', 2119), ('vector', 2120), ('ventil', 2121), ('verifi', 2122), ('version', 2123), ('versu', 2124), ('vertic', 2125), ('via', 2126), ('viable', 2127), ('view', 2128), ('vir', 2129), ('viral', 2130), ('virolog', 2131), ('virtual', 2132), ('viru', 2133), ('virus', 2134), ('visible', 2135), ('visit', 2136), ('visual', 2137), ('vital', 2138), ('vitro', 2139), ('vivo', 2140), ('volume', 2141), ('vs', 2142), ('vulnerable', 2143), ('wait', 2144), ('wang', 2145), ('want', 2146), ('ward', 2147), ('warrant', 2148), ('wash', 2149), ('water', 2150), ('wave', 2151), ('way', 2152), ('weak', 2153), ('wear', 2154), ('weather', 2155), ('web', 2156), ('website', 2157), ('week', 2158), ('weekli', 2159), ('weight', 2160), ('well', 2161), ('west', 2162), ('western', 2163), ('when', 2164), ('wherea', 2165), ('whether', 2166), ('while', 2167), ('white', 2168), ('whitney', 2169), ('who', 2170), ('whole', 2171), ('whose', 2172), ('wide', 2173), ('wider', 2174), ('widespread', 2175), ('wild', 2176), ('window', 2177), ('with', 2178), ('within', 2179), ('women', 2180), ('word', 2181), ('work', 2182), ('worker', 2183), ('workflow', 2184), ('world', 2185), ('worldwide', 2186), ('worse', 2187), ('worth', 2188), ('would', 2189), ('write', 2190), ('written', 2191), ('wu', 2192), ('wuhan', 2193), ('yang', 2194), ('year', 2195), ('yellow', 2196), ('yet', 2197), ('yield', 2198), ('young', 2199), ('younger', 2200), ('zero', 2201), ('zhang', 2202), ('zika', 2203), ('zone', 2204), ('zoonot', 2205), ('µg', 2206), ('µl', 2207)]\n",
      "[[0.         0.         0.         ... 0.         0.         0.        ]\n",
      " [0.         0.04605091 0.         ... 0.         0.         0.        ]\n",
      " [0.         0.         0.         ... 0.         0.         0.        ]\n",
      " ...\n",
      " [0.         0.         0.02973958 ... 0.         0.05078609 0.05491108]\n",
      " [0.         0.04751266 0.02446851 ... 0.027005   0.05889072 0.        ]\n",
      " [0.         0.         0.         ... 0.         0.         0.        ]]\n"
     ]
    }
   ],
   "source": [
    "#create a tf-idf matrix for the words above\n",
    "v = TfidfVectorizer(sublinear_tf = True, min_df = 0.05,max_df = 0.8)\n",
    "#For the above vectorizer, the first paramater specifies that the 1+log(tf) is going to be used instead of tf.\n",
    "#The second parameter specifies that if a term appears in less than 5% of the docs, ignore it\n",
    "#The third parameter, considers word that do not occur in more than 80% of the corpus\n",
    "tfidf = v.fit_transform(stemmed_text) #fit and transform the stemmed texts which were previously cleaned.\n",
    "print(sorted(v.vocabulary_.items(), key=lambda x : x[1]))\n",
    "print(tfidf.toarray())"
   ]
  },
  {
   "cell_type": "code",
   "execution_count": null,
   "metadata": {},
   "outputs": [],
   "source": [
    "# #Next, the search engine will be implemented with the help of the tf-idf matrix created above and the cosine similarity\n",
    "# query = input(\"Enter your query: \") \n",
    "# finalQuery=\"\" #create an empty string\n",
    "# words = query[0].split(' ') #split the query on spaces\n",
    "# print (words)\n",
    "# for word in words: #for each word in the query\n",
    "#     if(word!=\"\"): #if the word is not an empty string\n",
    "#         if (word==\"coronaviruses\"):#since the stem and lemmatize functions do not recognize the word coronaviruses as the plural of coronavirus, a conidition was created\n",
    "#             word =\"coronavirus\"\n",
    "#         stem_lem_query =wnl.lemmatize(word) if wnl.lemmatize(word).endswith('e') else porter.stem(word)\n",
    "#         finalQuery+=stem_lem_query+\" \" #stem/lemmatize the word and concat it to the string stemmed_val\n",
    "# query = [finalQuery]\n",
    "# print (query)\n",
    "# query_tfidf = v.transform(query)\n",
    "# cosineSimilarities = cosine_similarity(query_tfidf, tfidf).flatten()\n",
    "# print(cosineSimilarities)"
   ]
  },
  {
   "cell_type": "code",
   "execution_count": 10,
   "metadata": {},
   "outputs": [],
   "source": [
    "from sklearn.decomposition import PCA\n",
    "\n",
    "pca = PCA(n_components=0.90) #keep 90% of the variance\n",
    "tf_idf_norm_kmeans= pca.fit_transform(tfidf.toarray())"
   ]
  },
  {
   "cell_type": "code",
   "execution_count": 17,
   "metadata": {},
   "outputs": [
    {
     "name": "stderr",
     "output_type": "stream",
     "text": [
      "100%|██████████| 19/19 [00:05<00:00,  3.73it/s]\n"
     ]
    },
    {
     "data": {
      "text/plain": [
       "<Figure size 1440x1440 with 0 Axes>"
      ]
     },
     "execution_count": 17,
     "metadata": {},
     "output_type": "execute_result"
    },
    {
     "data": {
      "image/png": "[encoded data removed]",
      "text/plain": [
       "<Figure size 432x288 with 1 Axes>"
      ]
     },
     "metadata": {},
     "output_type": "display_data"
    },
    {
     "data": {
      "text/plain": [
       "<Figure size 1440x1440 with 0 Axes>"
      ]
     },
     "metadata": {},
     "output_type": "display_data"
    }
   ],
   "source": [
    "from sklearn.cluster import KMeans\n",
    "\n",
    "import matplotlib.pyplot as plt\n",
    "plt.style.use('ggplot')\n",
    "max_number_of_clusters = 20\n",
    "max_number_of_clusters = max_number_of_clusters+1 # since the range method is exclusive, a one should be added.\n",
    "Ks = range(2, max_number_of_clusters, 1) #Hold the range of clusters k (from 2-max_number_of_clusters)\n",
    "    \n",
    "sum_of_squared_distances = [] #a list which will carry the sum of squared distances at each k\n",
    "for k in tqdm(Ks):\n",
    "    sum_of_squared_distances.append(KMeans(n_clusters=k).fit(tf_idf_norm_kmeans).inertia_)#calculate the sum of squared distance.\n",
    "        \n",
    "        \n",
    "f, ax = plt.subplots(1, 1)\n",
    "ax.plot(Ks, sum_of_squared_distances, marker='o')\n",
    "ax.set_xlabel('Cluster Centroid')\n",
    "ax.set_xticks(Ks)\n",
    "ax.set_xticklabels(Ks)\n",
    "ax.set_ylabel('Sum of Squared Distances')\n",
    "ax.set_title('Sum of Squared Distances VS. Clusters')\n",
    "plt.figure(figsize=(20,20))"
   ]
  },
  {
   "cell_type": "code",
   "execution_count": 18,
   "metadata": {},
   "outputs": [
    {
     "name": "stderr",
     "output_type": "stream",
     "text": [
      "c:\\users\\hp\\appdata\\local\\programs\\python\\python36\\lib\\site-packages\\ipykernel_launcher.py:4: SettingWithCopyWarning: \n",
      "A value is trying to be set on a copy of a slice from a DataFrame.\n",
      "Try using .loc[row_indexer,col_indexer] = value instead\n",
      "\n",
      "See the caveats in the documentation: http://pandas.pydata.org/pandas-docs/stable/user_guide/indexing.html#returning-a-view-versus-a-copy\n",
      "  after removing the cwd from sys.path.\n"
     ]
    },
    {
     "data": {
      "text/plain": [
       "array([ 3,  8,  6,  4,  3,  0,  9,  2, 11,  1,  2,  6,  2, 11,  3,  6,  1,\n",
       "        2,  6,  3,  1,  1,  6,  9,  4,  1,  6,  4,  6,  0,  1,  2,  6,  0,\n",
       "        3,  3,  1,  8,  2,  7,  2,  3,  1,  6,  8,  6, 11,  3,  2,  2,  1,\n",
       "        1,  1,  1, 11,  2,  7, 10,  3,  1,  6,  7,  0,  1,  1,  6,  0,  3,\n",
       "        7,  6,  6,  3,  2, 10,  6,  2,  2, 10,  0,  1,  6,  7,  3,  3,  4,\n",
       "        1,  6,  2,  4,  0,  6,  8,  0,  0,  6,  3,  6,  1,  9,  6,  2,  0,\n",
       "        2,  7,  6,  6, 11,  6,  7,  8,  8,  2,  3,  7,  1,  2,  9,  1,  0,\n",
       "        2,  0,  3,  1,  9,  5,  2,  6,  6,  6, 10,  1,  8,  9,  1,  2,  4,\n",
       "        6,  8, 11,  1, 10,  4,  6,  7,  5,  2, 11,  6,  2,  8,  0,  4, 11,\n",
       "        8,  7,  5,  6,  4,  6, 11,  0,  0,  6,  5,  3,  7,  7,  5,  0,  3,\n",
       "        8,  0,  6,  3, 10,  7,  9,  6,  3,  6,  3,  0,  8,  3,  0,  9,  0,\n",
       "       10, 11,  0,  0,  5,  0, 10,  9,  0, 11,  1,  0,  4,  7,  6,  3,  8,\n",
       "        2,  7, 11,  2,  6,  0,  6,  6,  1,  7,  2,  1,  0,  6, 11,  0,  1,\n",
       "        2, 10,  6,  8,  7,  6,  0,  5,  7,  1,  4,  0,  0,  2,  5,  6,  5,\n",
       "        8,  3,  4,  3,  2,  3, 10,  0,  9,  8,  2, 11,  8,  1,  1,  3,  7,\n",
       "        8, 11, 10,  4,  6,  0,  3, 10,  6,  8,  0,  8,  6, 11,  4,  3,  3,\n",
       "        8,  7,  0,  2, 11,  6,  6,  8,  3,  4,  0, 11,  6,  4,  0,  4,  2,\n",
       "        2,  5,  2,  1,  7,  0,  9,  0,  1,  1,  4])"
      ]
     },
     "execution_count": 18,
     "metadata": {},
     "output_type": "execute_result"
    }
   ],
   "source": [
    "clusters = KMeans(n_clusters=12).fit_predict(tf_idf_norm_kmeans)\n",
    "\n",
    "df =FullPaperDataframe.head(300)\n",
    "df['clusters'] = clusters\n",
    "df.head()\n",
    "clusters"
   ]
  },
  {
   "cell_type": "code",
   "execution_count": null,
   "metadata": {},
   "outputs": [],
   "source": [
    "#tf- idf\n",
    "# # finding the tf-idf matrix for all the abstracts\n",
    "# # vec = TfidfVectorizer()\n",
    "\n",
    "# # ve = vec.fit_transform(clean_abs)\n",
    "\n",
    "# # # displaying the tf-idf of the word in the abstact  \n",
    "# # pd.DataFrame(ve.toarray(), columns=sorted(vec.vocabulary_.keys()))\n",
    "\n",
    "# # #applying tf-idf cosine similarity and printing the result(testing)\n",
    "# # query = [\"prophylaxis\"]\n",
    "# # query_tfidf = vec.transform(query)\n",
    "# # cosineSimilarities = cosine_similarity(query_tfidf, ve).flatten()\n",
    "# # print(cosineSimilarities)"
   ]
  },
  {
   "cell_type": "code",
   "execution_count": null,
   "metadata": {},
   "outputs": [],
   "source": [
    "# taged_abs=[]\n",
    "# nouns=[]\n",
    "# # tagging the clean data\n",
    "# for val in clean_abs:\n",
    "#     taged_abs.append(pos_tag(val.split()))\n",
    "# # extracting the nouns\n",
    "# for i in range(len(taged_abs)):\n",
    "#     doc=[]\n",
    "#     for j in range(len(taged_abs[i])):\n",
    "#         if(taged_abs[i][j][1]=='NN' or taged_abs[i][j][1]=='NNS'):\n",
    "#             doc.append(taged_abs[i][j][0])\n",
    "#     nouns.append(doc)\n",
    "        \n",
    "# print(nouns)\n",
    "\n"
   ]
  },
  {
   "cell_type": "markdown",
   "metadata": {},
   "source": [
    "Above we dcided to calculate the tf-idf so that we can represent every word that is present in the abstract quatitavily. By doing so we can further use the results in order model the topic according to the abstract that we just quatified.Furthermore we will use (Non-negative Matrix Factorization) NMF in order to come up with topic's that carry most weight in the abstract. To accomplish this we are going to filter all the nouns that are avaliable in the abstract and use them to represent the different topis that are avaliable."
   ]
  }
 ],
 "metadata": {
  "kernelspec": {
   "display_name": "Python 3",
   "language": "python",
   "name": "python3"
  },
  "language_info": {
   "codemirror_mode": {
    "name": "ipython",
    "version": 3
   },
   "file_extension": ".py",
   "mimetype": "text/x-python",
   "name": "python",
   "nbconvert_exporter": "python",
   "pygments_lexer": "ipython3",
   "version": "3.6.5"
  }
 },
 "nbformat": 4,
 "nbformat_minor": 4
}
