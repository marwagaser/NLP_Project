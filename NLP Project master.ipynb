{
 "cells": [
  {
   "cell_type": "code",
   "execution_count": 43,
   "metadata": {},
   "outputs": [
    {
     "name": "stderr",
     "output_type": "stream",
     "text": [
      "[nltk_data] Downloading package stopwords to\n",
      "[nltk_data]     C:\\Users\\HP\\AppData\\Roaming\\nltk_data...\n",
      "[nltk_data]   Package stopwords is already up-to-date!\n",
      "[nltk_data] Downloading package punkt to\n",
      "[nltk_data]     C:\\Users\\HP\\AppData\\Roaming\\nltk_data...\n",
      "[nltk_data]   Package punkt is already up-to-date!\n",
      "[nltk_data] Downloading package wordnet to\n",
      "[nltk_data]     C:\\Users\\HP\\AppData\\Roaming\\nltk_data...\n",
      "[nltk_data]   Package wordnet is already up-to-date!\n"
     ]
    },
    {
     "data": {
      "text/plain": [
       "True"
      ]
     },
     "execution_count": 43,
     "metadata": {},
     "output_type": "execute_result"
    }
   ],
   "source": [
    "import nltk\n",
    "import pandas as pd # data processing, CSV file I/O (e.g. pd.read_csv)\n",
    "import re #import the regular expression library\n",
    "import string\n",
    "import os\n",
    "import json\n",
    "from sklearn.feature_extraction.text import CountVectorizer, TfidfVectorizer\n",
    "from sklearn.metrics.pairwise import cosine_similarity\n",
    "from sklearn.cluster import MiniBatchKMeans\n",
    "from sklearn.datasets import load_files\n",
    "from nltk import pos_tag\n",
    "from nltk.tokenize import RegexpTokenizer\n",
    "from tqdm import tqdm\n",
    "from nltk.corpus import stopwords #import the stopwords from the ntlk.corpus library\n",
    "nltk.download('stopwords')\n",
    "from nltk.tokenize import word_tokenize #import the word_tokenize method, which is used to turn sentences into words\"\n",
    "nltk.download('punkt')\n",
    "from collections import Counter\n",
    "from nltk.stem import WordNetLemmatizer, PorterStemmer\n",
    "nltk.download('wordnet')"
   ]
  },
  {
   "cell_type": "code",
   "execution_count": 2,
   "metadata": {
    "_cell_guid": "b1076dfc-b9ad-4769-8c92-a6c4dae69d19",
    "_uuid": "8f2839f25d086af736a60e9eeb907d3b93b6e0e5"
   },
   "outputs": [
    {
     "name": "stderr",
     "output_type": "stream",
     "text": [
      "100%|██████████| 1934/1934 [00:04<00:00, 416.75it/s]\n"
     ]
    }
   ],
   "source": [
    "FullPaper=[]\n",
    "directories = [\"biorxiv_medrxiv\"]\n",
    "for directory in directories: #for each of the three folders carrying the json format of different research papers\n",
    "    for file in tqdm(os.listdir(f\"{directory}/{directory}/pdf_json\")): #for every json file\n",
    "        file_path=f\"{directory}/{directory}/pdf_json/{file}\" #set the file path to the file_path variable \n",
    "        paper = json.load(open(file_path,\"rb\"))\n",
    "        title = paper['metadata']['title'] \n",
    "        try:\n",
    "            abstract = paper['abstract']\n",
    "        except:\n",
    "            abstarct=\"\"                \n",
    "        full_text=\"\"     \n",
    "        \n",
    "        for text in paper['body_text']:\n",
    "            full_text +=text['text'] +'\\n\\n' \n",
    "        FullPaper.append([title,abstract,full_text])\n",
    "        \n",
    "FullPaperDataframe=pd.DataFrame(FullPaper,columns=['title','abstract','full_text'])"
   ]
  },
  {
   "cell_type": "markdown",
   "metadata": {},
   "source": [
    "> Our aim is to address these points:\n",
    "* Capabilities to discover a therapeutic (not vaccine) for the disease, and clinical effectiveness studies to discover therapeutics, to include antiviral agents."
   ]
  },
  {
   "cell_type": "code",
   "execution_count": null,
   "metadata": {},
   "outputs": [
    {
     "name": "stderr",
     "output_type": "stream",
     "text": [
      " 60%|██████    | 3/5 [00:04<00:03,  1.52s/it]"
     ]
    }
   ],
   "source": [
    "full_text = FullPaperDataframe['full_text'].head()\n",
    "clean_text = [] #a list which will hold all the bodies of the papers after being stripped out of stopwords\n",
    "wnl = WordNetLemmatizer()\n",
    "porter = PorterStemmer()\n",
    "# punctuation_regex = string.punctuation\n",
    "# punctuation_regex = punctuation_regex.replace(\"-\", \"\") # keep the hyphens\n",
    "# pattern = r\"[{}]\".format(punctuation_regex) # generate the regex pattern\n",
    "pattern = \"\"\"!\"#$%&'()*+,.:;<=>?@[\\]^`{|}~\"\"\" #the pattern which will account for punctuation, and will later be used to remove them\n",
    "#cleaning the data and removing stop words\n",
    "for val in  tqdm(full_text):\n",
    "        body_tokens = word_tokenize(val)\n",
    "        paper_body_without_stopwords = [token for token in body_tokens if not token in stopwords.words('english')] #remove the stop words in the body and return a list\n",
    "        clean_string = ' '.join(paper_body_without_stopwords).lower() #convert the list into string\n",
    "        clean_string = re.sub(rf\"[{pattern}]\", '', clean_string)#remove punctuation except for hyphens\n",
    "        clean_string = re.sub(r\"\\bthe\\b\", r\"\", clean_string) #remove the\n",
    "        clean_string = re.sub(r'\\bwe\\b', '',clean_string ) #remove the pronoun we\n",
    "        clean_string = re.sub(r'\\bit\\b', '',clean_string )#remove the pronoun it\n",
    "        clean_string = re.sub(r'\\bthey\\b', '',clean_string )#remove the pronoun they\n",
    "        clean_string = re.sub(r'\\bcopyright\\b', '',clean_string )#remove the word copyright\n",
    "        clean_string = re.sub(r'\\bhttps\\b', '',clean_string )#remove the word https\n",
    "        clean_string = re.sub(r'\\bet\\b', '',clean_string )#remove the word et\n",
    "        clean_string = re.sub(r'\\bal\\b', '',clean_string )#remove the word al\n",
    "        clean_string = re.sub(r'\\bpreprint\\b', '',clean_string )#remove the word preprint\n",
    "        clean_string = re.sub(r'\\bthis\\b', '',clean_string )#remove the word this\n",
    "        clean_string = re.sub(r'\\bthese\\b', '',clean_string )#remove the word these\n",
    "        clean_string = re.sub(r'\\balso\\b', '',clean_string )#remove the word also\n",
    "        clean_string = re.sub(r'\\bhowever\\b', '',clean_string )#remove the word however\n",
    "        clean_string = re.sub(r'\\balthough\\b', '',clean_string )#remove the word although\n",
    "        clean_string = re.sub(r'\\bamong\\b', '',clean_string )#remove the word among\n",
    "        clean_string = re.sub(r'\\bin\\b', '',clean_string )#remove the preposition in\n",
    "        clean_string = re.sub(r'\\bwithout\\b', '',clean_string )#remove the word without\n",
    "        clean_string = re.sub(r'\\bfig\\b', '',clean_string )#remove the word fig\n",
    "        clean_string = re.sub(r'\\bfigure\\b', '', clean_string)#remove the word figure\n",
    "        clean_string = re.sub(r'\\b[a-zA-Z]\\b', '', clean_string)#remove all the single letters        \n",
    "        clean_string = re.sub(r'^\\d+\\s|\\s\\d+\\s|\\s\\d+$', '', clean_string) #remove any digit that is not part of a word\n",
    "        clean_text.append(clean_string) #add the string to the list \n",
    "stemmed_text=[] # a list which will contain the stemmed bodies of all docs      \n",
    "for val in clean_text: #for the body (which was stripped out of stop words) of each paper\n",
    "    stemmed_val=\"\" #create an empty string\n",
    "    words = val.split(' ') #split body of paper on spaces\n",
    "    for word in words: #for each word in the body\n",
    "        if(word!=\"\"): #if the word is not an empty string\n",
    "            if (word==\"coronaviruses\"):#since the stem and lemmatize functions do not recognize the word coronaviruses as the plural of coronavirus, a conidition was created\n",
    "                word =\"coronavirus\"\n",
    "            stem_lemma =wnl.lemmatize(word) if wnl.lemmatize(word).endswith('e') else porter.stem(word)\n",
    "            stemmed_val+=stem_lemma+\" \" #stem/lemmatize the word and concat it to the string stemmed_val\n",
    "    stemmed_text.append(stemmed_val) #add the string stemmed_val to the list which will contain the stemmed bodies of all docs  "
   ]
  },
  {
   "cell_type": "code",
   "execution_count": null,
   "metadata": {},
   "outputs": [],
   "source": [
    "# this cell is no longer needed and is kept for reference\n",
    "\n",
    "\n",
    "text = ' '.join(stemmed_text) #convert all the stemmed bodies into one string containing all the stemmed bodies of all papers \n",
    "s=text.split(' ')#split the combination of papers body on space\n",
    "vocab_count = Counter(s)# count the number of vocab (unique words)\n",
    "most_occur = vocab_count.most_common(200) #get the most common 200 words\n",
    "#print(most_occur) #print the most common 200 words"
   ]
  },
  {
   "cell_type": "code",
   "execution_count": 120,
   "metadata": {},
   "outputs": [
    {
     "name": "stdout",
     "output_type": "stream",
     "text": [
      "[('001_2020', 0), ('002_2020', 1), ('003_2020', 2), ('004_2020', 3), ('005', 4), ('005_2020', 5), ('012_2020', 6), ('01_2019', 7), ('01_2020', 8), ('020_2020', 9), ('027_2020', 10), ('029_2020', 11), ('02_2019', 12), ('02_2020', 13), ('03021_2020', 14), ('03_2019', 15), ('03_2020', 16), ('04_2019', 17), ('04_2020', 18), ('05', 19), ('05_2020', 20), ('06_2020', 21), ('07', 22), ('07_2020', 23), ('09_2020', 24), ('100', 25), ('101101', 26), ('1024', 27), ('11', 28), ('110', 29), ('131', 30), ('1311', 31), ('133', 32), ('1331', 33), ('15', 34), ('1580', 35), ('16', 36), ('1645', 37), ('17', 38), ('18', 39), ('19', 40), ('1929', 41), ('19day', 42), ('1_2019', 43), ('1_2020', 44), ('1a', 45), ('1b', 46), ('1c', 47), ('20', 48), ('200bp', 49), ('2018b', 50), ('2019', 51), ('20200110901801', 52), ('202003', 53), ('20200326009001', 54), ('202004', 55), ('2080ti', 56), ('20_2020', 57), ('21_2020', 58), ('256', 59), ('25_2020', 60), ('28', 61), ('29', 62), ('2_2020', 63), ('2a', 64), ('2b', 65), ('2c', 66), ('33', 67), ('38142_2020', 68), ('3a', 69), ('3b', 70), ('3c', 71), ('3d', 72), ('467', 73), ('501_2020', 74), ('521_2020', 75), ('5b', 76), ('675', 77), ('99comcn', 78), ('a12_2020', 79), ('aatii', 80), ('aatiiinsert', 81), ('aba', 82), ('abba', 83), ('abdomin', 84), ('abil', 85), ('able', 86), ('absence', 87), ('abstract', 88), ('abund', 89), ('abundance', 90), ('acceler', 91), ('accept', 92), ('acceptable', 93), ('access', 94), ('accessible', 95), ('accommodate', 96), ('accord', 97), ('account', 98), ('accumul', 99), ('accuraci', 100), ('accurate', 101), ('achiev', 102), ('achieve', 103), ('acid', 104), ('across', 105), ('acrosscountri', 106), ('activ', 107), ('actual', 108), ('ad', 109), ('adam', 110), ('add', 111), ('addit', 112), ('address', 113), ('adequate', 114), ('adjust', 115), ('administ', 116), ('adopt', 117), ('advanc', 118), ('advance', 119), ('advantage', 120), ('adverse', 121), ('affect', 122), ('aflii', 123), ('african', 124), ('after', 125), ('against', 126), ('agent', 127), ('agre', 128), ('aid', 129), ('aii', 130), ('aim', 131), ('air', 132), ('algorithm', 133), ('alighn', 134), ('align', 135), ('alignment', 136), ('all', 137), ('alleg', 138), ('allow', 139), ('almost', 140), ('along', 141), ('alreadi', 142), ('alternative', 143), ('alway', 144), ('ambigu', 145), ('amongst', 146), ('amount', 147), ('amplicon', 148), ('amplif', 149), ('amplifi', 150), ('an', 151), ('analog', 152), ('analys', 153), ('analysiscountri', 154), ('analyz', 155), ('ancestr', 156), ('and', 157), ('angel', 158), ('ani', 159), ('anim', 160), ('announc', 161), ('anoth', 162), ('answer', 163), ('appear', 164), ('appli', 165), ('applic', 166), ('approach', 167), ('appropriate', 168), ('approxim', 169), ('approximately71', 170), ('arbitrarili', 171), ('archaeal', 172), ('architecture', 173), ('area', 174), ('aroundminut', 175), ('arriv', 176), ('arrow', 177), ('art', 178), ('article', 179), ('artifici', 180), ('as', 181), ('asian', 182), ('aspect', 183), ('assay', 184), ('assembl', 185), ('assembledauthor', 186), ('assess', 187), ('assign', 188), ('associ', 189), ('assumpt', 190), ('attent', 191), ('audience', 192), ('australia', 193), ('author', 194), ('automat', 195), ('avail', 196), ('available', 197), ('average', 198), ('avoid', 199), ('bacteri', 200), ('bacteria', 201), ('bag', 202), ('baidu', 203), ('balanc', 204), ('balance', 205), ('bandar', 206), ('bar', 207), ('barcelona', 208), ('bas', 209), ('basic', 210), ('bay', 211), ('bayesian', 212), ('because', 213), ('become', 214), ('bed', 215), ('before', 216), ('began', 217), ('begin', 218), ('behavior', 219), ('beij', 220), ('believe', 221), ('belong', 222), ('benchmark', 223), ('besid', 224), ('best', 225), ('better', 226), ('between', 227), ('bi', 228), ('bia', 229), ('bic', 230), ('bin', 231), ('binari', 232), ('bioinformat', 233), ('biorxiv', 234), ('blast', 235), ('blastx', 236), ('boast', 237), ('bodi', 238), ('bolduc', 239), ('bootstrap', 240), ('bottleneck', 241), ('bottom', 242), ('boundari', 243), ('bowtie2', 244), ('branch', 245), ('brazil', 246), ('breath', 247), ('build', 248), ('built', 249), ('bukhari', 250), ('but', 251), ('by', 252), ('c0', 253), ('c11', 254), ('calcul', 255), ('calculate', 256), ('calibr', 257), ('can', 258), ('capture', 259), ('care', 260), ('carri', 261), ('cascella', 262), ('case', 263), ('caus', 264), ('cause', 265), ('caution', 266), ('cc', 267), ('cell', 268), ('cent', 269), ('center', 270), ('cgu', 271), ('challeng', 272), ('challenge', 273), ('chan', 274), ('chang', 275), ('change', 276), ('changing20052018', 277), ('changsha', 278), ('character', 279), ('check', 280), ('cheer', 281), ('chen', 282), ('child', 283), ('chimer', 284), ('china', 285), ('chinacountri', 286), ('chinalat', 287), ('choice', 288), ('chongq', 289), ('choos', 290), ('choose', 291), ('choosefilt', 292), ('chose', 293), ('chosen', 294), ('circul', 295), ('circulate', 296), ('citi', 297), ('clade', 298), ('cladogram', 299), ('claim', 300), ('claire', 301), ('class', 302), ('classif', 303), ('classifi', 304), ('classifiedord', 305), ('clear', 306), ('clearli', 307), ('climate', 308), ('clock', 309), ('clon', 310), ('close', 311), ('closer', 312), ('cluster', 313), ('cnn', 314), ('co', 315), ('cod', 316), ('collect', 317), ('combin', 318), ('commiss', 319), ('committee', 320), ('common', 321), ('commonli', 322), ('commun', 323), ('comparative', 324), ('compare', 325), ('comparedauthor', 326), ('comparison', 327), ('compet', 328), ('competit', 329), ('competitive', 330), ('competitivedisadvantage', 331), ('complete', 332), ('complex', 333), ('compon', 334), ('composit', 335), ('composition', 336), ('compris', 337), ('comput', 338), ('concatenate', 339), ('concern', 340), ('concert', 341), ('conclus', 342), ('condit', 343), ('conduct', 344), ('confer', 345), ('confidence', 346), ('confirm', 347), ('conga', 348), ('connect', 349), ('consensu', 350), ('consequence', 351), ('conserv', 352), ('consid', 353), ('considerable', 354), ('consist', 355), ('consistedgenomescountri', 356), ('consistentrequir', 357), ('construct', 358), ('contagi', 359), ('contagion', 360), ('contain', 361), ('contained29564', 362), ('containingsingle', 363), ('contamin', 364), ('context', 365), ('contig', 366), ('conting', 367), ('continu', 368), ('contribut', 369), ('contribute', 370), ('contributed63', 371), ('control', 372), ('controversi', 373), ('conveni', 374), ('convent', 375), ('convers', 376), ('convert', 377), ('convolut', 378), ('copi', 379), ('corner', 380), ('coronaviru', 381), ('correct', 382), ('correctli', 383), ('correl', 384), ('correspond', 385), ('cost', 386), ('cough', 387), ('could', 388), ('count', 389), ('countri', 390), ('cov', 391), ('cover', 392), ('covid', 393), ('cq', 394), ('creat', 395), ('create', 396), ('crisi', 397), ('criterion', 398), ('critic', 399), ('criticized', 400), ('crossentropyloss', 401), ('crucial', 402), ('cruz', 403), ('cs_2020', 404), ('cultur', 405), ('culture', 406), ('cumulative', 407), ('current', 408), ('curve', 409), ('cutoff', 410), ('cycle', 411), ('daili', 412), ('damag', 413), ('damage', 414), ('dambe6', 415), ('danger', 416), ('dashboard', 417), ('database', 418), ('dataset', 419), ('datasuggest', 420), ('date', 421), ('day', 422), ('de', 423), ('death', 424), ('debate', 425), ('decemb', 426), ('decide', 427), ('decis', 428), ('decline', 429), ('decreas', 430), ('decrease', 431), ('deep', 432), ('deepfam', 433), ('default', 434), ('defective', 435), ('defin', 436), ('define', 437), ('definitive', 438), ('degener', 439), ('degree', 440), ('delay', 441), ('delet', 442), ('demonstr', 443), ('depend', 444), ('deposit', 445), ('describ', 446), ('describe', 447), ('design', 448), ('despite', 449), ('detail', 450), ('detect', 451), ('determin', 452), ('determine', 453), ('develop', 454), ('differ', 455), ('difference', 456), ('differencescould', 457), ('difficulti', 458), ('digest', 459), ('digestedspei', 460), ('digestive', 461), ('dimens', 462), ('dimension', 463), ('diment', 464), ('direct', 465), ('directli', 466), ('disabl', 467), ('disappear', 468), ('discov', 469), ('discoverednew', 470), ('discoveri', 471), ('discrimin', 472), ('discuss', 473), ('disease', 474), ('display', 475), ('disrupt', 476), ('dissemin', 477), ('distance', 478), ('distanceshow', 479), ('distinct', 480), ('distinguish', 481), ('distress', 482), ('distribut', 483), ('divergence', 484), ('divers', 485), ('diversif', 486), ('divid', 487), ('dna', 488), ('dnadigest', 489), ('dnase', 490), ('doi', 491), ('doiorg', 492), ('domain', 493), ('done', 494), ('dot', 495), ('doubt', 496), ('down', 497), ('download', 498), ('downstream', 499), ('dramat', 500), ('drawn', 501), ('dropout', 502), ('drosophilid', 503), ('duplic', 504), ('dynam', 505), ('each', 506), ('earli', 507), ('earlier', 508), ('easi', 509), ('easili', 510), ('ebola', 511), ('ebolaviru', 512), ('edinburgh', 513), ('editori', 514), ('effect', 515), ('effectreplicon', 516), ('effort', 517), ('eg', 518), ('either', 519), ('element', 520), ('embed', 521), ('emphasis', 522), ('empir', 523), ('enable', 524), ('encod', 525), ('encode', 526), ('end', 527), ('enough', 528), ('ensu', 529), ('ensure', 530), ('entire', 531), ('envelope', 532), ('envf13', 533), ('environ', 534), ('environment', 535), ('epi_isl_402119_betacov_wuhan_ivdc', 536), ('epi_isl_402120_betacov_wuhan_ivdc', 537), ('epi_isl_402123_betacov_wuhan_ipbcams', 538), ('epi_isl_402125_betacov_wuhan', 539), ('epi_isl_402127_betacov_wuhan_wiv02_2019', 540), ('epi_isl_402129_betacov_wuhan_wiv06_2019', 541), ('epi_isl_402132_betacov_wuhan_hbcdc', 542), ('epi_isl_403928_betacov_wuhan_ipbcams', 543), ('epi_isl_403929_betacov_wuhan_ipbcams', 544), ('epi_isl_403930_betacov_wuhan_ipbcams', 545), ('epi_isl_403931_betacov_wuhan_ipbcams', 546), ('epi_isl_403932_betacov_guangdong_20sf012_2020', 547), ('epi_isl_403933_betacov_guangdong_20sf013_2020', 548), ('epi_isl_403934_betacov_guangdong_20sf014_2020', 549), ('epi_isl_403935_betacov_guangdong_20sf025_2020', 550), ('epi_isl_403936_betacov_guangdong_20sf028_2020', 551), ('epi_isl_403937_betacov_guangdong_20sf040_2020', 552), ('epi_isl_403962_betacov_nonthaburi_61_2020', 553), ('epi_isl_403963_betacov_nonthaburi_74_2020', 554), ('epi_isl_404227_betacov_zhejiang_wz', 555), ('epi_isl_404228_betacov_zhejiang_wz', 556), ('epi_isl_404253_betacov_usa_il1_2020', 557), ('epi_isl_404895_betacov_usa_wa1_2020', 558), ('epi_isl_405839_betacov_shenzhen_hku', 559), ('epi_isl_406030_betacov_shenzhen_hku', 560), ('epi_isl_406031_betacov_taiwan_2_2020', 561), ('epi_isl_406034_betacov_usa_ca1_2020', 562), ('epi_isl_406036_betacov_usa_ca2_2020', 563), ('epi_isl_406223_betacov_usa_az1_2020', 564), ('epi_isl_406531_betacov_guangdong_20sf174_2020', 565), ('epi_isl_406533_betacov_guangzhou_20sf206_2020', 566), ('epi_isl_406534_betacov_foshan_20sf207_2020', 567), ('epi_isl_406535_betacov_foshan_20sf210_2020', 568), ('epi_isl_406536_betacov_foshan_20sf211_2020', 569), ('epi_isl_406538_betacov_guangdong_20sf201_2020', 570), ('epi_isl_406593_betacov_shenzhen_szth', 571), ('epi_isl_406594_betacov_shenzhen_szth', 572), ('epi_isl_406596_betacov_france_idf0372_2020', 573), ('epi_isl_406597_betacov_france_idf0373_2020', 574), ('epi_isl_406716_betacov_china_whu01_2020', 575), ('epi_isl_406717_betacov_china_whu02_2020', 576), ('epi_isl_406798_betacov_wuhan_wh01_2019', 577), ('epi_isl_406801_betacov_wuhan_wh04_2020', 578), ('epi_isl_406844_betacov_australia_vic01_2020', 579), ('epi_isl_406862', 580), ('epi_isl_406862_betacov_germany_bavpat1_2020', 581), ('epi_isl_406970_betacov_hangzhou_hz', 582), ('epi_isl_406973_betacov_singapore_1_2020', 583), ('epi_isl_407071_betacov_england_01_2020', 584), ('epi_isl_407073_betacov_england_02_2020', 585), ('epi_isl_407079_betacov_finland_1_2020', 586), ('epi_isl_407084_betacov_japan_ai_i', 587), ('epi_isl_407193_betacov_south_korea_kcdc03_2020', 588), ('epi_isl_407214_betacov_usa_wa1', 589), ('epi_isl_407215_betacov_usa_wa1', 590), ('epi_isl_407313_betacov_hangzhou_hzcdc0001_2020', 591), ('epi_isl_407893_betacov_australia_nsw01_2020', 592), ('epi_isl_407894_betacov_australia_qld01_2020', 593), ('epi_isl_407896_betacov_australia_qld02_2020', 594), ('epi_isl_407976_betacov_belgium_ghb', 595), ('epi_isl_407987_betacov_singapore_2_2020', 596), ('epi_isl_407988_betacov_singapore_3_2020', 597), ('epi_isl_408008_betacov_usa_ca3_2020', 598), ('epi_isl_408009_betacov_usa_ca4_2020', 599), ('epi_isl_408010_betacov_usa_ca5_2020', 600), ('epi_isl_408430_betacov_france_idf0515_2020', 601), ('epi_isl_408431_betacov_france_idf0626_2020', 602), ('epi_isl_408478_betacov_chongqing_yc01_2020', 603), ('epi_isl_408479_betacov_chongqing_zx01_2020', 604), ('epi_isl_408480_betacov_yunnan_ivdc', 605), ('epi_isl_408481_betacov_chongqing_ivdc', 606), ('epi_isl_408484_betacov_sichuan_ivdc', 607), ('epi_isl_408486_betacov_jiangxi_ivdc', 608), ('epi_isl_408488_betacov_jiangsu_ivdc', 609), ('epi_isl_408489_betacov_taiwan_ntu01_2020', 610), ('epi_isl_408514_betacov_wuhan_ivdc', 611), ('epi_isl_408515_betacov_wuhan_ivdc', 612), ('epi_isl_408665_betacov_japan_ty', 613), ('epi_isl_408666_betacov_japan_ty', 614), ('epi_isl_408667_betacov_japan_ty', 615), ('epi_isl_408668_betacov_vietnam_vr03', 616), ('epi_isl_408669_betacov_japan_ky', 617), ('epi_isl_408670_betacov_usa_wi1_2020', 618), ('epi_isl_408976_betacov_sydney_2_2020', 619), ('epi_isl_408977_betacov_sydney_3_2020', 620), ('epi_isl_408978_betacov_wuhan_wh05_2020', 621), ('epi_isl_409067_betacov_usa_ma1_2020', 622), ('epi_isl_410044_betacov_usa_ca6_2020', 623), ('epi_isl_410045_betacov_usa_il2_2020', 624), ('epi_isl_410218_betacov_taiwan_ntu02_2020', 625), ('epi_isl_410301_betacov_nepal_61_2020', 626), ('epi_isl_410486_betacov_france_ra739_2020', 627), ('epi_isl_410531_betacov_japan_na', 628), ('epi_isl_410532_betacov_japan_os', 629), ('epi_isl_410535_betacov_singapore_4_2020', 630), ('epi_isl_410536_betacov_singapore_5_2020', 631), ('epi_isl_410537_betacov_singapore_6_2020', 632), ('epi_isl_410545_betacov_italy_inmi1', 633), ('epi_isl_410546_betacov_italy_inmi1', 634), ('epi_isl_410713_betacov_singapore_7_2020', 635), ('epi_isl_410714_betacov_singapore_8_2020', 636), ('epi_isl_410715_betacov_singapore_9_2020', 637), ('epi_isl_410716_betacov_singapore_10_2020', 638), ('epi_isl_410717_betacov_australia_qld03_2020', 639), ('epi_isl_410718_betacov_australia_qld04_2020', 640), ('epi_isl_410720_betacov_france_idf0372', 641), ('epi_isl_410984_betacov_france_idf0515', 642), ('epi_isl_411060_betacov_fujian_8_2020', 643), ('epi_isl_411066_betacov_fujian_13_2020', 644), ('epi_isl_411218_betacov_france_idf0571_2020', 645), ('epi_isl_411219_betacov_france_idf0386', 646), ('epi_isl_411220_betacov_france_idf0386', 647), ('epi_isl_411902_betacov_cambodia_0012_2020', 648), ('epi_isl_411915_betacov_taiwan_cgmh', 649), ('epi_isl_411926_betacov_taiwan_3_2020', 650), ('epi_isl_411927_betacov_taiwan_4_2020', 651), ('epi_isl_411950_betacov_jiangsu_js01_2020', 652), ('epi_isl_411951_betacov_sweden_01_2020', 653), ('epi_isl_411952_betacov_jiangsu_js02_2020', 654), ('epi_isl_411953_betacov_jiangsu_js03_2020', 655), ('epi_isl_411954_betacov_usa_ca7_2020', 656), ('epi_isl_411955_betacov_usa_ca8_2020', 657), ('epi_isl_411956_betacov_usa_tx1_2020', 658), ('epi_isl_411957_betacov_china_wh', 659), ('epi_isl_412026_betacov_hefei_2_2020', 660), ('epi_isl_412028_betacov_hong_kong_vm20001061_2020', 661), ('epi_isl_412029_betacov_hong_kong_vm20001988_2020', 662), ('epi_isl_412030_betacov_hong_kong_vb20026565_2020', 663), ('epi_isl_412459_betacov_jingzhou_hbcdc', 664), ('epi_isl_412862_betacov_usa_ca9_2020', 665), ('epi_isl_412869_betacov_korea_kcdc05_2020', 666), ('epi_isl_412870_betacov_korea_kcdc06_2020', 667), ('epi_isl_412871_betacov_korea_kcdc07_2020', 668), ('epi_isl_412872_betacov_korea_kcdc12_2020', 669), ('epi_isl_412873_betacov_korea_kcdc24_2020', 670), ('epi_isl_412898__betacov_wuhan_hbcdc', 671), ('epi_isl_412899__betacov_wuhan_hbcdc', 672), ('epi_isl_412912_betacov_germany_baden', 673), ('epi_isl_412964', 674), ('epi_isl_412965_betacov_canada_bc_37_0', 675), ('epi_isl_412966_betacov_china_iqtc01_2020', 676), ('epi_isl_412967_betacov_china_iqtc02_2020', 677), ('epi_isl_412968_betacov_japan_hu_dp_kng_19', 678), ('epi_isl_412969_betacov_japan_hu_dp_kng_19', 679), ('epi_isl_412970_betacov_usa_wa2_2020', 680), ('epi_isl_412971_betacov_finland_fin', 681), ('epi_isl_412972_betacov_mexico_cdmx_indre_01_2020', 682), ('epi_isl_412973', 683), ('epi_isl_412973_betacov_italy_cdg1_2020', 684), ('epi_isl_412974_betacov_italy_spl1_2020', 685), ('epi_isl_412975_betacov_australia_nsw05_2020', 686), ('epi_isl_412978__betacov_wuhan_hbcdc', 687), ('epi_isl_412979__betacov_wuhan_hbcdc', 688), ('epi_isl_412980__betacov_wuhan_hbcdc', 689), ('epi_isl_412981__betacov_wuhan_hbcdc', 690), ('epi_isl_412982__betacov_wuhan_hbcdc', 691), ('epi_isl_412983_betacov_tianmen_hbcdc', 692), ('epi_isl_413014_betacov_canada_on', 693), ('epi_isl_413015_betacov_canada_on_vido', 694), ('epi_isl_413016_betacov_brazil_spbr', 695), ('epi_isl_413017_betacov_south_korea_kumc01_2020', 696), ('epi_isl_413018_betacov_south_korea_kumc02_2020', 697), ('epi_isl_413019_betacov_switzerland_1000477102_2020', 698), ('epi_isl_413020_betacov_switzerland_1000477377_2020', 699), ('epi_isl_413555', 700), ('epi_isl_413648', 701), ('epicent', 702), ('epidem', 703), ('epidemiolog', 704), ('equal', 705), ('equat', 706), ('equilater', 707), ('error', 708), ('especi', 709), ('essenti', 710), ('estim', 711), ('estimate', 712), ('etc', 713), ('ethnic', 714), ('etiolog', 715), ('european', 716), ('evalu', 717), ('evaluate', 718), ('even', 719), ('event', 720), ('ever', 721), ('everi', 722), ('evid', 723), ('evidence', 724), ('evidenceloop', 725), ('evolut', 726), ('evolutionari', 727), ('evolv', 728), ('example', 729), ('exclud', 730), ('exercise', 731), ('exist', 732), ('existence', 733), ('expect', 734), ('expense', 735), ('experi', 736), ('experienc', 737), ('explicitli', 738), ('explor', 739), ('exponenti', 740), ('exposed', 741), ('extensive', 742), ('extern', 743), ('extra', 744), ('extract', 745), ('extrem', 746), ('extreme', 747), ('f1', 748), ('f4', 749), ('f6_2020', 750), ('f7', 751), ('facilitate', 752), ('factor', 753), ('fairli', 754), ('faith', 755), ('fake', 756), ('false', 757), ('famili', 758), ('far', 759), ('fast', 760), ('faster', 761), ('fastq', 762), ('fastqc', 763), ('fatal', 764), ('favor', 765), ('feature', 766), ('featuresseri', 767), ('feb', 768), ('februari', 769), ('february15', 770), ('februaryth', 771), ('fed', 772), ('feed', 773), ('fever', 774), ('fewer', 775), ('fi', 776), ('field', 777), ('fifteen', 778), ('fig1', 779), ('fight', 780), ('figure', 781), ('figures6', 782), ('file', 783), ('filoviridae', 784), ('filter', 785), ('final', 786), ('find', 787), ('fine', 788), ('finland', 789), ('first', 790), ('firstnucleotid', 791), ('fit', 792), ('five', 793), ('flip', 794), ('flu', 795), ('fmdv', 796), ('fmdvlibrari', 797), ('fmdvread', 798), ('focu', 799), ('focus', 800), ('fold', 801), ('food', 802), ('for', 803), ('force', 804), ('form', 805), ('format', 806), ('formul', 807), ('forth', 808), ('forum', 809), ('found', 810), ('fragment', 811), ('framework', 812), ('free', 813), ('freedom', 814), ('frequenc', 815), ('frequent', 816), ('from', 817), ('fuel', 818), ('full', 819), ('fulli', 820), ('function', 821), ('fund', 822), ('fungal', 823), ('further', 824), ('furthermore', 825), ('furthest', 826), ('future', 827), ('gap', 828), ('gene', 829), ('gener', 830), ('genera', 831), ('generate', 832), ('genet', 833), ('genom', 834), ('genome', 835), ('genomerepl', 836), ('genu', 837), ('genus', 838), ('genushighlight', 839), ('genuslevel', 840), ('geograph', 841), ('germani', 842), ('get', 843), ('giovannucci', 844), ('gisaid', 845), ('give', 846), ('given', 847), ('glasgow', 848), ('glut', 849), ('gnn', 850), ('goal', 851), ('govern', 852), ('gpu', 853), ('grain', 854), ('gram', 855), ('grant', 856), ('great', 857), ('greatest', 858), ('group', 859), ('growingproduc', 860), ('guarantee', 861), ('gut', 862), ('h0', 863), ('h1', 864), ('handle', 865), ('happen', 866), ('hard', 867), ('hasegawa', 868), ('hasgawa', 869), ('hazard', 870), ('hb', 871), ('health', 872), ('healthcare', 873), ('healthcareresource', 874), ('heat', 875), ('heavi', 876), ('help', 877), ('hemorrhag', 878), ('hence', 879), ('here', 880), ('hereaft', 881), ('heterogen', 882), ('hf', 883), ('hidden', 884), ('hierarch', 885), ('high', 886), ('higher', 887), ('highest', 888), ('highli', 889), ('highlight', 890), ('hindiii', 891), ('hindrance', 892), ('hit', 893), ('hiv', 894), ('hold', 895), ('holder', 896), ('homolog', 897), ('hopkin', 898), ('hospit', 899), ('host', 900), ('hot', 901), ('hotspot', 902), ('hour', 903), ('hpcc', 904), ('http', 905), ('hu', 906), ('hubei', 907), ('human', 908), ('humid', 909), ('hybridis', 910), ('hype', 911), ('hyper', 912), ('hyperparamet', 913), ('hypothes', 914), ('hypothesi', 915), ('hypothesis', 916), ('icvt', 917), ('idba', 918), ('idea', 919), ('ideal', 920), ('ident', 921), ('identifi', 922), ('idi', 923), ('ie', 924), ('ijk', 925), ('illumina', 926), ('image', 927), ('imm', 928), ('immunodefici', 929), ('impact', 930), ('implement', 931), ('implic', 932), ('import', 933), ('importance', 934), ('importantli', 935), ('improv', 936), ('inadequ', 937), ('includ', 938), ('include', 939), ('incorpor', 940), ('incorporate', 941), ('increas', 942), ('increase', 943), ('incub', 944), ('inde', 945), ('independ', 946), ('independent', 947), ('index', 948), ('indic', 949), ('individu', 950), ('infect', 951), ('infecti', 952), ('infectious', 953), ('infer', 954), ('inference', 955), ('influence', 956), ('influenza', 957), ('inform', 958), ('informative', 959), ('inhomogen', 960), ('initi', 961), ('input', 962), ('insert', 963), ('inside', 964), ('instead', 965), ('instructive', 966), ('insuffici', 967), ('integr', 968), ('intelligence', 969), ('interact', 970), ('interactauthor', 971), ('interactive', 972), ('interest', 973), ('intern', 974), ('internationally', 975), ('interpol', 976), ('interpret', 977), ('interval14', 978), ('introduc', 979), ('introduce', 980), ('introduct', 981), ('invertebrate', 982), ('investig', 983), ('investigate', 984), ('involv', 985), ('iq', 986), ('iran', 987), ('irrelev', 988), ('irresponsible', 989), ('isl_2020', 990), ('islp1_2020', 991), ('islp3_2020', 992), ('isol', 993), ('isolatescontain', 994), ('itali', 995), ('italian', 996), ('januari', 997), ('januaryaccommodate', 998), ('januaryproduce', 999), ('jiujiang', 1000), ('john', 1001), ('js', 1002), ('jx', 1003), ('kampf', 1004), ('keep', 1005), ('kept', 1006), ('key', 1007), ('kit', 1008), ('kmer', 1009), ('knn', 1010), ('knncorrect', 1011), ('knowledge', 1012), ('known', 1013), ('korea', 1014), ('kpni', 1015), ('label', 1016), ('labels', 1017), ('laboratori', 1018), ('labs', 1019), ('lack', 1020), ('language', 1021), ('larg', 1022), ('large', 1023), ('larger', 1024), ('largescale', 1025), ('largest', 1026), ('lasergene229', 1027), ('last', 1028), ('lastli', 1029), ('later', 1030), ('latitude', 1031), ('layer', 1032), ('layerch', 1033), ('layerhidden', 1034), ('lazio', 1035), ('le', 1036), ('lead', 1037), ('leaf', 1038), ('learn', 1039), ('learning', 1040), ('least', 1041), ('leav', 1042), ('led', 1043), ('length', 1044), ('lengthkb', 1045), ('lessconfirm', 1046), ('lesssecond', 1047), ('lessspeci', 1048), ('let', 1049), ('level', 1050), ('levelconsid', 1051), ('levelrepl', 1052), ('librari', 1053), ('license', 1054), ('lie', 1055), ('life', 1056), ('lifecyclerecapitul', 1057), ('ligat', 1058), ('ligatedpbluescript', 1059), ('light', 1060), ('like', 1061), ('likelihood', 1062), ('limit', 1063), ('line', 1064), ('lineage', 1065), ('linear', 1066), ('linearis', 1067), ('link', 1068), ('list', 1069), ('liter', 1070), ('little', 1071), ('lo', 1072), ('loc', 1073), ('local', 1074), ('localis', 1075), ('locat', 1076), ('lockdown', 1077), ('logit', 1078), ('lombardi', 1079), ('long', 1080), ('loop', 1081), ('lot', 1082), ('low', 1083), ('lower', 1084), ('lowest', 1085), ('lytle', 1086), ('machine', 1087), ('made', 1088), ('main', 1089), ('mainland', 1090), ('mainli', 1091), ('maintain', 1092), ('major', 1093), ('make', 1094), ('maker', 1095), ('mani', 1096), ('map', 1097), ('mar', 1098), ('march18', 1099), ('march19', 1100), ('marchalreadi', 1101), ('marchrd', 1102), ('marchrdgenome', 1103), ('marchrdth', 1104), ('marchth', 1105), ('marchthgenome', 1106), ('markov', 1107), ('mask', 1108), ('mass', 1109), ('match', 1110), ('materi', 1111), ('mathemat', 1112), ('matric', 1113), ('matrix', 1114), ('max', 1115), ('maximum', 1116), ('may', 1117), ('mayreflect', 1118), ('mean', 1119), ('measure', 1120), ('mechan', 1121), ('media', 1122), ('medium', 1123), ('medrxiv', 1124), ('mengo', 1125), ('mention', 1126), ('mer', 1127), ('metagenom', 1128), ('metapopul', 1129), ('method', 1130), ('metropolis', 1131), ('mexico', 1132), ('microbe', 1133), ('middle', 1134), ('might', 1135), ('migrat', 1136), ('milan', 1137), ('million', 1138), ('mind', 1139), ('minimalrequir', 1140), ('minimize', 1141), ('minimum', 1142), ('mislead', 1143), ('miss', 1144), ('misunderstand', 1145), ('mitig', 1146), ('mitigate', 1147), ('mix', 1148), ('ml', 1149), ('mobil', 1150), ('mock', 1151), ('model', 1152), ('modifi', 1153), ('molecular', 1154), ('mononegaviral', 1155), ('month', 1156), ('moreov', 1157), ('most', 1158), ('mostli', 1159), ('motif', 1160), ('motiv', 1161), ('movement', 1162), ('much', 1163), ('multiple', 1164), ('multiplepk', 1165), ('municip', 1166), ('must', 1167), ('mutagenesi', 1168), ('mutagenesisperform', 1169), ('mutantcontrol', 1170), ('mutat', 1171), ('name', 1172), ('nanchang', 1173), ('napl', 1174), ('napoli', 1175), ('nation', 1176), ('natur', 1177), ('nature', 1178), ('naïve', 1179), ('nbc', 1180), ('nc', 1181), ('ncbi', 1182), ('ncov', 1183), ('nd', 1184), ('ndintern', 1185), ('near', 1186), ('nearest', 1187), ('nearli', 1188), ('neb', 1189), ('necess', 1190), ('necessarili', 1191), ('need', 1192), ('negative', 1193), ('neighbor', 1194), ('netherland', 1195), ('network', 1196), ('neural', 1197), ('new', 1198), ('newli', 1199), ('news', 1200), ('next', 1201), ('nextgener', 1202), ('nextstrain', 1203), ('nextstrainteam', 1204), ('nhcc', 1205), ('nhei', 1206), ('nmia', 1207), ('no', 1208), ('node', 1209), ('noise', 1210), ('non', 1211), ('none', 1212), ('normal', 1213), ('notabl', 1214), ('note', 1215), ('notice', 1216), ('notori', 1217), ('novel', 1218), ('novo', 1219), ('nowaday', 1220), ('nr', 1221), ('nucleic', 1222), ('nucleotide', 1223), ('numbers15to10', 1224), ('o1', 1225), ('o2', 1226), ('o3', 1227), ('observ', 1228), ('observe', 1229), ('obtain', 1230), ('occur', 1231), ('occurrence', 1232), ('of', 1233), ('offer', 1234), ('often', 1235), ('on', 1236), ('onehot', 1237), ('onepk', 1238), ('ongo', 1239), ('onli', 1240), ('onset', 1241), ('open', 1242), ('oper', 1243), ('optimize', 1244), ('optimizerlearn', 1245), ('option', 1246), ('order', 1247), ('organ', 1248), ('orient', 1249), ('origin', 1250), ('other', 1251), ('our', 1252), ('outbreak', 1253), ('outperform', 1254), ('output', 1255), ('outside', 1256), ('overal', 1257), ('overfit', 1258), ('overlap', 1259), ('oxford', 1260), ('p2p3', 1261), ('package', 1262), ('paid', 1263), ('pain', 1264), ('pair', 1265), ('pairwise', 1266), ('pandem', 1267), ('paper', 1268), ('paramet', 1269), ('paraphylet', 1270), ('parent', 1271), ('parsimoni', 1272), ('part', 1273), ('partial', 1274), ('particular', 1275), ('particularli', 1276), ('pass', 1277), ('passag', 1278), ('passage', 1279), ('passagereplicon', 1280), ('path', 1281), ('pathogen', 1282), ('patient', 1283), ('pattern', 1284), ('pbluescript', 1285), ('pbluescriptc11', 1286), ('pcr', 1287), ('peer', 1288), ('people', 1289), ('per', 1290), ('percentage', 1291), ('perform', 1292), ('performance', 1293), ('performedpurifi', 1294), ('performedresampl', 1295), ('period', 1296), ('permiss', 1297), ('perpetu', 1298), ('persist', 1299), ('phage', 1300), ('phenomenon', 1301), ('phl2445_2020', 1302), ('phylogenet', 1303), ('phylogeni', 1304), ('phylogeny', 1305), ('phylogeograph', 1306), ('phylogeographi', 1307), ('phymm', 1308), ('phymmbl', 1309), ('picornaviru', 1310), ('picornavirus', 1311), ('picornavirusesauthor', 1312), ('pipeline', 1313), ('pirouz', 1314), ('pk', 1315), ('pk1', 1316), ('pk3', 1317), ('pk4', 1318), ('pkfound', 1319), ('pkrevers', 1320), ('pks4', 1321), ('pks4delet', 1322), ('pksreplication', 1323), ('place', 1324), ('plan', 1325), ('plaque', 1326), ('plasmid', 1327), ('plot', 1328), ('pneumonia', 1329), ('point', 1330), ('polici', 1331), ('poly', 1332), ('polymerase', 1333), ('pool', 1334), ('poor', 1335), ('popul', 1336), ('popular', 1337), ('portug', 1338), ('pose', 1339), ('posit', 1340), ('positionspecif', 1341), ('positive', 1342), ('possibl', 1343), ('possible', 1344), ('post', 1345), ('posterior', 1346), ('potenti', 1347), ('practic', 1348), ('pre', 1349), ('preced', 1350), ('predic', 1351), ('predict', 1352), ('predictedconsist', 1353), ('predictionread', 1354), ('prefer', 1355), ('preliminari', 1356), ('prep', 1357), ('prepar', 1358), ('preprocess', 1359), ('presence', 1360), ('presencemultiple', 1361), ('prevent', 1362), ('previou', 1363), ('previous', 1364), ('primer', 1365), ('pro', 1366), ('probabl', 1367), ('problem', 1368), ('procedure', 1369), ('process', 1370), ('produce', 1371), ('product', 1372), ('productive', 1373), ('profession', 1374), ('program', 1375), ('project', 1376), ('pronounc', 1377), ('proofread', 1378), ('proper', 1379), ('proport', 1380), ('propos', 1381), ('prostructur', 1382), ('protect', 1383), ('protein', 1384), ('protocol', 1385), ('proven', 1386), ('provid', 1387), ('provide', 1388), ('provinc', 1389), ('province', 1390), ('provinci', 1391), ('proxi', 1392), ('proximate', 1393), ('ptgfp', 1394), ('public', 1395), ('publicli', 1396), ('publish', 1397), ('purelink', 1398), ('purif', 1399), ('purpose', 1400), ('put', 1401), ('putative', 1402), ('putativepackag', 1403), ('pytorch', 1404), ('qianxibaiducom', 1405), ('qualitative', 1406), ('qualiti', 1407), ('quantit', 1408), ('quarantine', 1409), ('quartet', 1410), ('question', 1411), ('questionable', 1412), ('quite', 1413), ('rais', 1414), ('ramsar', 1415), ('randomli', 1416), ('range', 1417), ('rank', 1418), ('rapid', 1419), ('rare', 1420), ('rate', 1421), ('rather', 1422), ('raw', 1423), ('ray', 1424), ('rdp', 1425), ('re', 1426), ('reaction', 1427), ('reactiv', 1428), ('read', 1429), ('readlevel', 1430), ('readsgut', 1431), ('real', 1432), ('recent', 1433), ('reciproc', 1434), ('recombin', 1435), ('recommend', 1436), ('reconstruct', 1437), ('record', 1438), ('recov', 1439), ('reduc', 1440), ('reduct', 1441), ('refer', 1442), ('reference', 1443), ('reflect', 1444), ('reform', 1445), ('reframe', 1446), ('refseq', 1447), ('regard', 1448), ('region', 1449), ('regions', 1450), ('regress', 1451), ('reinforc', 1452), ('reject', 1453), ('rel', 1454), ('relat', 1455), ('relationship', 1456), ('release', 1457), ('relev', 1458), ('reliabl', 1459), ('reliable', 1460), ('rell', 1461), ('remain', 1462), ('remainday', 1463), ('remov', 1464), ('remove', 1465), ('removedsub', 1466), ('renown', 1467), ('repeat', 1468), ('repeats86', 1469), ('replac', 1470), ('replic', 1471), ('replicate', 1472), ('replication', 1473), ('replicativeadvantage', 1474), ('replicon', 1475), ('repliconscontain', 1476), ('report', 1477), ('repres', 1478), ('represent', 1479), ('representative', 1480), ('representingc', 1481), ('requir', 1482), ('rescu', 1483), ('research', 1484), ('resemble', 1485), ('reserv', 1486), ('reserve', 1487), ('residuespk3', 1488), ('resolut', 1489), ('resolv', 1490), ('resource', 1491), ('respect', 1492), ('respiratori', 1493), ('response', 1494), ('responsible', 1495), ('responsiblewest', 1496), ('restore', 1497), ('result', 1498), ('retrain', 1499), ('retriev', 1500), ('reuse', 1501), ('reveal', 1502), ('reverse', 1503), ('reverseprim', 1504), ('review', 1505), ('right', 1506), ('rigor', 1507), ('risk', 1508), ('rna', 1509), ('robust', 1510), ('roc', 1511), ('role', 1512), ('rome', 1513), ('root', 1514), ('route', 1515), ('run', 1516), ('rush', 1517), ('s1', 1518), ('s2', 1519), ('sagripanti', 1520), ('sampl', 1521), ('sample', 1522), ('santa', 1523), ('sar', 1524), ('sars', 1525), ('satisfi', 1526), ('sc', 1527), ('scale', 1528), ('scatter', 1529), ('scenario', 1530), ('science', 1531), ('scientif', 1532), ('score', 1533), ('screen', 1534), ('search', 1535), ('seattle', 1536), ('second', 1537), ('section', 1538), ('see', 1539), ('seem', 1540), ('seen', 1541), ('seir', 1542), ('select', 1543), ('sem', 1544), ('semant', 1545), ('sensit', 1546), ('sensitive', 1547), ('sentence', 1548), ('separ', 1549), ('seqman', 1550), ('sequenc', 1551), ('sequence', 1552), ('sequencepotenti', 1553), ('sequenceremov', 1554), ('sequencescountri', 1555), ('sequenti', 1556), ('sequentiallypassag', 1557), ('seriou', 1558), ('serv', 1559), ('serval', 1560), ('serve', 1561), ('set', 1562), ('sever', 1563), ('severe', 1564), ('shanghai', 1565), ('shape', 1566), ('share', 1567), ('sharpli', 1568), ('shed', 1569), ('sheer', 1570), ('shi', 1571), ('shimodaira', 1572), ('short', 1573), ('shortage', 1574), ('show', 1575), ('shown', 1576), ('side', 1577), ('sig', 1578), ('signal', 1579), ('significance', 1580), ('significantli', 1581), ('similar', 1582), ('similarli', 1583), ('simul', 1584), ('simulate', 1585), ('since', 1586), ('singapore', 1587), ('single', 1588), ('singleauthor', 1589), ('singleton', 1590), ('site', 1591), ('site3', 1592), ('situat', 1593), ('six', 1594), ('size', 1595), ('sizeus', 1596), ('sketch', 1597), ('skip', 1598), ('skipgram', 1599), ('slower', 1600), ('small', 1601), ('smaller', 1602), ('so', 1603), ('social', 1604), ('softmax', 1605), ('software', 1606), ('solid', 1607), ('solve', 1608), ('some', 1609), ('soon', 1610), ('sound', 1611), ('south', 1612), ('space', 1613), ('spain', 1614), ('spatiotempor', 1615), ('spear', 1616), ('spearman', 1617), ('specie', 1618), ('species', 1619), ('speciesgenera', 1620), ('specif', 1621), ('specifi', 1622), ('speculatedform', 1623), ('speed', 1624), ('spei', 1625), ('split', 1626), ('spread', 1627), ('spss', 1628), ('srr10714026', 1629), ('srr1930021', 1630), ('ssrna', 1631), ('standard', 1632), ('star', 1633), ('start', 1634), ('state', 1635), ('statist', 1636), ('stem', 1637), ('step', 1638), ('steric', 1639), ('stigmat', 1640), ('still', 1641), ('stochast', 1642), ('stop', 1643), ('strain', 1644), ('strainidentifi', 1645), ('strand', 1646), ('strategi', 1647), ('stress', 1648), ('stretch', 1649), ('strong', 1650), ('structur', 1651), ('structure', 1652), ('sub', 1653), ('subclade', 1654), ('subject', 1655), ('substanti', 1656), ('substitut', 1657), ('substringsbp', 1658), ('subtle', 1659), ('success', 1660), ('such', 1661), ('sudden', 1662), ('suffici', 1663), ('suggest', 1664), ('suitable', 1665), ('summar', 1666), ('sun', 1667), ('sunshine', 1668), ('superior', 1669), ('supplementari', 1670), ('suppli', 1671), ('support', 1672), ('supportsfind', 1673), ('sure', 1674), ('surface', 1675), ('surround', 1676), ('survey', 1677), ('surviv', 1678), ('susceptible', 1679), ('sustainable', 1680), ('switch', 1681), ('switzerland', 1682), ('symptom', 1683), ('syntact', 1684), ('synthesi', 1685), ('synthet', 1686), ('system', 1687), ('sz', 1688), ('t7', 1689), ('table', 1690), ('take', 1691), ('taken', 1692), ('takessecond', 1693), ('tandem', 1694), ('target', 1695), ('task', 1696), ('taxa', 1697), ('taxonom', 1698), ('taxonomi', 1699), ('technique', 1700), ('technolog', 1701), ('tehran', 1702), ('temperature', 1703), ('tempest', 1704), ('tempor', 1705), ('ten', 1706), ('tend', 1707), ('term', 1708), ('test', 1709), ('th', 1710), ('their', 1711), ('then', 1712), ('there', 1713), ('therefore', 1714), ('third', 1715), ('threaten', 1716), ('three', 1717), ('threefold', 1718), ('threshold', 1719), ('thresholds1', 1720), ('through', 1721), ('thu', 1722), ('till', 1723), ('time', 1724), ('tip', 1725), ('tissue', 1726), ('to', 1727), ('togeth', 1728), ('toler', 1729), ('tool', 1730), ('top', 1731), ('topolog', 1732), ('total', 1733), ('totallyclassifi', 1734), ('totallyebola', 1735), ('toward', 1736), ('town', 1737), ('trace', 1738), ('tract', 1739), ('train', 1740), ('transcript', 1741), ('transfect', 1742), ('transit', 1743), ('transition', 1744), ('transitions', 1745), ('translat', 1746), ('transmiss', 1747), ('transvers', 1748), ('travel', 1749), ('treat', 1750), ('treatment', 1751), ('tree', 1752), ('treetime', 1753), ('tremend', 1754), ('trend', 1755), ('triangle', 1756), ('trigger', 1757), ('trna', 1758), ('tropic', 1759), ('true', 1760), ('truncat', 1761), ('turn', 1762), ('twenti', 1763), ('twice', 1764), ('type', 1765), ('ud', 1766), ('uk', 1767), ('unbalanc', 1768), ('uncertainti', 1769), ('unclear', 1770), ('uncontrollable', 1771), ('uncorrel', 1772), ('under', 1773), ('understand', 1774), ('uneven', 1775), ('uniform', 1776), ('uniformli', 1777), ('unique', 1778), ('unit', 1779), ('univers', 1780), ('unknown', 1781), ('unlike', 1782), ('unpreced', 1783), ('unreliable', 1784), ('unresolv', 1785), ('unsampl', 1786), ('unseen', 1787), ('unsupport', 1788), ('untrac', 1789), ('unveil', 1790), ('up', 1791), ('upcom', 1792), ('update', 1793), ('upload', 1794), ('upstream', 1795), ('urban', 1796), ('urgenc', 1797), ('urgent', 1798), ('url', 1799), ('us', 1800), ('usa', 1801), ('usage', 1802), ('usedhiscribe', 1803), ('user', 1804), ('usingsickle', 1805), ('usual', 1806), ('usually5', 1807), ('util', 1808), ('utilize', 1809), ('utr', 1810), ('uv', 1811), ('vaccine', 1812), ('valencia', 1813), ('valid', 1814), ('valu', 1815), ('value', 1816), ('vari', 1817), ('variable', 1818), ('variance', 1819), ('variat', 1820), ('variou', 1821), ('vector', 1822), ('vehicle', 1823), ('vertebrate', 1824), ('vi', 1825), ('viable', 1826), ('violini', 1827), ('vir', 1828), ('viral', 1829), ('viru', 1830), ('virus', 1831), ('virusdb', 1832), ('virusseek', 1833), ('vision', 1834), ('vital', 1835), ('vitamin', 1836), ('vitro', 1837), ('vote', 1838), ('vp0', 1839), ('vp2', 1840), ('vp3', 1841), ('vp4', 1842), ('vpg', 1843), ('vs', 1844), ('vssi', 1845), ('vulner', 1846), ('vulnerable', 1847), ('wale', 1848), ('way', 1849), ('weaker', 1850), ('weather', 1851), ('web', 1852), ('website', 1853), ('week', 1854), ('weigh', 1855), ('weight', 1856), ('well', 1857), ('wgsim', 1858), ('wh', 1859), ('when', 1860), ('whether', 1861), ('while', 1862), ('whole', 1863), ('wide', 1864), ('wild', 1865), ('with', 1866), ('withinord', 1867), ('wk', 1868), ('wood', 1869), ('woolhouse', 1870), ('word', 1871), ('work', 1872), ('world', 1873), ('worldwide', 1874), ('worth', 1875), ('would', 1876), ('wrong', 1877), ('wt', 1878), ('wu', 1879), ('wuerttemberg', 1880), ('wuhan', 1881), ('wwwgisaidorg', 1882), ('wwwncbinlmnihgov', 1883), ('xinyang', 1884), ('year', 1885), ('yeast', 1886), ('yellow', 1887), ('yet', 1888), ('yield', 1889), ('yiyang', 1890), ('yn', 1891), ('york', 1892), ('zaire', 1893), ('zone', 1894), ('ºc', 1895), ('δpkforward', 1896), ('δpkforwardprim', 1897), ('μg', 1898)]\n",
      "[[0.         0.         0.         ... 0.03629932 0.03629932 0.03629932]\n",
      " [0.0576024  0.0576024  0.04647325 ... 0.         0.         0.        ]\n",
      " [0.         0.         0.         ... 0.         0.         0.        ]\n",
      " [0.         0.         0.         ... 0.         0.         0.        ]\n",
      " [0.         0.         0.         ... 0.         0.         0.        ]]\n"
     ]
    }
   ],
   "source": [
    "#create a tf-idf matrix for the words above\n",
    "v = TfidfVectorizer(sublinear_tf = True, min_df = 0.05,max_df = 0.8)\n",
    "#For the above vectorizer, the first paramater specifies that the 1+log(tf) is going to be used instead of tf.\n",
    "#The second parameter specifies that if a term appears in less than 5% of the docs, ignore it\n",
    "#The third parameter, considers word that do not occur in more than 80% of the corpus\n",
    "tfidf = v.fit_transform(stemmed_text) #fit and transform the stemmed texts which were previously cleaned.\n",
    "print(sorted(v.vocabulary_.items(), key=lambda x : x[1]))\n",
    "print(tfidf.toarray())"
   ]
  },
  {
   "cell_type": "code",
   "execution_count": null,
   "metadata": {},
   "outputs": [],
   "source": [
    "# result of first common 50 words in all the 1943 docs\n",
    "#[('preprint', 42993), ('q', 29585), ('license', 20372), ('1', 18167), ('holder', 18100), ('medrxiv', 17564), ('author/funder', 17404), ('cases', 17021), ('peer-reviewed', 16697), ('https', 16223), ('data', 16221), ('covid-19', 15705), ('2', 14649), ('patients', 14258), ('doi', 14057), ('number', 13892), ('available', 13229), ('using', 11934), ('model', 11910), ('figure', 11428), ('display', 11002), ('granted', 10804), ('40', 10803), ('perpetuity', 10751), ('made', 10742), ('also', 10542), ('international', 10212), ('time', 9852), ('fig', 9747), ('3', 9574), ('used', 9344), ('cells', 9104), ('infection', 8833), ('study', 8712), ('sars-cov-2', 8633), ('r', 8195), ('5', 8153), ('this', 8143), ('virus', 8097), ('two', 7845), ('disease', 7820), ('may', 7774), ('s', 7772), ('rate', 7707), ('all', 7528), ('without', 7464), ('biorxiv', 7352), ('one', 7332), ('infected', 7203), ('10', 7201)]"
   ]
  },
  {
   "cell_type": "code",
   "execution_count": null,
   "metadata": {},
   "outputs": [],
   "source": [
    "#tf- idf\n",
    "# # finding the tf-idf matrix for all the abstracts\n",
    "# # vec = TfidfVectorizer()\n",
    "\n",
    "# # ve = vec.fit_transform(clean_abs)\n",
    "\n",
    "# # # displaying the tf-idf of the word in the abstact  \n",
    "# # pd.DataFrame(ve.toarray(), columns=sorted(vec.vocabulary_.keys()))\n",
    "\n",
    "# # #applying tf-idf cosine similarity and printing the result(testing)\n",
    "# # query = [\"prophylaxis\"]\n",
    "# # query_tfidf = vec.transform(query)\n",
    "# # cosineSimilarities = cosine_similarity(query_tfidf, ve).flatten()\n",
    "# # print(cosineSimilarities)"
   ]
  },
  {
   "cell_type": "code",
   "execution_count": 8,
   "metadata": {},
   "outputs": [],
   "source": [
    "# taged_abs=[]\n",
    "# nouns=[]\n",
    "# # tagging the clean data\n",
    "# for val in clean_abs:\n",
    "#     taged_abs.append(pos_tag(val.split()))\n",
    "# # extracting the nouns\n",
    "# for i in range(len(taged_abs)):\n",
    "#     doc=[]\n",
    "#     for j in range(len(taged_abs[i])):\n",
    "#         if(taged_abs[i][j][1]=='NN' or taged_abs[i][j][1]=='NNS'):\n",
    "#             doc.append(taged_abs[i][j][0])\n",
    "#     nouns.append(doc)\n",
    "        \n",
    "# print(nouns)\n",
    "\n"
   ]
  },
  {
   "cell_type": "markdown",
   "metadata": {},
   "source": [
    "Above we dcided to calculate the tf-idf so that we can represent every word that is present in the abstract quatitavily. By doing so we can further use the results in order model the topic according to the abstract that we just quatified.Furthermore we will use (Non-negative Matrix Factorization) NMF in order to come up with topic's that carry most weight in the abstract. To accomplish this we are going to filter all the nouns that are avaliable in the abstract and use them to represent the different topis that are avaliable."
   ]
  }
 ],
 "metadata": {
  "kernelspec": {
   "display_name": "Python 3",
   "language": "python",
   "name": "python3"
  },
  "language_info": {
   "codemirror_mode": {
    "name": "ipython",
    "version": 3
   },
   "file_extension": ".py",
   "mimetype": "text/x-python",
   "name": "python",
   "nbconvert_exporter": "python",
   "pygments_lexer": "ipython3",
   "version": "3.6.5"
  }
 },
 "nbformat": 4,
 "nbformat_minor": 4
}
