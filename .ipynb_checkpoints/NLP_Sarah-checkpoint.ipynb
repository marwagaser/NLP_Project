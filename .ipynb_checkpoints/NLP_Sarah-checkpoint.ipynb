{
 "cells": [
  {
   "cell_type": "markdown",
   "metadata": {},
   "source": [
    "Read the preprocessed text"
   ]
  },
  {
   "cell_type": "code",
   "execution_count": 1,
   "metadata": {},
   "outputs": [],
   "source": [
    "import pandas as pd\n",
    "import numpy as np\n",
    "\n",
    "df = pd.read_csv('cleandata.csv')"
   ]
  },
  {
   "cell_type": "code",
   "execution_count": 2,
   "metadata": {},
   "outputs": [
    {
     "name": "stdout",
     "output_type": "stream",
     "text": [
      "<class 'pandas.core.frame.DataFrame'>\n",
      "RangeIndex: 2278 entries, 0 to 2277\n",
      "Data columns (total 5 columns):\n",
      "title         2188 non-null object\n",
      "abstract      2278 non-null object\n",
      "full_text     2278 non-null object\n",
      "clean_text    2278 non-null object\n",
      "dirty_text    2278 non-null object\n",
      "dtypes: object(5)\n",
      "memory usage: 89.1+ KB\n"
     ]
    }
   ],
   "source": [
    "df.info()"
   ]
  },
  {
   "cell_type": "code",
   "execution_count": 3,
   "metadata": {},
   "outputs": [],
   "source": [
    "clean_text = df['clean_text'].copy()"
   ]
  },
  {
   "cell_type": "markdown",
   "metadata": {},
   "source": [
    "Create the tf-idf matrix"
   ]
  },
  {
   "cell_type": "code",
   "execution_count": 4,
   "metadata": {},
   "outputs": [],
   "source": [
    "from sklearn.feature_extraction.text import TfidfVectorizer\n",
    "\n",
    "v = TfidfVectorizer(sublinear_tf = True, min_df = 0.05,max_df = 0.8)\n",
    "tfidf = v.fit_transform(clean_text)\n",
    "\n",
    "# print(sorted(v.vocabulary_.items(), key=lambda x : x[1]))\n",
    "# print(tfidf[0])"
   ]
  },
  {
   "cell_type": "markdown",
   "metadata": {},
   "source": [
    "# Clustering"
   ]
  },
  {
   "cell_type": "markdown",
   "metadata": {},
   "source": [
    "Dimensinality Reduction"
   ]
  },
  {
   "cell_type": "code",
   "execution_count": 5,
   "metadata": {},
   "outputs": [
    {
     "data": {
      "text/plain": [
       "(2278, 1013)"
      ]
     },
     "execution_count": 5,
     "metadata": {},
     "output_type": "execute_result"
    }
   ],
   "source": [
    "from sklearn.decomposition import PCA \n",
    "\n",
    "pca = PCA(n_components=0.90,random_state=30)\n",
    "X_reduced = pca.fit_transform(tfidf.toarray())\n",
    "X_reduced.shape"
   ]
  },
  {
   "cell_type": "markdown",
   "metadata": {},
   "source": [
    " Determine the number of clusters"
   ]
  },
  {
   "cell_type": "markdown",
   "metadata": {},
   "source": [
    "######  Using the Elbow method\n",
    "Calculate the Within-Cluster-Sum of Squared Errors (WSS) for different values of k, and choose the k for which WSS starts to diminish. In the plot of WSS-versus-k, this is visible as an elbow."
   ]
  },
  {
   "cell_type": "code",
   "execution_count": 8,
   "metadata": {},
   "outputs": [],
   "source": [
    "from sklearn.cluster import KMeans\n",
    "from scipy.spatial.distance import cdist\n",
    "\n",
    "kmax = 51\n",
    "distortions = []\n",
    "for k in range(2, kmax):\n",
    "    kmeans_model = KMeans(n_clusters=k)\n",
    "    kmeans_model.fit(X_reduced)\n",
    "    distortions.append(sum(np.min(cdist(X_reduced, kmeans_model.cluster_centers_, 'euclidean'), axis=1)) / X_reduced.shape[0])"
   ]
  },
  {
   "cell_type": "code",
   "execution_count": 9,
   "metadata": {
    "scrolled": false
   },
   "outputs": [
    {
     "data": {
      "text/plain": [
       "[0.8376121751342003,\n",
       " 0.8266253252657576,\n",
       " 0.8223025721561386,\n",
       " 0.8183158732387764,\n",
       " 0.8145989231753245,\n",
       " 0.8118779372545317,\n",
       " 0.8089442929523735,\n",
       " 0.806793584103155,\n",
       " 0.805442304583322,\n",
       " 0.8029732593569724,\n",
       " 0.801478027265645,\n",
       " 0.800300326665118,\n",
       " 0.7990053840117232,\n",
       " 0.7972919760338506,\n",
       " 0.7965881684937633,\n",
       " 0.794967185475879,\n",
       " 0.7935452162612644,\n",
       " 0.7928340183645066,\n",
       " 0.7921855473008316,\n",
       " 0.7906499291186531,\n",
       " 0.7893039910760716,\n",
       " 0.7887258145193631,\n",
       " 0.7881660940674219,\n",
       " 0.7866396672697753,\n",
       " 0.7865569710151896,\n",
       " 0.7858516384775858,\n",
       " 0.7843999795944424,\n",
       " 0.7845545599698696,\n",
       " 0.7838694355381226,\n",
       " 0.78300700123047,\n",
       " 0.7822676517586675,\n",
       " 0.7821002556919929,\n",
       " 0.7820502629349326,\n",
       " 0.7803409326771257,\n",
       " 0.779775770418679,\n",
       " 0.7791967662078363,\n",
       " 0.7788800185432884,\n",
       " 0.778817353297772,\n",
       " 0.7778972315407107,\n",
       " 0.7771036401373251,\n",
       " 0.7766908826913613,\n",
       " 0.7764473634779259,\n",
       " 0.7761621207634333,\n",
       " 0.7756396905255812,\n",
       " 0.7754103245823359,\n",
       " 0.7750437696437912,\n",
       " 0.7744950783913869,\n",
       " 0.7740480398530877,\n",
       " 0.7735352807229376]"
      ]
     },
     "execution_count": 9,
     "metadata": {},
     "output_type": "execute_result"
    }
   ],
   "source": [
    "distortions"
   ]
  },
  {
   "cell_type": "code",
   "execution_count": 12,
   "metadata": {},
   "outputs": [
    {
     "data": {
      "text/plain": [
       "Text(0, 0.5, 'distortions')"
      ]
     },
     "execution_count": 12,
     "metadata": {},
     "output_type": "execute_result"
    },
    {
     "data": {
      "image/png": "[encoded data removed]",
      "text/plain": [
       "<Figure size 432x288 with 1 Axes>"
      ]
     },
     "metadata": {
      "needs_background": "light"
     },
     "output_type": "display_data"
    }
   ],
   "source": [
    "from matplotlib import pyplot as plt\n",
    "\n",
    "k = np.arange(2,51)\n",
    "plt.plot(k, distortions)\n",
    "plt.xlabel('k')\n",
    "plt.ylabel('distortions')"
   ]
  },
  {
   "cell_type": "markdown",
   "metadata": {},
   "source": [
    " ###### we can clearly see from the values and the plot that after k ~20 the distortions do not decrease significantly"
   ]
  },
  {
   "cell_type": "markdown",
   "metadata": {},
   "source": [
    "K-means clustering"
   ]
  },
  {
   "cell_type": "code",
   "execution_count": 13,
   "metadata": {},
   "outputs": [],
   "source": [
    "clusters = KMeans(n_clusters=20,random_state=30)\n",
    "y_pred = clusters.fit_predict(X_reduced)\n",
    "\n",
    "df['cluster'] = y_pred"
   ]
  },
  {
   "cell_type": "code",
   "execution_count": 14,
   "metadata": {},
   "outputs": [
    {
     "data": {
      "text/html": [
       "<div>\n",
       "<style scoped>\n",
       "    .dataframe tbody tr th:only-of-type {\n",
       "        vertical-align: middle;\n",
       "    }\n",
       "\n",
       "    .dataframe tbody tr th {\n",
       "        vertical-align: top;\n",
       "    }\n",
       "\n",
       "    .dataframe thead th {\n",
       "        text-align: right;\n",
       "    }\n",
       "</style>\n",
       "<table border=\"1\" class=\"dataframe\">\n",
       "  <thead>\n",
       "    <tr style=\"text-align: right;\">\n",
       "      <th></th>\n",
       "      <th>title</th>\n",
       "      <th>abstract</th>\n",
       "      <th>full_text</th>\n",
       "      <th>clean_text</th>\n",
       "      <th>dirty_text</th>\n",
       "      <th>cluster</th>\n",
       "    </tr>\n",
       "  </thead>\n",
       "  <tbody>\n",
       "    <tr>\n",
       "      <th>0</th>\n",
       "      <td>Title: Impact of COVID-19 on psychiatric asses...</td>\n",
       "      <td>[]</td>\n",
       "      <td>Evidence from prior pandemics suggests that, a...</td>\n",
       "      <td>evidence prior pandemic suggests along direct ...</td>\n",
       "      <td>evidence from prior pandemics suggests that , ...</td>\n",
       "      <td>19</td>\n",
       "    </tr>\n",
       "    <tr>\n",
       "      <th>1</th>\n",
       "      <td>Diversity of Archaea Domain in Cuatro Cienegas...</td>\n",
       "      <td>[{'text': 'Herein we describe the Archaea dive...</td>\n",
       "      <td>Introduction 46 The Archaea domain is an essen...</td>\n",
       "      <td>introductionarchaea domain essential usually r...</td>\n",
       "      <td>introduction 46 the archaea domain is an essen...</td>\n",
       "      <td>15</td>\n",
       "    </tr>\n",
       "    <tr>\n",
       "      <th>2</th>\n",
       "      <td>NaN</td>\n",
       "      <td>[{'text': 'Background The pandemic of coronavi...</td>\n",
       "      <td>In December 2019, a novel coronavirus-infected...</td>\n",
       "      <td>december novel coronavirus-infected pneumonia ...</td>\n",
       "      <td>in december 2019 , a novel coronavirus-infecte...</td>\n",
       "      <td>6</td>\n",
       "    </tr>\n",
       "    <tr>\n",
       "      <th>3</th>\n",
       "      <td>Serial interval and generation interval for re...</td>\n",
       "      <td>[{'text': 'Backgrounds: The emerging virus, CO...</td>\n",
       "      <td>Backgrounds: The emerging virus, COVID-19, has...</td>\n",
       "      <td>background emerging virus covid-19 caused mass...</td>\n",
       "      <td>backgrounds : the emerging virus , covid-19 , ...</td>\n",
       "      <td>2</td>\n",
       "    </tr>\n",
       "    <tr>\n",
       "      <th>4</th>\n",
       "      <td>Loss of smell and taste in combination with ot...</td>\n",
       "      <td>[{'text': 'A strategy for preventing further s...</td>\n",
       "      <td>Since the outbreak of COVID-19, an acute respi...</td>\n",
       "      <td>since outbreak covid-19 acute respiratory illn...</td>\n",
       "      <td>since the outbreak of covid-19 , an acute resp...</td>\n",
       "      <td>19</td>\n",
       "    </tr>\n",
       "  </tbody>\n",
       "</table>\n",
       "</div>"
      ],
      "text/plain": [
       "                                               title  \\\n",
       "0  Title: Impact of COVID-19 on psychiatric asses...   \n",
       "1  Diversity of Archaea Domain in Cuatro Cienegas...   \n",
       "2                                                NaN   \n",
       "3  Serial interval and generation interval for re...   \n",
       "4  Loss of smell and taste in combination with ot...   \n",
       "\n",
       "                                            abstract  \\\n",
       "0                                                 []   \n",
       "1  [{'text': 'Herein we describe the Archaea dive...   \n",
       "2  [{'text': 'Background The pandemic of coronavi...   \n",
       "3  [{'text': 'Backgrounds: The emerging virus, CO...   \n",
       "4  [{'text': 'A strategy for preventing further s...   \n",
       "\n",
       "                                           full_text  \\\n",
       "0  Evidence from prior pandemics suggests that, a...   \n",
       "1  Introduction 46 The Archaea domain is an essen...   \n",
       "2  In December 2019, a novel coronavirus-infected...   \n",
       "3  Backgrounds: The emerging virus, COVID-19, has...   \n",
       "4  Since the outbreak of COVID-19, an acute respi...   \n",
       "\n",
       "                                          clean_text  \\\n",
       "0  evidence prior pandemic suggests along direct ...   \n",
       "1  introductionarchaea domain essential usually r...   \n",
       "2  december novel coronavirus-infected pneumonia ...   \n",
       "3  background emerging virus covid-19 caused mass...   \n",
       "4  since outbreak covid-19 acute respiratory illn...   \n",
       "\n",
       "                                          dirty_text  cluster  \n",
       "0  evidence from prior pandemics suggests that , ...       19  \n",
       "1  introduction 46 the archaea domain is an essen...       15  \n",
       "2  in december 2019 , a novel coronavirus-infecte...        6  \n",
       "3  backgrounds : the emerging virus , covid-19 , ...        2  \n",
       "4  since the outbreak of covid-19 , an acute resp...       19  "
      ]
     },
     "execution_count": 14,
     "metadata": {},
     "output_type": "execute_result"
    }
   ],
   "source": [
    "df.head()"
   ]
  },
  {
   "cell_type": "markdown",
   "metadata": {},
   "source": [
    "# Topic Modeling"
   ]
  },
  {
   "cell_type": "markdown",
   "metadata": {},
   "source": [
    "Group the documnents according to their cluster"
   ]
  },
  {
   "cell_type": "code",
   "execution_count": 15,
   "metadata": {},
   "outputs": [],
   "source": [
    "from sklearn.decomposition import LatentDirichletAllocation\n",
    "\n",
    "clean_text = np.array(clean_text)\n",
    "\n",
    "#grouped_docs is a dictionary that holds the docs indices in a cluster eg. {0: [5,20,31], 1: [7,8,11]...}\n",
    "grouped_docs = df.groupby('cluster').indices"
   ]
  },
  {
   "cell_type": "markdown",
   "metadata": {},
   "source": [
    "Topic modeling for the set documents within each cluster "
   ]
  },
  {
   "cell_type": "code",
   "execution_count": 16,
   "metadata": {},
   "outputs": [
    {
     "name": "stdout",
     "output_type": "stream",
     "text": [
      "cluster 0: \n",
      "Topic #0: cov, rna, right, gene, sars, recombination, ncov, selection, cell, permission\n",
      "Topic #1: sars, reserved, reuse, made, closely, coronaviruses, number, therapeutic, permission, case\n",
      "\n",
      "cluster 1: \n",
      "Topic #0: made, epidemic, transmission, early, situation, next, individual, would, observed, phase\n",
      "Topic #1: cc, ndinternational, by, made, growth, epidemic, infected, population, death, nc\n",
      "\n",
      "cluster 2: \n",
      "Topic #0: covid, 19, ndinternational, hubei, mean, control, interval, january, date, estimate\n",
      "Topic #1: made, cc, 19, by, covid, rate, city, ndinternational, hubei, nc\n",
      "\n",
      "cluster 3: \n",
      "Topic #0: biorxiv, disease, individual, parameter, epidemic, outbreak, rate, transmission, infection, right\n",
      "Topic #1: method, viral, infected, stable, functional, cov, s1, reserved, potentially, size\n",
      "\n",
      "cluster 4: \n",
      "Topic #0: cov, sars, reuse, structure, reserved, ace2, spike, right, human, receptor\n",
      "Topic #1: cov, monoclonal, terminal, cc, antiviral, 2b, sequence, number, thumb, peptide\n",
      "\n",
      "cluster 5: \n",
      "Topic #0: related, rna, high, single, medrxiv, database, nc, associated, 19, whether\n",
      "Topic #1: covid, severe, cc, medrxiv, enzyme, publication, table, ndinternational, display, reuse\n",
      "\n",
      "cluster 6: \n",
      "Topic #0: cc, ndinternational, made, by, available, nc, group, day, pcr, reserved\n",
      "Topic #1: available, risk, allowed, lower, nc, following, another, epidemiological, by, made\n",
      "\n",
      "cluster 7: \n",
      "Topic #0: cc, analyzed, 3b, inhibition, primary, identified, mechanism, membrane, containing, replication\n",
      "Topic #1: virus, gene, viral, permission, reserved, reuse, infection, rna, right, allowed\n",
      "\n",
      "cluster 8: \n",
      "Topic #0: patient, made, test, surface, mask, concentration, respirator, one, tested, unit\n",
      "Topic #1: government, term, measured, provides, typically, uvc, 1a, droplet, simultaneously, inlet\n",
      "\n",
      "cluster 9: \n",
      "Topic #0: pandemic, reserved, state, increasing, testing, distancing, exposed, dynamic, reproduction, peak\n",
      "Topic #1: by, ndinternational, nc, death, policy, contact, intervention, people, public, peak\n",
      "\n",
      "cluster 10: \n",
      "Topic #0: even, population, efficacy, strain, showed, table, concentration, large, infectivity, ndinternational\n",
      "Topic #1: sars, cell, cov, infection, viral, rna, reserved, human, used, permission\n",
      "\n",
      "cluster 11: \n",
      "Topic #0: permission, right, reuse, reserved, allowed, group, cell, virus, il, inflammatory\n",
      "Topic #1: allowed, found, based, day, cc, asymptomatic, laboratory, il, outcome, mild\n",
      "\n",
      "cluster 12: \n",
      "Topic #0: cov, probe, covid, rt, standard, granted, clinical, table, disease, kit\n",
      "Topic #1: lamp, perpetuity, repeated, granted, medrxiv, technology, right, similar, amplicons, dna\n",
      "\n",
      "cluster 13: \n",
      "Topic #0: article, reuse, therefore, trial, ci, published, group, right, considered, cc\n",
      "Topic #1: finding, use, reserved, meta, specificity, admission, virus, strategy, health, symptom\n",
      "\n",
      "cluster 14: \n",
      "Topic #0: severity, cc, follow, estimate, currently, despite, negative, abnormality, acid, public\n",
      "Topic #1: made, igg, antibody, available, virus, control, by, detection, igm, hospital\n",
      "\n",
      "cluster 15: \n",
      "Topic #0: viral, ndinternational, read, virus, rna, strain, made, infection, identified, gene\n",
      "Topic #1: virus, limited, sars, pathogen, assay, total, cc, pcr, dna, cov\n",
      "\n",
      "cluster 16: \n",
      "Topic #0: residue, epitope, viral, peptide, molecule, receptor, amino, ace2, mhc, surface\n",
      "Topic #1: atom, lipid, pair, space, acid, well, cc, compared, system, 3d\n",
      "\n",
      "cluster 17: \n",
      "Topic #0: deep, image, machine, ground, may, accurate, support, suspected, three, right\n",
      "Topic #1: including, whose, added, image, up, part, shown, representative, mode, node\n",
      "\n",
      "cluster 18: \n",
      "Topic #0: 10, disease, study, ndinternational, analysis, care, asymptomatic, nc, patient, age\n",
      "Topic #1: nc, ndinternational, day, model, number, infected, estimate, rate, data, time\n",
      "\n",
      "cluster 19: \n",
      "Topic #0: public, risk, across, pandemic, death, reserved, could, country, made, cc\n",
      "Topic #1: cc, made, by, ndinternational, age, patient, nc, rate, country, group\n",
      "\n"
     ]
    }
   ],
   "source": [
    "for i in range(0,20):\n",
    "    \n",
    "    # get the tf-idf matrix for the documents within this cluster\n",
    "    v = TfidfVectorizer(sublinear_tf = True, min_df = 0.05,max_df = 0.8)\n",
    "    current_tf_idf = v.fit_transform(clean_text[grouped_docs[i]])\n",
    "    feature_names = v.get_feature_names()\n",
    "    \n",
    "    # get the top words for 2 topics within each cluster\n",
    "    lda_model = LatentDirichletAllocation(n_components= 2, max_iter=5,\n",
    "                                    learning_method='online',\n",
    "                                    learning_offset=50.,\n",
    "                                    random_state=30)\n",
    "    lda_model.fit(current_tf_idf)\n",
    "    lda_model.transform(current_tf_idf)\n",
    "    \n",
    "    n_top_words = 10\n",
    "    print (\"cluster {}: \".format(i))\n",
    "    \n",
    "    for topic_idx, topic in enumerate(lda_model.components_):\n",
    "        message = \"Topic #%d: \" % topic_idx\n",
    "        message += \" \".join([feature_names[i]+\",\"\n",
    "                             for i in topic.argsort()[:-n_top_words - 1:-1]])\n",
    "        print(message[:-1])\n",
    "    print()"
   ]
  },
  {
   "cell_type": "code",
   "execution_count": null,
   "metadata": {},
   "outputs": [],
   "source": []
  }
 ],
 "metadata": {
  "kernelspec": {
   "display_name": "Python 3",
   "language": "python",
   "name": "python3"
  },
  "language_info": {
   "codemirror_mode": {
    "name": "ipython",
    "version": 3
   },
   "file_extension": ".py",
   "mimetype": "text/x-python",
   "name": "python",
   "nbconvert_exporter": "python",
   "pygments_lexer": "ipython3",
   "version": "3.6.5"
  }
 },
 "nbformat": 4,
 "nbformat_minor": 2
}
