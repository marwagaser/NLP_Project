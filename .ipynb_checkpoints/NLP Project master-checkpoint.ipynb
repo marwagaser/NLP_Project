{
 "cells": [
  {
   "cell_type": "markdown",
   "metadata": {},
   "source": [
    "<h1> NLP Project </h1>\n",
    "<h2 style =\"color:blue\"> Search Engine and Literature Clustering</h2>\n",
    "<p>This notebook utilizes two major topics in natural language processing to tackle and answer questions related to COVID-19. The first one is: a <i>search engine</i> which allows the user to enter a query and fetches for them the most relevant papers related to that query (max 5). The other topic is <i>literature clustering</i> where PCA algorithm was used to reduce the dimension of the data, followed by K-means which was used to cluster the papers.</p>"
   ]
  },
  {
   "cell_type": "code",
   "execution_count": 1,
   "metadata": {},
   "outputs": [
    {
     "name": "stderr",
     "output_type": "stream",
     "text": [
      "[nltk_data] Downloading package stopwords to\n",
      "[nltk_data]     C:\\Users\\HP\\AppData\\Roaming\\nltk_data...\n",
      "[nltk_data]   Package stopwords is already up-to-date!\n",
      "[nltk_data] Downloading package punkt to\n",
      "[nltk_data]     C:\\Users\\HP\\AppData\\Roaming\\nltk_data...\n",
      "[nltk_data]   Package punkt is already up-to-date!\n",
      "[nltk_data] Downloading package wordnet to\n",
      "[nltk_data]     C:\\Users\\HP\\AppData\\Roaming\\nltk_data...\n",
      "[nltk_data]   Package wordnet is already up-to-date!\n"
     ]
    }
   ],
   "source": [
    "import nltk\n",
    "import pandas as pd # data processing, CSV file I/O (e.g. pd.read_csv)\n",
    "import re #import the regular expression library\n",
    "import string\n",
    "import os\n",
    "import json\n",
    "from sklearn.feature_extraction.text import CountVectorizer, TfidfVectorizer\n",
    "from sklearn.metrics.pairwise import cosine_similarity\n",
    "from sklearn.datasets import load_files\n",
    "from nltk import pos_tag\n",
    "from nltk.tokenize import RegexpTokenizer\n",
    "from tqdm import tqdm\n",
    "from nltk.corpus import stopwords #import the stopwords from the ntlk.corpus library\n",
    "nltk.download('stopwords')\n",
    "from nltk.tokenize import word_tokenize #import the word_tokenize method, which is used to turn sentences into words\"\n",
    "nltk.download('punkt')\n",
    "from collections import Counter\n",
    "from nltk.stem import WordNetLemmatizer, PorterStemmer\n",
    "nltk.download('wordnet')\n",
    "import numpy as np\n",
    "import spacy\n",
    "from spacy.lang.en.stop_words import STOP_WORDS\n",
    "import en_core_sci_lg  \n",
    "import matplotlib.pyplot as plt \n",
    "import spacy\n",
    "from spacy.lang.en.stop_words import STOP_WORDS\n",
    "# !pip install scispacy scipy\n",
    "# !pip install https://s3-us-west-2.amazonaws.com/ai2-s2-scispacy/releases/v0.2.4/en_core_sci_lg-0.2.4.tar.gz\n",
    "import en_core_sci_lg  \n",
    "plt.style.use('ggplot')"
   ]
  },
  {
   "cell_type": "markdown",
   "metadata": {},
   "source": [
    "<h4>STEP 1: DATA PREPROCESSING</h4>\n"
   ]
  },
  {
   "cell_type": "markdown",
   "metadata": {},
   "source": [
    "<p> Before applying the NLP techniques on the data, data must be preprocessed, cleaned, structured,etc. In the following cell, the folder(s) containing the data in the json format are accessed. Each json file has, then, three majors information extracted from it:<br/>\n",
    " <ol>\n",
    "     <li>The title of the paper</li>\n",
    "     <li>The abstract of the paper</li>\n",
    "     <li>The body/full text of the paper</li>\n",
    "</ol>\n",
    "These are then added to the list which will contain all the papers with those 3 features or attributes. The list is then converted to a dataframe which will be used later in this notebook."
   ]
  },
  {
   "cell_type": "code",
   "execution_count": 2,
   "metadata": {
    "_cell_guid": "b1076dfc-b9ad-4769-8c92-a6c4dae69d19",
    "_uuid": "8f2839f25d086af736a60e9eeb907d3b93b6e0e5"
   },
   "outputs": [
    {
     "name": "stderr",
     "output_type": "stream",
     "text": [
      "100%|██████████| 1934/1934 [01:37<00:00, 19.91it/s]\n"
     ]
    }
   ],
   "source": [
    "FullPaper=[]#a list which will save all the papers \n",
    "directories = [\"biorxiv_medrxiv\"] #the folder name which contains the papers\n",
    "for directory in directories: #for each of the folders carrying the json format of different research papers\n",
    "    for file in tqdm(os.listdir(f\"{directory}/{directory}/pdf_json\")): #for every json file\n",
    "        file_path=f\"{directory}/{directory}/pdf_json/{file}\" #set the file path to the file_path variable \n",
    "        paper = json.load(open(file_path,\"rb\")) #load the json version of the file\n",
    "        title = paper['metadata']['title'] #set the title variable to the file's title\n",
    "        try:\n",
    "            abstract = paper['abstract']#set the abstract variable to the file's abstract\n",
    "        except:\n",
    "            abstarct=\"\"   #set the abstract variable to the an empty string if the file does not have an abstract             \n",
    "        full_text=\"\" #create an empty string which will hold the body of the paper (file)    \n",
    "        \n",
    "        for text in paper['body_text']: #for every word in the body of the file\n",
    "            full_text += (text['text'] +'\\n') #concatenate the word to the variable full_text\n",
    "        FullPaper.append([title,abstract,full_text]) #since the 3 variable: title, abstract, full_text, now have a value, a paper can be created and added to the FullPaper list\n",
    "        \n",
    "FullPaperDataframe=pd.DataFrame(FullPaper,columns=['title','abstract','full_text'])#create a dataframe which will hold all the papers"
   ]
  },
  {
   "cell_type": "markdown",
   "metadata": {},
   "source": [
    "<h5>Data Cleaning</h5>\n",
    "<p>In the below cell, each body text for each paper is stripped off stop words, punctuation, and is lemmatized. The <i>en_core_sci_lg</i> model was used as it works well on biomedical and scientific papers </p>"
   ]
  },
  {
   "cell_type": "code",
   "execution_count": 3,
   "metadata": {},
   "outputs": [
    {
     "name": "stderr",
     "output_type": "stream",
     "text": [
      "100%|██████████| 50/50 [03:12<00:00,  3.86s/it]\n",
      "100%|██████████| 50/50 [09:44<00:00, 11.69s/it]\n"
     ]
    }
   ],
   "source": [
    "full_text = FullPaperDataframe['full_text'].head(50)\n",
    "\n",
    "clean_text = [] #a list which will hold the clean paper text (after data processing)\n",
    "dirty_text = []# a list which will hold the dirty paper text (before data processing)\n",
    "# Intializing parser lemmtizer\n",
    "lemmatizer = WordNetLemmatizer()\n",
    "\n",
    "# Using the scispacy library to get the biomedical terms \n",
    "parser=en_core_sci_lg.load(disable=[\"tagger\", \"ner\"])\n",
    "parser.max_length = 7000000\n",
    "\n",
    "# extending and customizing the stopwords list (Since we found these words in the text before adding the our_stopwords list)\n",
    "all_stopwords = stopwords.words('english')\n",
    "# 'the','we','it','they',\n",
    "our_stopwords=['copyright','https','et','al','preprint',\n",
    "               'this','these','also','however','although','among','in','medrxiv'\n",
    "                'biorxiv','license','without','fig','figure','doi']\n",
    "all_stopwords.extend(our_stopwords)\n",
    "\n",
    "pattern = \"\"\"!\"#$%&'()*+,.:;<=>?@[\\]^`{|}~\"\"\"\n",
    "\n",
    "#  removing all stop words and extracting puctuations\n",
    "for val in tqdm(full_text):\n",
    "    val = val.lower()\n",
    "    body_tokens = word_tokenize(val)\n",
    "    paper_body_without_stopwords =  [token for token in body_tokens if not token in all_stopwords and nltk.pos_tag([token.lower()])!='PRP']#a list which will hold the tokens stripped off stop words and words that aren't pronouns\n",
    "    dirty_paper_tokens = [token for token in body_tokens] #will hold the tokens as is\n",
    "    clean_string = ' '.join(paper_body_without_stopwords) #convert the list into string\n",
    "    clean_string = re.sub(rf\"[{pattern}]\", '', clean_string) #Strip punctuation from the text\n",
    "    clean_string = re.sub(r'\\b[a-zA-Z]\\b', '', clean_string) # from single letters from the text\n",
    "    clean_string = re.sub(r'^\\d+\\s|\\s\\d+\\s|\\s\\d+$', '', clean_string) #remove digits that aren't associated with a word from the text\n",
    "    clean_text.append(clean_string)\n",
    "    dirty_string=' '.join(dirty_paper_tokens)#convert the list of the dirty tokens into a string\n",
    "    dirty_text.append(dirty_string) #this list will be used later for analysis\n",
    "lemmatized_text=[]    # a list which will carry the lemmatized text\n",
    "\n",
    "# applying the parserer on the dataset\n",
    "for val in tqdm(clean_text):\n",
    "    lemmatized_string=[]\n",
    "    words=val.split(' ')\n",
    "    for word in words:\n",
    "        if(len(word)>1):\n",
    "            token = parser(word)\n",
    "            lemm_token = lemmatizer.lemmatize(token.text)\n",
    "            lemmatized_string.append(lemm_token)\n",
    "    if(len(lemmatized_string)>0):\n",
    "        lemmatized_text.append(lemmatized_string)\n",
    "        \n",
    "for i in range(len(lemmatized_text)):\n",
    "    lemmatized_text[i]=\" \".join(lemmatized_text[i])\n",
    "    \n",
    "#print(lemmatized_text)"
   ]
  },
  {
   "cell_type": "markdown",
   "metadata": {},
   "source": [
    "<h5> Corpus Word Count Graph Before Vs. After Data Cleaning </h5>"
   ]
  },
  {
   "cell_type": "markdown",
   "metadata": {},
   "source": [
    "<p>To demonstrate how effective the data cleaning is, below is a bar chart comparing the corpus word count before and after the data cleaning.</p>"
   ]
  },
  {
   "cell_type": "code",
   "execution_count": 5,
   "metadata": {},
   "outputs": [
    {
     "name": "stdout",
     "output_type": "stream",
     "text": [
      "1087654\n",
      "721462\n"
     ]
    },
    {
     "data": {
      "image/png": "[encoded data removed]",
      "text/plain": [
       "<Figure size 504x360 with 1 Axes>"
      ]
     },
     "metadata": {
      "needs_background": "light"
     },
     "output_type": "display_data"
    }
   ],
   "source": [
    "\n",
    "count1=0\n",
    "count2 =0\n",
    "\n",
    "for d in dirty_text: #get the word count in all the corpus before preprocessing\n",
    "    count1 +=len(d)\n",
    "\n",
    "for st in lemmatized_text:#get the word count in all the corpus after preprocessing\n",
    "    count2+=len(st)\n",
    "labels_x=[\"Before\", \"After\"]\n",
    "values = [count1, count2]\n",
    "print(count1)\n",
    "print(count2)\n",
    "plt.figure(figsize=(7, 5))\n",
    "plt.bar(labels_x, values)\n",
    "plt.xlabel('Corpus Text')\n",
    "plt.ylabel('Word Count')\n",
    "plt.title('Corpus Word Count Difference before and after Cleaning')\n",
    "plt.show()"
   ]
  },
  {
   "cell_type": "markdown",
   "metadata": {},
   "source": [
    "<h4>STEP 2: SEARCH ENGINE IMPLEMENTATION</h4>"
   ]
  },
  {
   "cell_type": "markdown",
   "metadata": {},
   "source": [
    "<h5>TF-IDF</h5>\n",
    "<p> After the data has been preprocessed, a TF-IDF matrix is to be created. This is a matrix which will hold the values of each word (bag of words of all the corpus) with respect to the document (paper).</p> "
   ]
  },
  {
   "cell_type": "code",
   "execution_count": 6,
   "metadata": {},
   "outputs": [
    {
     "name": "stdout",
     "output_type": "stream",
     "text": [
      "[('005', 0), ('02', 1), ('03', 2), ('08', 3), ('10', 4), ('100', 5), ('11', 6), ('12', 7), ('14', 8), ('15', 9), ('16', 10), ('17', 11), ('18', 12), ('19', 13), ('1a', 14), ('1b', 15), ('1c', 16), ('1d', 17), ('1e', 18), ('1f', 19), ('1x', 20), ('20', 21), ('2019', 22), ('2020', 23), ('202002', 24), ('21', 25), ('22', 26), ('24', 27), ('25', 28), ('29', 29), ('2a', 30), ('2b', 31), ('2c', 32), ('2d', 33), ('34', 34), ('36', 35), ('37', 36), ('3a', 37), ('3b', 38), ('3c', 39), ('3d', 40), ('40', 41), ('4a', 42), ('4b', 43), ('4c', 44), ('4d', 45), ('4e', 46), ('50', 47), ('56', 48), ('5a', 49), ('5b', 50), ('60', 51), ('64', 52), ('70', 53), ('80', 54), ('abcam', 55), ('ability', 56), ('able', 57), ('absence', 58), ('absolute', 59), ('abstract', 60), ('abundance', 61), ('abundant', 62), ('academic', 63), ('accelerate', 64), ('acceptable', 65), ('access', 66), ('accessed', 67), ('accessible', 68), ('accession', 69), ('according', 70), ('account', 71), ('accounted', 72), ('accounting', 73), ('accumulated', 74), ('accumulation', 75), ('accuracy', 76), ('accurate', 77), ('accurately', 78), ('ace2', 79), ('achieve', 80), ('achieved', 81), ('acid', 82), ('acknowledge', 83), ('acquired', 84), ('across', 85), ('act', 86), ('action', 87), ('activated', 88), ('activation', 89), ('active', 90), ('activity', 91), ('actual', 92), ('actually', 93), ('acute', 94), ('adapt', 95), ('adaptation', 96), ('adapted', 97), ('adaptive', 98), ('adaptor', 99), ('add', 100), ('added', 101), ('addition', 102), ('additional', 103), ('additionally', 104), ('address', 105), ('addressed', 106), ('adequate', 107), ('adjacent', 108), ('adjust', 109), ('adjusted', 110), ('admission', 111), ('adopt', 112), ('adopted', 113), ('adult', 114), ('advance', 115), ('advanced', 116), ('advantage', 117), ('affect', 118), ('affected', 119), ('affinity', 120), ('aforementioned', 121), ('african', 122), ('age', 123), ('agency', 124), ('agent', 125), ('aggregate', 126), ('aggregated', 127), ('ago', 128), ('agreement', 129), ('aid', 130), ('aided', 131), ('aim', 132), ('aimed', 133), ('air', 134), ('airline', 135), ('al', 136), ('albeit', 137), ('aldrich', 138), ('algorithm', 139), ('align', 140), ('aligned', 141), ('alignment', 142), ('aliquot', 143), ('all', 144), ('allow', 145), ('allowed', 146), ('allowing', 147), ('allows', 148), ('almost', 149), ('alone', 150), ('along', 151), ('already', 152), ('altered', 153), ('alternative', 154), ('altogether', 155), ('alveolar', 156), ('always', 157), ('ambiguous', 158), ('amino', 159), ('amongst', 160), ('amount', 161), ('amplicon', 162), ('amplicons', 163), ('amplification', 164), ('amplified', 165), ('amplify', 166), ('analogous', 167), ('analyse', 168), ('analysed', 169), ('analytical', 170), ('analyze', 171), ('analyzed', 172), ('analyzing', 173), ('ancestor', 174), ('ancestral', 175), ('and', 176), ('angiotensin', 177), ('animal', 178), ('annotated', 179), ('annotation', 180), ('another', 181), ('anova', 182), ('answer', 183), ('anti', 184), ('antibody', 185), ('anticipate', 186), ('antiviral', 187), ('apparently', 188), ('appear', 189), ('appeared', 190), ('appearing', 191), ('appears', 192), ('applicable', 193), ('application', 194), ('applied', 195), ('apply', 196), ('applying', 197), ('approach', 198), ('appropriate', 199), ('approved', 200), ('approximate', 201), ('approximately', 202), ('approximation', 203), ('april', 204), ('aqueous', 205), ('architecture', 206), ('ards', 207), ('area', 208), ('argue', 209), ('arising', 210), ('around', 211), ('arrangement', 212), ('array', 213), ('arriving', 214), ('arrow', 215), ('art', 216), ('artefact', 217), ('article', 218), ('as', 219), ('asia', 220), ('asian', 221), ('asked', 222), ('aspect', 223), ('ass', 224), ('assay', 225), ('assembled', 226), ('assembly', 227), ('assessed', 228), ('assessment', 229), ('assign', 230), ('assigned', 231), ('associate', 232), ('associated', 233), ('association', 234), ('assume', 235), ('assumed', 236), ('assumes', 237), ('assuming', 238), ('assumption', 239), ('asymptomatic', 240), ('attack', 241), ('attempted', 242), ('attention', 243), ('attenuated', 244), ('attractive', 245), ('attributed', 246), ('australia', 247), ('authority', 248), ('autoimmune', 249), ('automatic', 250), ('availability', 251), ('average', 252), ('averaging', 253), ('avoid', 254), ('avoiding', 255), ('awareness', 256), ('axis', 257), ('back', 258), ('backed', 259), ('background', 260), ('bacteria', 261), ('bacterial', 262), ('balance', 263), ('ban', 264), ('band', 265), ('bar', 266), ('barcoded', 267), ('barcodes', 268), ('barrier', 269), ('base', 270), ('baseline', 271), ('basic', 272), ('basis', 273), ('bat', 274), ('batch', 275), ('bayesian', 276), ('become', 277), ('becomes', 278), ('becoming', 279), ('bed', 280), ('began', 281), ('begin', 282), ('beginning', 283), ('behavior', 284), ('behaviour', 285), ('behind', 286), ('being', 287), ('believe', 288), ('belong', 289), ('belongs', 290), ('benchmark', 291), ('benchmarked', 292), ('beneficial', 293), ('benefit', 294), ('besides', 295), ('best', 296), ('beta', 297), ('better', 298), ('beyond', 299), ('bias', 300), ('biased', 301), ('bind', 302), ('binding', 303), ('binomial', 304), ('bio', 305), ('bioinformatics', 306), ('biological', 307), ('biology', 308), ('biorxiv', 309), ('black', 310), ('block', 311), ('blocked', 312), ('blocking', 313), ('blood', 314), ('blue', 315), ('body', 316), ('border', 317), ('bottom', 318), ('bound', 319), ('boundary', 320), ('bovine', 321), ('box', 322), ('bp', 323), ('branch', 324), ('brazil', 325), ('brief', 326), ('briefly', 327), ('bring', 328), ('broad', 329), ('broader', 330), ('broadly', 331), ('bsa', 332), ('buffer', 333), ('build', 334), ('built', 335), ('burden', 336), ('burst', 337), ('business', 338), ('by', 339), ('byinternational', 340), ('calculate', 341), ('calculated', 342), ('calculating', 343), ('calculation', 344), ('calibrated', 345), ('calibration', 346), ('call', 347), ('called', 348), ('came', 349), ('canada', 350), ('candidate', 351), ('capable', 352), ('capacity', 353), ('capture', 354), ('captured', 355), ('care', 356), ('cargo', 357), ('carried', 358), ('carrier', 359), ('carry', 360), ('carrying', 361), ('case', 362), ('cases', 363), ('category', 364), ('cause', 365), ('caused', 366), ('causing', 367), ('cc', 368), ('cdc', 369), ('cdna', 370), ('cell', 371), ('cellular', 372), ('census', 373), ('center', 374), ('central', 375), ('centre', 376), ('certain', 377), ('chain', 378), ('challenge', 379), ('challenging', 380), ('chance', 381), ('change', 382), ('changed', 383), ('changing', 384), ('channel', 385), ('character', 386), ('characteristic', 387), ('characterization', 388), ('characterize', 389), ('characterized', 390), ('check', 391), ('checked', 392), ('chemical', 393), ('child', 394), ('china', 395), ('chinese', 396), ('choice', 397), ('choose', 398), ('chose', 399), ('chosen', 400), ('chronic', 401), ('ci', 402), ('circle', 403), ('circulating', 404), ('circumstance', 405), ('citizen', 406), ('city', 407), ('clade', 408), ('claim', 409), ('clarify', 410), ('class', 411), ('classical', 412), ('classification', 413), ('classified', 414), ('classify', 415), ('clean', 416), ('cleaned', 417), ('clear', 418), ('clearly', 419), ('clinical', 420), ('clinician', 421), ('clone', 422), ('cloned', 423), ('close', 424), ('closed', 425), ('closely', 426), ('closer', 427), ('closest', 428), ('closing', 429), ('closure', 430), ('cluster', 431), ('clustered', 432), ('clustering', 433), ('co', 434), ('code', 435), ('coding', 436), ('codon', 437), ('coefficient', 438), ('cohort', 439), ('coincided', 440), ('cold', 441), ('coli', 442), ('collect', 443), ('collected', 444), ('collecting', 445), ('collection', 446), ('column', 447), ('combination', 448), ('combine', 449), ('combined', 450), ('combining', 451), ('come', 452), ('coming', 453), ('commercial', 454), ('committee', 455), ('common', 456), ('commonly', 457), ('communication', 458), ('community', 459), ('comparable', 460), ('comparative', 461), ('compare', 462), ('compared', 463), ('comparing', 464), ('comparison', 465), ('compartment', 466), ('compartmental', 467), ('compensate', 468), ('competent', 469), ('compiled', 470), ('complementary', 471), ('complete', 472), ('completely', 473), ('complex', 474), ('complexity', 475), ('complicated', 476), ('complication', 477), ('component', 478), ('composed', 479), ('composition', 480), ('compound', 481), ('comprised', 482), ('computation', 483), ('computational', 484), ('compute', 485), ('computed', 486), ('computer', 487), ('computing', 488), ('concentrated', 489), ('concentration', 490), ('concept', 491), ('concern', 492), ('concerning', 493), ('conclusion', 494), ('condition', 495), ('conduct', 496), ('conducted', 497), ('confidence', 498), ('confirm', 499), ('confirmed', 500), ('confirming', 501), ('confirms', 502), ('confocal', 503), ('conjugated', 504), ('connected', 505), ('consecutive', 506), ('consensus', 507), ('consent', 508), ('consequence', 509), ('consequently', 510), ('conservation', 511), ('conservative', 512), ('conserved', 513), ('consider', 514), ('considerable', 515), ('considerably', 516), ('consideration', 517), ('considered', 518), ('considering', 519), ('considers', 520), ('consist', 521), ('consisted', 522), ('consistent', 523), ('consistently', 524), ('consisting', 525), ('consists', 526), ('constant', 527), ('constrained', 528), ('constraint', 529), ('construct', 530), ('constructed', 531), ('construction', 532), ('contact', 533), ('contagion', 534), ('contain', 535), ('contained', 536), ('containing', 537), ('containment', 538), ('contains', 539), ('contaminated', 540), ('contamination', 541), ('content', 542), ('context', 543), ('contingent', 544), ('continue', 545), ('continued', 546), ('continues', 547), ('continuous', 548), ('continuously', 549), ('contrast', 550), ('contrasting', 551), ('contribute', 552), ('contributed', 553), ('contributing', 554), ('contribution', 555), ('control', 556), ('controlled', 557), ('controlling', 558), ('conventional', 559), ('conversely', 560), ('converted', 561), ('coordinate', 562), ('copy', 563), ('core', 564), ('coronavirus', 565), ('coronaviruses', 566), ('correct', 567), ('correction', 568), ('correctly', 569), ('correlate', 570), ('correlated', 571), ('correlation', 572), ('correspond', 573), ('corresponding', 574), ('corresponds', 575), ('cost', 576), ('costly', 577), ('cough', 578), ('could', 579), ('count', 580), ('counted', 581), ('counter', 582), ('country', 583), ('county', 584), ('coupled', 585), ('course', 586), ('cov', 587), ('cover', 588), ('coverage', 589), ('covered', 590), ('covering', 591), ('covid', 592), ('covid19', 593), ('cq', 594), ('create', 595), ('created', 596), ('crisis', 597), ('crispr', 598), ('criterion', 599), ('critical', 600), ('critically', 601), ('cross', 602), ('crucial', 603), ('csse', 604), ('ct', 605), ('culture', 606), ('cumulative', 607), ('curated', 608), ('current', 609), ('currently', 610), ('curve', 611), ('custom', 612), ('cut', 613), ('cycle', 614), ('cytokine', 615), ('cytoplasm', 616), ('daily', 617), ('damage', 618), ('dashed', 619), ('database', 620), ('dataset', 621), ('datasets', 622), ('date', 623), ('day', 624), ('de', 625), ('dead', 626), ('deal', 627), ('dealing', 628), ('death', 629), ('decade', 630), ('december', 631), ('decide', 632), ('decided', 633), ('decision', 634), ('declared', 635), ('decline', 636), ('decrease', 637), ('decreased', 638), ('decreasing', 639), ('deep', 640), ('default', 641), ('define', 642), ('defined', 643), ('definition', 644), ('definitive', 645), ('degradation', 646), ('degraded', 647), ('degree', 648), ('delay', 649), ('delayed', 650), ('deletion', 651), ('delivered', 652), ('delivery', 653), ('demand', 654), ('demographic', 655), ('demonstrate', 656), ('demonstrated', 657), ('demonstrates', 658), ('denote', 659), ('denoted', 660), ('denotes', 661), ('density', 662), ('department', 663), ('depend', 664), ('dependency', 665), ('dependent', 666), ('depending', 667), ('depends', 668), ('depicted', 669), ('deposited', 670), ('depth', 671), ('derivative', 672), ('derive', 673), ('derived', 674), ('describe', 675), ('described', 676), ('describes', 677), ('describing', 678), ('description', 679), ('design', 680), ('designated', 681), ('designed', 682), ('desirable', 683), ('despite', 684), ('destination', 685), ('detail', 686), ('detailed', 687), ('detect', 688), ('detected', 689), ('detection', 690), ('determination', 691), ('determine', 692), ('determined', 693), ('determining', 694), ('develop', 695), ('developed', 696), ('developing', 697), ('development', 698), ('deviation', 699), ('device', 700), ('diagnosed', 701), ('diagnosis', 702), ('diagnostic', 703), ('diagram', 704), ('diamond', 705), ('dichotomy', 706), ('die', 707), ('died', 708), ('differ', 709), ('difference', 710), ('different', 711), ('differential', 712), ('differently', 713), ('difficult', 714), ('diffuse', 715), ('digested', 716), ('digital', 717), ('diluted', 718), ('dimension', 719), ('dimensional', 720), ('direct', 721), ('directed', 722), ('direction', 723), ('directly', 724), ('discarded', 725), ('discarding', 726), ('discharge', 727), ('discovered', 728), ('discovery', 729), ('discrepancy', 730), ('discus', 731), ('discussed', 732), ('discussion', 733), ('disease', 734), ('display', 735), ('displayed', 736), ('disrupt', 737), ('dissemination', 738), ('distance', 739), ('distancing', 740), ('distinct', 741), ('distinguish', 742), ('distress', 743), ('distributed', 744), ('distribution', 745), ('diverse', 746), ('diversity', 747), ('divided', 748), ('dna', 749), ('dnase', 750), ('documented', 751), ('domain', 752), ('domestic', 753), ('done', 754), ('dose', 755), ('dot', 756), ('double', 757), ('down', 758), ('downloaded', 759), ('downstream', 760), ('dramatic', 761), ('dramatically', 762), ('drastically', 763), ('drawn', 764), ('drive', 765), ('driven', 766), ('driver', 767), ('drop', 768), ('droplet', 769), ('drug', 770), ('dsrna', 771), ('dt', 772), ('dual', 773), ('due', 774), ('duration', 775), ('dye', 776), ('dynamic', 777), ('earlier', 778), ('early', 779), ('easily', 780), ('east', 781), ('easy', 782), ('ebola', 783), ('economic', 784), ('edge', 785), ('edta', 786), ('effect', 787), ('effective', 788), ('effectively', 789), ('effectiveness', 790), ('efficacy', 791), ('efficiency', 792), ('efficient', 793), ('efficiently', 794), ('effort', 795), ('eg', 796), ('egg', 797), ('eight', 798), ('either', 799), ('elderly', 800), ('electronic', 801), ('electrostatic', 802), ('element', 803), ('elevated', 804), ('elimination', 805), ('else', 806), ('eluted', 807), ('emerge', 808), ('emerged', 809), ('emergence', 810), ('emergency', 811), ('emerging', 812), ('emission', 813), ('emphasize', 814), ('empirical', 815), ('empirically', 816), ('employ', 817), ('employed', 818), ('employee', 819), ('empty', 820), ('enable', 821), ('encode', 822), ('encoded', 823), ('encodes', 824), ('encoding', 825), ('end', 826), ('ended', 827), ('ending', 828), ('endogenous', 829), ('engine', 830), ('engineering', 831), ('england', 832), ('enhance', 833), ('enhanced', 834), ('enough', 835), ('ensure', 836), ('ensuring', 837), ('entered', 838), ('entering', 839), ('enters', 840), ('entire', 841), ('entirely', 842), ('entry', 843), ('enveloped', 844), ('environment', 845), ('environmental', 846), ('envision', 847), ('enzyme', 848), ('epidemic', 849), ('epidemiological', 850), ('epidemiologist', 851), ('epidemiology', 852), ('epithelial', 853), ('epitope', 854), ('eq', 855), ('equal', 856), ('equally', 857), ('equation', 858), ('equilibrium', 859), ('equipment', 860), ('equivalent', 861), ('er', 862), ('eradication', 863), ('error', 864), ('especially', 865), ('essential', 866), ('essentially', 867), ('establish', 868), ('established', 869), ('estimate', 870), ('estimated', 871), ('estimating', 872), ('estimation', 873), ('etc', 874), ('ethical', 875), ('europe', 876), ('european', 877), ('evaluate', 878), ('evaluated', 879), ('evaluating', 880), ('evaluation', 881), ('even', 882), ('event', 883), ('eventually', 884), ('ever', 885), ('every', 886), ('evidence', 887), ('evident', 888), ('evolution', 889), ('evolutionary', 890), ('evolving', 891), ('ex', 892), ('exacerbate', 893), ('exact', 894), ('exactly', 895), ('examination', 896), ('examine', 897), ('examined', 898), ('example', 899), ('exceed', 900), ('except', 901), ('exception', 902), ('excess', 903), ('excessive', 904), ('excitation', 905), ('exclude', 906), ('excluded', 907), ('excluding', 908), ('exclusion', 909), ('exclusively', 910), ('exhibit', 911), ('exhibiting', 912), ('exist', 913), ('existence', 914), ('existing', 915), ('exists', 916), ('exit', 917), ('expand', 918), ('expanded', 919), ('expands', 920), ('expansion', 921), ('expect', 922), ('expected', 923), ('experience', 924), ('experienced', 925), ('experiencing', 926), ('experiment', 927), ('experimental', 928), ('expert', 929), ('explain', 930), ('explained', 931), ('explanation', 932), ('explicitly', 933), ('explore', 934), ('explored', 935), ('exponential', 936), ('exponentially', 937), ('exposed', 938), ('exposure', 939), ('express', 940), ('expressed', 941), ('expressing', 942), ('expression', 943), ('extend', 944), ('extended', 945), ('extending', 946), ('extension', 947), ('extensive', 948), ('extensively', 949), ('extent', 950), ('extra', 951), ('extracellular', 952), ('extract', 953), ('extracted', 954), ('extraction', 955), ('extreme', 956), ('extremely', 957), ('f1', 958), ('face', 959), ('facilitate', 960), ('facilitated', 961), ('facilitates', 962), ('facility', 963), ('facing', 964), ('fact', 965), ('factor', 966), ('failed', 967), ('fails', 968), ('failure', 969), ('fair', 970), ('fairly', 971), ('fall', 972), ('false', 973), ('family', 974), ('far', 975), ('fast', 976), ('faster', 977), ('fatality', 978), ('favor', 979), ('favorable', 980), ('fda', 981), ('feature', 982), ('feb', 983), ('february', 984), ('federal', 985), ('female', 986), ('fetal', 987), ('fever', 988), ('fewer', 989), ('fewest', 990), ('field', 991), ('fig', 992), ('figure', 993), ('file', 994), ('filter', 995), ('filtered', 996), ('final', 997), ('finally', 998), ('financial', 999), ('find', 1000), ('finding', 1001), ('first', 1002), ('firstly', 1003), ('fisher', 1004), ('fit', 1005), ('fitted', 1006), ('fitting', 1007), ('five', 1008), ('fixed', 1009), ('flag', 1010), ('flat', 1011), ('flight', 1012), ('flow', 1013), ('flu', 1014), ('fluid', 1015), ('fluorescence', 1016), ('fluorescent', 1017), ('focus', 1018), ('focused', 1019), ('focusing', 1020), ('fold', 1021), ('follow', 1022), ('followed', 1023), ('following', 1024), ('follows', 1025), ('food', 1026), ('force', 1027), ('forecast', 1028), ('forecasting', 1029), ('form', 1030), ('formal', 1031), ('format', 1032), ('formation', 1033), ('formed', 1034), ('former', 1035), ('forming', 1036), ('formula', 1037), ('formulated', 1038), ('formulation', 1039), ('forward', 1040), ('found', 1041), ('four', 1042), ('fourth', 1043), ('fraction', 1044), ('fragment', 1045), ('frame', 1046), ('framework', 1047), ('france', 1048), ('free', 1049), ('frequency', 1050), ('frequent', 1051), ('frequently', 1052), ('full', 1053), ('fully', 1054), ('function', 1055), ('functional', 1056), ('furthermore', 1057), ('fused', 1058), ('fusion', 1059), ('future', 1060), ('gain', 1061), ('gamma', 1062), ('gap', 1063), ('gathered', 1064), ('gathering', 1065), ('ge', 1066), ('gel', 1067), ('genbank', 1068), ('gender', 1069), ('gene', 1070), ('geneious', 1071), ('general', 1072), ('generally', 1073), ('generate', 1074), ('generated', 1075), ('generates', 1076), ('generating', 1077), ('generation', 1078), ('genetic', 1079), ('genome', 1080), ('genomic', 1081), ('genomics', 1082), ('genotype', 1083), ('genus', 1084), ('geographic', 1085), ('geographical', 1086), ('germany', 1087), ('get', 1088), ('getting', 1089), ('gfp', 1090), ('gibco', 1091), ('gisaid', 1092), ('githubcom', 1093), ('give', 1094), ('given', 1095), ('global', 1096), ('globally', 1097), ('globe', 1098), ('glycoprotein', 1099), ('go', 1100), ('goal', 1101), ('going', 1102), ('good', 1103), ('government', 1104), ('governmental', 1105), ('grade', 1106), ('gradient', 1107), ('gradual', 1108), ('gradually', 1109), ('grant', 1110), ('granted', 1111), ('graph', 1112), ('graphpad', 1113), ('great', 1114), ('greater', 1115), ('greatest', 1116), ('greatly', 1117), ('green', 1118), ('ground', 1119), ('group', 1120), ('grouped', 1121), ('growing', 1122), ('grows', 1123), ('growth', 1124), ('guangdong', 1125), ('guess', 1126), ('guide', 1127), ('h1n1', 1128), ('half', 1129), ('hand', 1130), ('happen', 1131), ('happened', 1132), ('hard', 1133), ('health', 1134), ('healthcare', 1135), ('healthy', 1136), ('heavily', 1137), ('heavy', 1138), ('held', 1139), ('help', 1140), ('hence', 1141), ('herd', 1142), ('herein', 1143), ('heterogeneity', 1144), ('heterogeneous', 1145), ('high', 1146), ('higher', 1147), ('highest', 1148), ('highlight', 1149), ('highlighted', 1150), ('highlighting', 1151), ('highly', 1152), ('histogram', 1153), ('historical', 1154), ('history', 1155), ('hit', 1156), ('hiv', 1157), ('hold', 1158), ('holiday', 1159), ('home', 1160), ('homologous', 1161), ('homology', 1162), ('hopkins', 1163), ('hospital', 1164), ('hospitalization', 1165), ('hospitalized', 1166), ('host', 1167), ('hour', 1168), ('household', 1169), ('http', 1170), ('hub', 1171), ('hubei', 1172), ('huge', 1173), ('human', 1174), ('humidity', 1175), ('hundred', 1176), ('hypothesis', 1177), ('hypothesized', 1178), ('iata', 1179), ('icu', 1180), ('id', 1181), ('idea', 1182), ('identical', 1183), ('identification', 1184), ('identified', 1185), ('identify', 1186), ('identifying', 1187), ('identity', 1188), ('ie', 1189), ('ii', 1190), ('iii', 1191), ('ill', 1192), ('illness', 1193), ('illumina', 1194), ('illustrate', 1195), ('illustrates', 1196), ('illustration', 1197), ('image', 1198), ('imaged', 1199), ('imaging', 1200), ('immediately', 1201), ('immune', 1202), ('immunity', 1203), ('immunodeficiency', 1204), ('impact', 1205), ('impacted', 1206), ('implement', 1207), ('implementation', 1208), ('implemented', 1209), ('implicated', 1210), ('implication', 1211), ('implicitly', 1212), ('implies', 1213), ('imply', 1214), ('importance', 1215), ('important', 1216), ('importantly', 1217), ('importation', 1218), ('impose', 1219), ('imposed', 1220), ('impossible', 1221), ('improve', 1222), ('improved', 1223), ('improvement', 1224), ('improves', 1225), ('in', 1226), ('incidence', 1227), ('incident', 1228), ('include', 1229), ('included', 1230), ('includes', 1231), ('including', 1232), ('inclusion', 1233), ('incomplete', 1234), ('incorporate', 1235), ('incorporating', 1236), ('incorrect', 1237), ('increase', 1238), ('increased', 1239), ('increasing', 1240), ('increasingly', 1241), ('incubated', 1242), ('incubating', 1243), ('incubation', 1244), ('indeed', 1245), ('independent', 1246), ('independently', 1247), ('index', 1248), ('india', 1249), ('indicate', 1250), ('indicated', 1251), ('indicates', 1252), ('indicating', 1253), ('indication', 1254), ('indicative', 1255), ('indicator', 1256), ('indirect', 1257), ('individual', 1258), ('individually', 1259), ('induce', 1260), ('induced', 1261), ('induction', 1262), ('infect', 1263), ('infected', 1264), ('infecting', 1265), ('infection', 1266), ('infectious', 1267), ('infectiousness', 1268), ('infer', 1269), ('inference', 1270), ('inferred', 1271), ('inflammation', 1272), ('inflammatory', 1273), ('influence', 1274), ('influenced', 1275), ('influenza', 1276), ('inform', 1277), ('information', 1278), ('informative', 1279), ('informed', 1280), ('infrastructure', 1281), ('inhibit', 1282), ('inhibiting', 1283), ('inhibition', 1284), ('inhibitor', 1285), ('initial', 1286), ('initially', 1287), ('initiated', 1288), ('initiation', 1289), ('initiative', 1290), ('injection', 1291), ('injury', 1292), ('inner', 1293), ('input', 1294), ('inserted', 1295), ('inside', 1296), ('insight', 1297), ('instance', 1298), ('instead', 1299), ('institute', 1300), ('institutional', 1301), ('instruction', 1302), ('insufficient', 1303), ('integrated', 1304), ('integrating', 1305), ('integration', 1306), ('integrity', 1307), ('intelligence', 1308), ('intensity', 1309), ('intensive', 1310), ('interact', 1311), ('interacting', 1312), ('interaction', 1313), ('interactive', 1314), ('interacts', 1315), ('interest', 1316), ('interesting', 1317), ('interestingly', 1318), ('interface', 1319), ('interferon', 1320), ('internal', 1321), ('international', 1322), ('interpret', 1323), ('interpretation', 1324), ('interpreted', 1325), ('interquartile', 1326), ('interval', 1327), ('intervention', 1328), ('intracellular', 1329), ('intrinsic', 1330), ('introduce', 1331), ('introduced', 1332), ('introducing', 1333), ('introduction', 1334), ('invasion', 1335), ('investigate', 1336), ('investigated', 1337), ('investigating', 1338), ('investigation', 1339), ('investigator', 1340), ('invitrogen', 1341), ('involve', 1342), ('involved', 1343), ('involvement', 1344), ('involves', 1345), ('involving', 1346), ('ip', 1347), ('iran', 1348), ('irrespective', 1349), ('isolate', 1350), ('isolated', 1351), ('isolates', 1352), ('isolation', 1353), ('issue', 1354), ('italy', 1355), ('iteration', 1356), ('iv', 1357), ('january', 1358), ('japan', 1359), ('john', 1360), ('journal', 1361), ('judged', 1362), ('june', 1363), ('keep', 1364), ('kept', 1365), ('key', 1366), ('kidney', 1367), ('kind', 1368), ('kinetics', 1369), ('kingdom', 1370), ('kit', 1371), ('know', 1372), ('knowing', 1373), ('knowledge', 1374), ('known', 1375), ('korea', 1376), ('lab', 1377), ('label', 1378), ('labeled', 1379), ('labelled', 1380), ('labor', 1381), ('laboratory', 1382), ('lack', 1383), ('lacking', 1384), ('lag', 1385), ('language', 1386), ('large', 1387), ('largely', 1388), ('larger', 1389), ('largest', 1390), ('laser', 1391), ('last', 1392), ('lastly', 1393), ('late', 1394), ('latency', 1395), ('later', 1396), ('latest', 1397), ('latter', 1398), ('law', 1399), ('layer', 1400), ('le', 1401), ('lead', 1402), ('leading', 1403), ('leaf', 1404), ('learning', 1405), ('least', 1406), ('leaving', 1407), ('led', 1408), ('left', 1409), ('length', 1410), ('lesser', 1411), ('let', 1412), ('level', 1413), ('li', 1414), ('library', 1415), ('lie', 1416), ('life', 1417), ('ligate', 1418), ('ligation', 1419), ('light', 1420), ('like', 1421), ('likelihood', 1422), ('likely', 1423), ('limit', 1424), ('limitation', 1425), ('limited', 1426), ('limiting', 1427), ('line', 1428), ('lineage', 1429), ('linear', 1430), ('link', 1431), ('linked', 1432), ('list', 1433), ('listed', 1434), ('literature', 1435), ('little', 1436), ('live', 1437), ('liver', 1438), ('living', 1439), ('loaded', 1440), ('local', 1441), ('localization', 1442), ('localized', 1443), ('located', 1444), ('location', 1445), ('lockdown', 1446), ('locus', 1447), ('log', 1448), ('logarithmic', 1449), ('logistic', 1450), ('long', 1451), ('longer', 1452), ('longitudinal', 1453), ('loop', 1454), ('loss', 1455), ('lot', 1456), ('low', 1457), ('lower', 1458), ('lowest', 1459), ('luciferase', 1460), ('lung', 1461), ('lysis', 1462), ('machine', 1463), ('made', 1464), ('mafft', 1465), ('magnitude', 1466), ('main', 1467), ('mainland', 1468), ('mainly', 1469), ('maintain', 1470), ('maintained', 1471), ('maintaining', 1472), ('major', 1473), ('majority', 1474), ('make', 1475), ('maker', 1476), ('making', 1477), ('malaysia', 1478), ('male', 1479), ('mammal', 1480), ('mammalian', 1481), ('manage', 1482), ('management', 1483), ('manner', 1484), ('manually', 1485), ('manufacturer', 1486), ('manuscript', 1487), ('many', 1488), ('map', 1489), ('mapped', 1490), ('mapping', 1491), ('mar', 1492), ('march', 1493), ('marchth', 1494), ('mark', 1495), ('marked', 1496), ('markedly', 1497), ('marker', 1498), ('market', 1499), ('markov', 1500), ('mask', 1501), ('mass', 1502), ('massachusetts', 1503), ('match', 1504), ('matched', 1505), ('matching', 1506), ('material', 1507), ('mathematical', 1508), ('matlab', 1509), ('matrix', 1510), ('mature', 1511), ('max', 1512), ('maximal', 1513), ('maximum', 1514), ('mcherry', 1515), ('mean', 1516), ('meaning', 1517), ('meaningful', 1518), ('measles', 1519), ('measure', 1520), ('measured', 1521), ('measurement', 1522), ('mechanical', 1523), ('mechanism', 1524), ('median', 1525), ('mediandays', 1526), ('mediated', 1527), ('medical', 1528), ('medicine', 1529), ('medium', 1530), ('medrxiv', 1531), ('meeting', 1532), ('member', 1533), ('membrane', 1534), ('mentioned', 1535), ('merging', 1536), ('mers', 1537), ('metapopulation', 1538), ('method', 1539), ('methodology', 1540), ('metric', 1541), ('mexico', 1542), ('microscope', 1543), ('microscopy', 1544), ('middle', 1545), ('might', 1546), ('mild', 1547), ('million', 1548), ('millipore', 1549), ('mimic', 1550), ('min', 1551), ('mini', 1552), ('minimal', 1553), ('minimize', 1554), ('minimizing', 1555), ('minimum', 1556), ('mining', 1557), ('minion', 1558), ('ministry', 1559), ('minor', 1560), ('minus', 1561), ('minute', 1562), ('misleading', 1563), ('mismatch', 1564), ('missed', 1565), ('missing', 1566), ('mitigate', 1567), ('mitigating', 1568), ('mitigation', 1569), ('mix', 1570), ('mixed', 1571), ('mixing', 1572), ('mixture', 1573), ('ml', 1574), ('mm', 1575), ('mobile', 1576), ('mode', 1577), ('model', 1578), ('modeled', 1579), ('modeling', 1580), ('modelled', 1581), ('modelling', 1582), ('moderate', 1583), ('modern', 1584), ('modification', 1585), ('modified', 1586), ('module', 1587), ('molecular', 1588), ('molecule', 1589), ('moment', 1590), ('monitor', 1591), ('monitored', 1592), ('month', 1593), ('monthly', 1594), ('moreover', 1595), ('mortality', 1596), ('mostly', 1597), ('motif', 1598), ('mouse', 1599), ('move', 1600), ('movement', 1601), ('moving', 1602), ('mrna', 1603), ('much', 1604), ('multi', 1605), ('multiple', 1606), ('multiplexed', 1607), ('multiplied', 1608), ('must', 1609), ('mutated', 1610), ('mutation', 1611), ('mutational', 1612), ('na', 1613), ('nacl', 1614), ('name', 1615), ('named', 1616), ('namely', 1617), ('nanopore', 1618), ('nasal', 1619), ('nation', 1620), ('national', 1621), ('natural', 1622), ('nature', 1623), ('nc', 1624), ('ncbi', 1625), ('ncinternational', 1626), ('ncov', 1627), ('ndinternational', 1628), ('near', 1629), ('nearly', 1630), ('neb', 1631), ('necessarily', 1632), ('necessary', 1633), ('need', 1634), ('needed', 1635), ('negative', 1636), ('negligible', 1637), ('neighbor', 1638), ('neighboring', 1639), ('neither', 1640), ('net', 1641), ('network', 1642), ('never', 1643), ('nevertheless', 1644), ('new', 1645), ('newly', 1646), ('news', 1647), ('next', 1648), ('ng', 1649), ('nine', 1650), ('nm', 1651), ('node', 1652), ('noise', 1653), ('non', 1654), ('none', 1655), ('nonetheless', 1656), ('normal', 1657), ('normalized', 1658), ('normally', 1659), ('north', 1660), ('notable', 1661), ('notably', 1662), ('note', 1663), ('noted', 1664), ('notice', 1665), ('noticed', 1666), ('noting', 1667), ('novel', 1668), ('novo', 1669), ('nt', 1670), ('nuclear', 1671), ('nuclease', 1672), ('nucleic', 1673), ('nucleotide', 1674), ('numerous', 1675), ('objective', 1676), ('observation', 1677), ('observe', 1678), ('observed', 1679), ('obtain', 1680), ('obtained', 1681), ('obtaining', 1682), ('obvious', 1683), ('occasionally', 1684), ('occupancy', 1685), ('occupied', 1686), ('occur', 1687), ('occurred', 1688), ('occurrence', 1689), ('occurring', 1690), ('occurs', 1691), ('of', 1692), ('off', 1693), ('offer', 1694), ('offering', 1695), ('official', 1696), ('often', 1697), ('omitted', 1698), ('on', 1699), ('ongoing', 1700), ('online', 1701), ('only', 1702), ('onset', 1703), ('onto', 1704), ('open', 1705), ('operating', 1706), ('opinion', 1707), ('opportunity', 1708), ('opposed', 1709), ('opposite', 1710), ('optimal', 1711), ('optimization', 1712), ('optimize', 1713), ('optimized', 1714), ('option', 1715), ('or', 1716), ('oral', 1717), ('order', 1718), ('ordered', 1719), ('ordinary', 1720), ('orf', 1721), ('organ', 1722), ('organisation', 1723), ('organization', 1724), ('organized', 1725), ('origin', 1726), ('original', 1727), ('originally', 1728), ('originate', 1729), ('originated', 1730), ('originating', 1731), ('others', 1732), ('otherwise', 1733), ('out', 1734), ('outbreak', 1735), ('outcome', 1736), ('outlined', 1737), ('outperforms', 1738), ('output', 1739), ('outside', 1740), ('over', 1741), ('overall', 1742), ('overcome', 1743), ('overestimate', 1744), ('overlap', 1745), ('overlapping', 1746), ('overwhelming', 1747), ('oxford', 1748), ('package', 1749), ('page', 1750), ('pain', 1751), ('pair', 1752), ('pairwise', 1753), ('pan', 1754), ('pandemic', 1755), ('panel', 1756), ('paper', 1757), ('parallel', 1758), ('parameter', 1759), ('parent', 1760), ('part', 1761), ('partial', 1762), ('partially', 1763), ('participant', 1764), ('particle', 1765), ('particular', 1766), ('particularly', 1767), ('partner', 1768), ('pas', 1769), ('passed', 1770), ('passenger', 1771), ('passing', 1772), ('passive', 1773), ('past', 1774), ('patch', 1775), ('path', 1776), ('pathogen', 1777), ('pathogenesis', 1778), ('pathogenic', 1779), ('pathogenicity', 1780), ('pathology', 1781), ('pathway', 1782), ('patient', 1783), ('pattern', 1784), ('pb', 1785), ('pcr', 1786), ('pdf', 1787), ('peak', 1788), ('pearson', 1789), ('people', 1790), ('peptide', 1791), ('per', 1792), ('percent', 1793), ('percentage', 1794), ('perfectly', 1795), ('perform', 1796), ('performance', 1797), ('performed', 1798), ('performing', 1799), ('performs', 1800), ('perhaps', 1801), ('period', 1802), ('perioddays', 1803), ('periodically', 1804), ('peripheral', 1805), ('permanent', 1806), ('permission', 1807), ('perpetuity', 1808), ('person', 1809), ('personal', 1810), ('personnel', 1811), ('perspective', 1812), ('pertinent', 1813), ('pharmaceutical', 1814), ('phase', 1815), ('phenomenon', 1816), ('phenotype', 1817), ('phone', 1818), ('phylogenetic', 1819), ('phylogeny', 1820), ('physical', 1821), ('physiological', 1822), ('picture', 1823), ('pipeline', 1824), ('place', 1825), ('placed', 1826), ('plan', 1827), ('planning', 1828), ('plasma', 1829), ('plasmid', 1830), ('plate', 1831), ('platform', 1832), ('plausible', 1833), ('play', 1834), ('plot', 1835), ('plotting', 1836), ('plus', 1837), ('pneumonia', 1838), ('point', 1839), ('pointed', 1840), ('policy', 1841), ('poly', 1842), ('polymerase', 1843), ('pool', 1844), ('pooled', 1845), ('poor', 1846), ('population', 1847), ('populationmillion', 1848), ('portion', 1849), ('pose', 1850), ('position', 1851), ('positive', 1852), ('positively', 1853), ('possibility', 1854), ('possible', 1855), ('possibly', 1856), ('post', 1857), ('posterior', 1858), ('potential', 1859), ('potentially', 1860), ('power', 1861), ('practical', 1862), ('practice', 1863), ('pre', 1864), ('precaution', 1865), ('preceded', 1866), ('precise', 1867), ('precisely', 1868), ('precision', 1869), ('predefined', 1870), ('predict', 1871), ('predicted', 1872), ('predicting', 1873), ('prediction', 1874), ('predictive', 1875), ('predictor', 1876), ('predicts', 1877), ('preference', 1878), ('preferentially', 1879), ('preferred', 1880), ('preliminary', 1881), ('preparation', 1882), ('prepare', 1883), ('prepared', 1884), ('preparedness', 1885), ('presence', 1886), ('present', 1887), ('presentation', 1888), ('presented', 1889), ('presenting', 1890), ('presumed', 1891), ('prevalence', 1892), ('prevalent', 1893), ('prevent', 1894), ('preventing', 1895), ('prevention', 1896), ('prevents', 1897), ('previous', 1898), ('previously', 1899), ('price', 1900), ('primarily', 1901), ('primary', 1902), ('primer', 1903), ('prior', 1904), ('priority', 1905), ('pro', 1906), ('probability', 1907), ('probably', 1908), ('probe', 1909), ('problem', 1910), ('procedure', 1911), ('process', 1912), ('processed', 1913), ('processing', 1914), ('produce', 1915), ('produced', 1916), ('producing', 1917), ('product', 1918), ('production', 1919), ('professional', 1920), ('profile', 1921), ('profiling', 1922), ('program', 1923), ('progress', 1924), ('progression', 1925), ('project', 1926), ('projected', 1927), ('projection', 1928), ('promising', 1929), ('promote', 1930), ('promoter', 1931), ('prompt', 1932), ('prone', 1933), ('pronounced', 1934), ('propensity', 1935), ('proper', 1936), ('property', 1937), ('proportion', 1938), ('proportional', 1939), ('propose', 1940), ('proposed', 1941), ('protease', 1942), ('protect', 1943), ('protected', 1944), ('protecting', 1945), ('protection', 1946), ('protective', 1947), ('protein', 1948), ('protocol', 1949), ('prove', 1950), ('proven', 1951), ('provide', 1952), ('provided', 1953), ('provides', 1954), ('providing', 1955), ('province', 1956), ('provision', 1957), ('proximal', 1958), ('proximity', 1959), ('proxy', 1960), ('public', 1961), ('publication', 1962), ('publicly', 1963), ('published', 1964), ('pubmed', 1965), ('pulmonary', 1966), ('purification', 1967), ('purified', 1968), ('purpose', 1969), ('put', 1970), ('putative', 1971), ('qpcr', 1972), ('quality', 1973), ('quantification', 1974), ('quantified', 1975), ('quantify', 1976), ('quantifying', 1977), ('quantitative', 1978), ('quantitatively', 1979), ('quantity', 1980), ('quarantine', 1981), ('quarantined', 1982), ('queried', 1983), ('query', 1984), ('question', 1985), ('quick', 1986), ('quickly', 1987), ('quite', 1988), ('r0', 1989), ('ra', 1990), ('rabbit', 1991), ('race', 1992), ('raise', 1993), ('raised', 1994), ('random', 1995), ('randomly', 1996), ('range', 1997), ('ranging', 1998), ('rank', 1999), ('ranked', 2000), ('ranking', 2001), ('rapid', 2002), ('rapidly', 2003), ('rare', 2004), ('rarely', 2005), ('rate', 2006), ('rather', 2007), ('ratio', 2008), ('raw', 2009), ('re', 2010), ('reach', 2011), ('reached', 2012), ('reaching', 2013), ('reaction', 2014), ('reactive', 2015), ('read', 2016), ('readily', 2017), ('reading', 2018), ('reagent', 2019), ('real', 2020), ('reason', 2021), ('reasonable', 2022), ('reasoned', 2023), ('received', 2024), ('receiving', 2025), ('recent', 2026), ('recently', 2027), ('receptor', 2028), ('recognize', 2029), ('recognized', 2030), ('recombinant', 2031), ('recombination', 2032), ('recommend', 2033), ('recommendation', 2034), ('recommended', 2035), ('reconstruction', 2036), ('record', 2037), ('recorded', 2038), ('recover', 2039), ('recovered', 2040), ('recovery', 2041), ('red', 2042), ('reduce', 2043), ('reduced', 2044), ('reduces', 2045), ('reducing', 2046), ('reduction', 2047), ('refer', 2048), ('reference', 2049), ('referred', 2050), ('refers', 2051), ('reflect', 2052), ('reflected', 2053), ('reflects', 2054), ('refseq', 2055), ('regarding', 2056), ('regardless', 2057), ('regime', 2058), ('region', 2059), ('regional', 2060), ('regression', 2061), ('regular', 2062), ('regularly', 2063), ('regulated', 2064), ('regulator', 2065), ('regulatory', 2066), ('related', 2067), ('relating', 2068), ('relationship', 2069), ('relative', 2070), ('relatively', 2071), ('relax', 2072), ('relaxed', 2073), ('release', 2074), ('released', 2075), ('relevant', 2076), ('reliability', 2077), ('reliable', 2078), ('relies', 2079), ('rely', 2080), ('remain', 2081), ('remained', 2082), ('remaining', 2083), ('remains', 2084), ('remdesivir', 2085), ('removal', 2086), ('remove', 2087), ('removed', 2088), ('removing', 2089), ('repair', 2090), ('repeated', 2091), ('replace', 2092), ('replicate', 2093), ('replication', 2094), ('report', 2095), ('reported', 2096), ('reporter', 2097), ('reporting', 2098), ('repository', 2099), ('represent', 2100), ('representation', 2101), ('representative', 2102), ('represented', 2103), ('representing', 2104), ('represents', 2105), ('reproduce', 2106), ('reproduction', 2107), ('reproductive', 2108), ('repurposing', 2109), ('request', 2110), ('require', 2111), ('required', 2112), ('requirement', 2113), ('requires', 2114), ('requiring', 2115), ('research', 2116), ('researcher', 2117), ('resemble', 2118), ('reserved', 2119), ('reservoir', 2120), ('resident', 2121), ('residual', 2122), ('residue', 2123), ('resistance', 2124), ('resolution', 2125), ('resolved', 2126), ('resource', 2127), ('respect', 2128), ('respective', 2129), ('respectively', 2130), ('respiratory', 2131), ('responding', 2132), ('response', 2133), ('responsibility', 2134), ('responsible', 2135), ('rest', 2136), ('restricted', 2137), ('restriction', 2138), ('result', 2139), ('resulted', 2140), ('resulting', 2141), ('retain', 2142), ('retrieved', 2143), ('return', 2144), ('returned', 2145), ('returning', 2146), ('reuse', 2147), ('reveal', 2148), ('revealed', 2149), ('reveals', 2150), ('reverse', 2151), ('review', 2152), ('right', 2153), ('rigorous', 2154), ('ring', 2155), ('rise', 2156), ('risk', 2157), ('rna', 2158), ('rnai', 2159), ('rnase', 2160), ('robust', 2161), ('robustly', 2162), ('robustness', 2163), ('role', 2164), ('room', 2165), ('root', 2166), ('roughly', 2167), ('route', 2168), ('routine', 2169), ('rt', 2170), ('rule', 2171), ('run', 2172), ('running', 2173), ('s1', 2174), ('s10', 2175), ('s11', 2176), ('s2', 2177), ('s3', 2178), ('s4', 2179), ('s5', 2180), ('s6', 2181), ('s7', 2182), ('s8', 2183), ('s9', 2184), ('safe', 2185), ('sample', 2186), ('sampled', 2187), ('sampling', 2188), ('sars', 2189), ('saturation', 2190), ('say', 2191), ('scalable', 2192), ('scale', 2193), ('scaled', 2194), ('scan', 2195), ('scanning', 2196), ('scattered', 2197), ('scenario', 2198), ('scheduled', 2199), ('schematic', 2200), ('scheme', 2201), ('school', 2202), ('science', 2203), ('scientific', 2204), ('score', 2205), ('scored', 2206), ('scoring', 2207), ('screen', 2208), ('screened', 2209), ('screening', 2210), ('script', 2211), ('se', 2212), ('seafood', 2213), ('search', 2214), ('searched', 2215), ('season', 2216), ('seasonal', 2217), ('sec', 2218), ('second', 2219), ('secondary', 2220), ('secondly', 2221), ('section', 2222), ('see', 2223), ('seed', 2224), ('seeded', 2225), ('seek', 2226), ('seeking', 2227), ('seems', 2228), ('seen', 2229), ('seir', 2230), ('select', 2231), ('selected', 2232), ('selection', 2233), ('self', 2234), ('sense', 2235), ('sensing', 2236), ('sensitive', 2237), ('sensitivity', 2238), ('separate', 2239), ('separated', 2240), ('separately', 2241), ('seq', 2242), ('sequence', 2243), ('sequenced', 2244), ('sequencing', 2245), ('sequential', 2246), ('serial', 2247), ('series', 2248), ('serine', 2249), ('serious', 2250), ('serum', 2251), ('serve', 2252), ('service', 2253), ('serving', 2254), ('set', 2255), ('setting', 2256), ('seven', 2257), ('several', 2258), ('severe', 2259), ('severely', 2260), ('severity', 2261), ('sex', 2262), ('shanghai', 2263), ('shape', 2264), ('share', 2265), ('shared', 2266), ('sharing', 2267), ('sheet', 2268), ('shift', 2269), ('shifting', 2270), ('short', 2271), ('shortage', 2272), ('shortcoming', 2273), ('shorter', 2274), ('show', 2275), ('showed', 2276), ('showing', 2277), ('shown', 2278), ('shut', 2279), ('shutdown', 2280), ('sick', 2281), ('sickness', 2282), ('side', 2283), ('sigma', 2284), ('sign', 2285), ('signal', 2286), ('signature', 2287), ('significance', 2288), ('significant', 2289), ('significantly', 2290), ('similar', 2291), ('similarity', 2292), ('similarly', 2293), ('simple', 2294), ('simplicity', 2295), ('simplified', 2296), ('simplify', 2297), ('simply', 2298), ('simulated', 2299), ('simulation', 2300), ('simultaneously', 2301), ('since', 2302), ('singapore', 2303), ('single', 2304), ('sirna', 2305), ('site', 2306), ('situation', 2307), ('six', 2308), ('sixth', 2309), ('size', 2310), ('skewed', 2311), ('slightly', 2312), ('slow', 2313), ('slower', 2314), ('slowing', 2315), ('slowly', 2316), ('small', 2317), ('smaller', 2318), ('smallest', 2319), ('social', 2320), ('societal', 2321), ('society', 2322), ('software', 2323), ('solely', 2324), ('solid', 2325), ('solution', 2326), ('solve', 2327), ('solvent', 2328), ('someone', 2329), ('sophisticated', 2330), ('sorted', 2331), ('sorting', 2332), ('sought', 2333), ('source', 2334), ('south', 2335), ('southern', 2336), ('sp', 2337), ('space', 2338), ('spain', 2339), ('spatial', 2340), ('spatially', 2341), ('specie', 2342), ('species', 2343), ('specific', 2344), ('specifically', 2345), ('specificity', 2346), ('specified', 2347), ('specimen', 2348), ('spectrum', 2349), ('speculate', 2350), ('speed', 2351), ('spike', 2352), ('split', 2353), ('spread', 2354), ('spreading', 2355), ('square', 2356), ('squared', 2357), ('ssrna', 2358), ('stability', 2359), ('stable', 2360), ('staff', 2361), ('stage', 2362), ('standard', 2363), ('start', 2364), ('started', 2365), ('starting', 2366), ('state', 2367), ('stated', 2368), ('statistic', 2369), ('statistical', 2370), ('statistically', 2371), ('status', 2372), ('stay', 2373), ('steady', 2374), ('stem', 2375), ('step', 2376), ('still', 2377), ('stochastic', 2378), ('stop', 2379), ('stopped', 2380), ('stored', 2381), ('storm', 2382), ('straightforward', 2383), ('strain', 2384), ('stranded', 2385), ('strategy', 2386), ('strength', 2387), ('stress', 2388), ('stretch', 2389), ('strict', 2390), ('string', 2391), ('strong', 2392), ('stronger', 2393), ('strongly', 2394), ('structural', 2395), ('structure', 2396), ('structured', 2397), ('struggle', 2398), ('studied', 2399), ('sub', 2400), ('subject', 2401), ('subjected', 2402), ('submitted', 2403), ('subsequent', 2404), ('subsequently', 2405), ('subset', 2406), ('substantial', 2407), ('substantially', 2408), ('substitution', 2409), ('success', 2410), ('successful', 2411), ('successfully', 2412), ('sudden', 2413), ('suffering', 2414), ('sufficient', 2415), ('sufficiently', 2416), ('suggest', 2417), ('suggested', 2418), ('suggesting', 2419), ('suggestion', 2420), ('suggests', 2421), ('suitable', 2422), ('suited', 2423), ('sum', 2424), ('summarize', 2425), ('summarized', 2426), ('summarizes', 2427), ('summary', 2428), ('summer', 2429), ('sun', 2430), ('superior', 2431), ('supernatant', 2432), ('supplemental', 2433), ('supplementary', 2434), ('supplemented', 2435), ('supply', 2436), ('support', 2437), ('supported', 2438), ('supporting', 2439), ('suppression', 2440), ('surface', 2441), ('surprisingly', 2442), ('surrounding', 2443), ('surveillance', 2444), ('survey', 2445), ('survival', 2446), ('susceptibility', 2447), ('susceptible', 2448), ('suspected', 2449), ('sustained', 2450), ('swab', 2451), ('switched', 2452), ('symptom', 2453), ('symptomatic', 2454), ('syndrome', 2455), ('synonym', 2456), ('synonymous', 2457), ('synthesis', 2458), ('synthesized', 2459), ('synthetic', 2460), ('system', 2461), ('systematic', 2462), ('systematically', 2463), ('systemic', 2464), ('t7', 2465), ('table', 2466), ('tag', 2467), ('tagged', 2468), ('tail', 2469), ('tailed', 2470), ('take', 2471), ('taken', 2472), ('taking', 2473), ('target', 2474), ('targeted', 2475), ('targeting', 2476), ('task', 2477), ('taxonomy', 2478), ('team', 2479), ('technical', 2480), ('technique', 2481), ('technology', 2482), ('temperature', 2483), ('template', 2484), ('temporal', 2485), ('ten', 2486), ('tend', 2487), ('tendency', 2488), ('tends', 2489), ('term', 2490), ('termed', 2491), ('terminal', 2492), ('terminated', 2493), ('territory', 2494), ('test', 2495), ('tested', 2496), ('testing', 2497), ('text', 2498), ('thailand', 2499), ('thank', 2500), ('the', 2501), ('theoretical', 2502), ('theory', 2503), ('therapeutic', 2504), ('therapy', 2505), ('thereby', 2506), ('therefore', 2507), ('thermo', 2508), ('third', 2509), ('though', 2510), ('thought', 2511), ('thousand', 2512), ('threat', 2513), ('three', 2514), ('threshold', 2515), ('thresholding', 2516), ('throughout', 2517), ('throughput', 2518), ('thus', 2519), ('till', 2520), ('timely', 2521), ('timing', 2522), ('tip', 2523), ('tissue', 2524), ('titer', 2525), ('title', 2526), ('to', 2527), ('together', 2528), ('took', 2529), ('tool', 2530), ('toolkit', 2531), ('top', 2532), ('topic', 2533), ('topology', 2534), ('total', 2535), ('totalcases', 2536), ('touch', 2537), ('towards', 2538), ('toxicity', 2539), ('tracing', 2540), ('track', 2541), ('tracking', 2542), ('tract', 2543), ('trade', 2544), ('traditional', 2545), ('traffic', 2546), ('trained', 2547), ('training', 2548), ('transcribed', 2549), ('transcript', 2550), ('transcriptase', 2551), ('transcription', 2552), ('transfected', 2553), ('transfection', 2554), ('transfer', 2555), ('transferred', 2556), ('transformation', 2557), ('transformed', 2558), ('transition', 2559), ('translate', 2560), ('translated', 2561), ('translational', 2562), ('transmissibility', 2563), ('transmission', 2564), ('transmit', 2565), ('transmitted', 2566), ('transport', 2567), ('transportation', 2568), ('travel', 2569), ('traveled', 2570), ('traveler', 2571), ('traveling', 2572), ('treat', 2573), ('treated', 2574), ('treating', 2575), ('treatment', 2576), ('tree', 2577), ('trend', 2578), ('triage', 2579), ('trial', 2580), ('triggered', 2581), ('trim', 2582), ('trimmed', 2583), ('trip', 2584), ('tropical', 2585), ('true', 2586), ('try', 2587), ('turn', 2588), ('turned', 2589), ('twenty', 2590), ('type', 2591), ('typical', 2592), ('typically', 2593), ('ubiquitous', 2594), ('ubiquitously', 2595), ('uk', 2596), ('ultimately', 2597), ('unable', 2598), ('uncertain', 2599), ('uncertainty', 2600), ('unclear', 2601), ('underlying', 2602), ('understand', 2603), ('understanding', 2604), ('understood', 2605), ('undertaken', 2606), ('undetected', 2607), ('unexpected', 2608), ('unexpectedly', 2609), ('uniform', 2610), ('unique', 2611), ('unit', 2612), ('united', 2613), ('university', 2614), ('unknown', 2615), ('unlike', 2616), ('unlikely', 2617), ('unprecedented', 2618), ('up', 2619), ('update', 2620), ('updated', 2621), ('upon', 2622), ('upper', 2623), ('upstream', 2624), ('urgent', 2625), ('us', 2626), ('usa', 2627), ('usage', 2628), ('use', 2629), ('useful', 2630), ('user', 2631), ('usual', 2632), ('usually', 2633), ('utility', 2634), ('utilize', 2635), ('utilized', 2636), ('utilizes', 2637), ('utr', 2638), ('uv', 2639), ('vaccination', 2640), ('vaccine', 2641), ('valid', 2642), ('validate', 2643), ('validated', 2644), ('validation', 2645), ('valuable', 2646), ('value', 2647), ('values', 2648), ('variability', 2649), ('variable', 2650), ('variance', 2651), ('variant', 2652), ('variation', 2653), ('varies', 2654), ('variety', 2655), ('various', 2656), ('vary', 2657), ('varying', 2658), ('vector', 2659), ('ventilation', 2660), ('verification', 2661), ('verified', 2662), ('verify', 2663), ('versa', 2664), ('version', 2665), ('versus', 2666), ('vertical', 2667), ('via', 2668), ('viable', 2669), ('vice', 2670), ('view', 2671), ('viral', 2672), ('virion', 2673), ('virological', 2674), ('virology', 2675), ('virus', 2676), ('visible', 2677), ('visit', 2678), ('visiting', 2679), ('visualization', 2680), ('visualize', 2681), ('visualized', 2682), ('vital', 2683), ('vitro', 2684), ('vivo', 2685), ('volume', 2686), ('vulnerable', 2687), ('waiting', 2688), ('wang', 2689), ('want', 2690), ('ward', 2691), ('warning', 2692), ('wash', 2693), ('washed', 2694), ('washing', 2695), ('water', 2696), ('way', 2697), ('weak', 2698), ('weather', 2699), ('web', 2700), ('website', 2701), ('week', 2702), ('weekly', 2703), ('weight', 2704), ('weighted', 2705), ('well', 2706), ('went', 2707), ('western', 2708), ('whereas', 2709), ('whereby', 2710), ('whether', 2711), ('whole', 2712), ('whose', 2713), ('wide', 2714), ('widely', 2715), ('widespread', 2716), ('wild', 2717), ('window', 2718), ('winter', 2719), ('within', 2720), ('word', 2721), ('work', 2722), ('worker', 2723), ('workflow', 2724), ('world', 2725), ('worldwide', 2726), ('worse', 2727), ('worst', 2728), ('worth', 2729), ('would', 2730), ('written', 2731), ('wu', 2732), ('wuhan', 2733), ('wwwgisaidorg', 2734), ('wwwncbinlmnihgov', 2735), ('yang', 2736), ('year', 2737), ('yellow', 2738), ('yet', 2739), ('yield', 2740), ('yielded', 2741), ('york', 2742), ('zero', 2743), ('zhou', 2744), ('µg', 2745), ('µl', 2746)]\n",
      "[[0.      0.      0.      ... 0.      0.      0.     ]\n",
      " [0.      0.      0.      ... 0.      0.      0.     ]\n",
      " [0.      0.      0.      ... 0.      0.      0.     ]\n",
      " ...\n",
      " [0.      0.      0.      ... 0.      0.      0.     ]\n",
      " [0.      0.      0.      ... 0.      0.      0.     ]\n",
      " [0.      0.      0.      ... 0.03763 0.      0.     ]]\n"
     ]
    }
   ],
   "source": [
    "#create a tf-idf matrix for the words above\n",
    "v = TfidfVectorizer(sublinear_tf = True, min_df = 0.05,max_df = 0.8)\n",
    "#For the above vectorizer, the first paramater specifies that the 1+log(tf) is going to be used instead of tf.\n",
    "#The second parameter specifies that if a term appears in less than 5% of the docs, ignore it\n",
    "#The third parameter, considers word that do not occur in more than 80% of the corpus\n",
    "tfidf = v.fit_transform(lemmatized_text) #fit and transform the lemmatized texts which were previously cleaned.\n",
    "print(sorted(v.vocabulary_.items(), key=lambda x : x[1]))\n",
    "print(tfidf.toarray())"
   ]
  },
  {
   "cell_type": "markdown",
   "metadata": {},
   "source": [
    "<h5>Cosine Similarity</h5>\n",
    "<p> Cosine similarity is then utilized to get the documents which are closest to the query. The closer the cosine similairty value is to 1, the closer the document is to the query (The more likely it is going to be output). However, for this notebook, we choose to display the top 5 papers with cosine similarity greater than or equal <i>0.05</i></p>"
   ]
  },
  {
   "cell_type": "markdown",
   "metadata": {},
   "source": [
    "TO BE DONE BY MARWA: ALLOW THE USER TO SPECIFIY THE NUMBER OF PAPERS THEY NEED BELOW."
   ]
  },
  {
   "cell_type": "code",
   "execution_count": null,
   "metadata": {},
   "outputs": [],
   "source": [
    "\n",
    "#Next, the search engine will be implemented with the help of the tf-idf matrix created above and the cosine similarity\n",
    "flag = False # a flag to indicate whether or not a result is found\n",
    "pd.set_option('display.max_colwidth', -1)#to avoid dataframe column's data truncation\n",
    "query = input(\"Enter your query: \") #get the query from the user\n",
    "finalQuery=\"\" #create an empty string\n",
    "words = query.split(' ') #split the query on spaces\n",
    "for word in words: #for each word in the query\n",
    "    word = word.lower()\n",
    "    if(word!=\"\"): #if the word is not an empty string\n",
    "        if (word==\"coronaviruses\"):#since lemmatize functions do not recognize the word coronaviruses as the plural of coronavirus, a conidition was created\n",
    "            word =\"coronavirus\"\n",
    "        lem_query = lemmatizer.lemmatize(word)#lemmatize the word\n",
    "        finalQuery+=lem_query+\" \" #lemmatize the word and concat it to the string finalQuery\n",
    "query = [finalQuery.strip()]# remove any trailing spaces from the query\n",
    "query_tfidf = v.transform(query)\n",
    "cosineSimilarities = cosine_similarity(query_tfidf, tfidf).flatten() #get the cosine similarity list \n",
    "#IF NO RESULT\n",
    "print(cosineSimilarities)\n",
    "countzero_in2 = np.count_nonzero(cosineSimilarities) #get the number of non zero values in cosine similarity\n",
    "print(countzero_in2)\n",
    "if (countzero_in2==0):#if no cosine similarity which is =/= 0\n",
    "    flag = True\n",
    "\n",
    "else:\n",
    "    if (countzero_in2>=5):#if there are more than 5 values greater than 5 output them\n",
    "        answer_indicies = sorted(range(len(cosineSimilarities)), key=lambda i: cosineSimilarities[i])[-5:] #get the top 5 indices with the highest cosine similarity\n",
    "    else:\n",
    "        answer_indicies = sorted(range(len(cosineSimilarities)), key=lambda i: cosineSimilarities[i])[-countzero_in2:] #get the top countzero_in2 indices with the highest cosine \n",
    "        "
   ]
  },
  {
   "cell_type": "code",
   "execution_count": null,
   "metadata": {},
   "outputs": [],
   "source": [
    "if (flag == False):\n",
    "    values = [] # a list which will hold the cosine value of each paper outputted\n",
    "    for i in answer_indicies:\n",
    "        values.append(cosineSimilarities[i])\n",
    "    print(values)\n",
    "    print(answer_indicies)\n",
    "    plt.figure(figsize=(7, 5))\n",
    "    plt.bar(answer_indicies, values)\n",
    "    plt.xlabel('Paper Index in Data Frame')\n",
    "    plt.ylabel('Cosine Similarity Value')\n",
    "    plt.title('Top Papers Retreived Cosine Similarity')\n",
    "    plt.show()"
   ]
  },
  {
   "cell_type": "markdown",
   "metadata": {},
   "source": [
    "<p>In the below cell, the code verifies whether or not the cosine similarity is >=0.05.  </p>"
   ]
  },
  {
   "cell_type": "code",
   "execution_count": null,
   "metadata": {},
   "outputs": [],
   "source": [
    "#loop on the top 5 indicies and display the title, abstract, and fulltext of the paper that was fetched from the search\n",
    "if (flag == True):\n",
    "    print(\"Sorry, no results\")\n",
    "else:\n",
    "    counter =0\n",
    "    for index in answer_indicies:\n",
    "        if (cosineSimilarities[index]>=0.05):\n",
    "            display(FullPaperDataframe.iloc[[index]]['title'])\n",
    "        else:\n",
    "            counter = counter+1\n",
    "    if (counter == len(cosineSimilarities)):\n",
    "        print(\"Sorry, no results\")"
   ]
  },
  {
   "cell_type": "markdown",
   "metadata": {},
   "source": [
    "<h4>STEP 4: LITERATURE CLUSTERING</h4>"
   ]
  },
  {
   "cell_type": "markdown",
   "metadata": {},
   "source": [
    "<p>The second part of this notebook attempts to before K-Means clustering on the papers, such that each group of papers related together via certain keywords are grouped together.</p> "
   ]
  },
  {
   "cell_type": "markdown",
   "metadata": {},
   "source": [
    "<h5>Dimensionality Reduction</h5>\n",
    "<p>At this stage, we have lots of features/words in the TIF-IDF matrix. However, to allow the K-means to perform better, dimensionality reduction is needed. Therefore, the PCA algorithm is chosen, as it is known that it performs well with K-Means </p>"
   ]
  },
  {
   "cell_type": "code",
   "execution_count": null,
   "metadata": {},
   "outputs": [],
   "source": [
    "from sklearn.decomposition import PCA #import PCA which will be used to reduce the dimensions of the dataset\n",
    "\n",
    "pca = PCA(n_components=0.90,random_state=30)#keep 90% of the variance, and start random centroid @ 30\n",
    "tf_idf_norm_kmeans= pca.fit_transform(tfidf.toarray())"
   ]
  },
  {
   "cell_type": "markdown",
   "metadata": {},
   "source": [
    "<h5>Elbow testing </h5>\n",
    "<p>In order to determine how many clusters are needed for the K-means. A graph is plotted, the point at which the elbow forms is then searched. That value should be used as the number of clusters. </p>"
   ]
  },
  {
   "cell_type": "code",
   "execution_count": null,
   "metadata": {},
   "outputs": [],
   "source": [
    "from sklearn.cluster import KMeans #import kmeans which will be used to cluster the data\n",
    "\n",
    "\n",
    "max_number_of_clusters = 9 #clusters can range from 2-max_number_of_clusters\n",
    "max_number_of_clusters = max_number_of_clusters+1 # since the range method is exclusive, a 1 should be added.\n",
    "Ks = range(2, max_number_of_clusters, 1) #Hold the range of clusters k (from 2-max_number_of_clusters)\n",
    "    \n",
    "sum_of_squared_distances = [] #a list which will carry the sum of squared distances at each k\n",
    "for k in tqdm(Ks):\n",
    "    sum_of_squared_distances.append(KMeans(n_clusters=k,random_state=30).fit(tf_idf_norm_kmeans).inertia_)#calculate the sum of squared distance for each k.\n",
    "        \n",
    "  #plot the elbow graph      \n",
    "f, ax = plt.subplots(1, 1)\n",
    "ax.plot(Ks, sum_of_squared_distances, marker='o')\n",
    "ax.set_xlabel('Cluster Centroid')\n",
    "ax.set_xticks(Ks)\n",
    "ax.set_xticklabels(Ks)\n",
    "ax.set_ylabel('Sum of Squared Distances')\n",
    "ax.set_title('Sum of Squared Distances VS. Clusters')\n",
    "plt.figure(figsize=(20,20))"
   ]
  },
  {
   "cell_type": "markdown",
   "metadata": {},
   "source": [
    "<h5>Elbow Graph Analysis </h5>\n",
    "<p>As exhibited in the graph above the elbow forms at k = 7</p>\n",
    "<h1 style =\"color:red\"> CHANGE K WHEN YOU RUN ALL THE DATASET. The above is for 50 papers</h1>"
   ]
  },
  {
   "cell_type": "markdown",
   "metadata": {},
   "source": [
    "<h5> K-Means clustering</h5>\n",
    "<p>Now that the number of clusters is known, k-means can be performed as shown in the cell below </p>"
   ]
  },
  {
   "cell_type": "code",
   "execution_count": null,
   "metadata": {},
   "outputs": [],
   "source": [
    "clusters = KMeans(n_clusters=7,random_state=30).fit_predict(tf_idf_norm_kmeans) #from the elbow graph we get the n_clusters\n",
    "df =FullPaperDataframe.head(50).copy(deep=True)  #create a new df which will hold the papers attribute along with the cluster number"
   ]
  },
  {
   "cell_type": "markdown",
   "metadata": {},
   "source": [
    "<p>In the below cell, the cluster to which the paper belongs is added to the dataframe</p>"
   ]
  },
  {
   "cell_type": "code",
   "execution_count": null,
   "metadata": {},
   "outputs": [],
   "source": [
    "df['clusters'] = clusters\n",
    "df.head() #display the head"
   ]
  },
  {
   "cell_type": "markdown",
   "metadata": {},
   "source": [
    "<h1 style=\"color:red\">MISSING PLOTTING, TSNE, KEYWORD (THEME) CATEGORIZATION</h1> "
   ]
  },
  {
   "cell_type": "code",
   "execution_count": null,
   "metadata": {},
   "outputs": [],
   "source": [
    "# taged_abs=[]\n",
    "# nouns=[]\n",
    "# # tagging the clean data\n",
    "# for val in clean_abs:\n",
    "#     taged_abs.append(pos_tag(val.split()))\n",
    "# # extracting the nouns\n",
    "# for i in range(len(taged_abs)):\n",
    "#     doc=[]\n",
    "#     for j in range(len(taged_abs[i])):\n",
    "#         if(taged_abs[i][j][1]=='NN' or taged_abs[i][j][1]=='NNS'):\n",
    "#             doc.append(taged_abs[i][j][0])\n",
    "#     nouns.append(doc)\n",
    "        \n",
    "# print(nouns)\n",
    "\n"
   ]
  },
  {
   "cell_type": "markdown",
   "metadata": {},
   "source": [
    "Above we dcided to calculate the tf-idf so that we can represent every word that is present in the abstract quatitavily. By doing so we can further use the results in order model the topic according to the abstract that we just quatified.Furthermore we will use (Non-negative Matrix Factorization) NMF in order to come up with topic's that carry most weight in the abstract. To accomplish this we are going to filter all the nouns that are avaliable in the abstract and use them to represent the different topis that are avaliable."
   ]
  }
 ],
 "metadata": {
  "kernelspec": {
   "display_name": "Python 3",
   "language": "python",
   "name": "python3"
  },
  "language_info": {
   "codemirror_mode": {
    "name": "ipython",
    "version": 3
   },
   "file_extension": ".py",
   "mimetype": "text/x-python",
   "name": "python",
   "nbconvert_exporter": "python",
   "pygments_lexer": "ipython3",
   "version": "3.6.5"
  }
 },
 "nbformat": 4,
 "nbformat_minor": 4
}
